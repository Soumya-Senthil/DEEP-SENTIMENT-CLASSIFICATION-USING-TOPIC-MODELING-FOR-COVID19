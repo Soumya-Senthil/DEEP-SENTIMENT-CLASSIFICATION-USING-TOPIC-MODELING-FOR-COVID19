{
 "cells": [
  {
   "cell_type": "code",
   "execution_count": 2,
   "id": "5e8c007e",
   "metadata": {},
   "outputs": [],
   "source": [
    "from textblob import TextBlob\n",
    "import pandas as pd\n",
    "import re\n",
    "import nltk\n",
    "import string\n",
    "import tweepy\n",
    "import numpy as np"
   ]
  },
  {
   "cell_type": "code",
   "execution_count": 64,
   "id": "abe08073",
   "metadata": {
    "scrolled": true
   },
   "outputs": [],
   "source": [
    "dataset = pd.read_csv('final.csv' , encoding='mac_roman', engine='python')"
   ]
  },
  {
   "cell_type": "code",
   "execution_count": 57,
   "id": "9dc9c794",
   "metadata": {},
   "outputs": [],
   "source": [
    "df= pd.read_csv('dataset.csv' , encoding='mac_roman', engine='python')\n",
    "df = df.head(5)"
   ]
  },
  {
   "cell_type": "code",
   "execution_count": 58,
   "id": "0c2334e7",
   "metadata": {},
   "outputs": [],
   "source": [
    "import re"
   ]
  },
  {
   "cell_type": "code",
   "execution_count": 65,
   "id": "d7d1711c",
   "metadata": {},
   "outputs": [
    {
     "data": {
      "text/html": [
       "<div>\n",
       "<style scoped>\n",
       "    .dataframe tbody tr th:only-of-type {\n",
       "        vertical-align: middle;\n",
       "    }\n",
       "\n",
       "    .dataframe tbody tr th {\n",
       "        vertical-align: top;\n",
       "    }\n",
       "\n",
       "    .dataframe thead th {\n",
       "        text-align: right;\n",
       "    }\n",
       "</style>\n",
       "<table border=\"1\" class=\"dataframe\">\n",
       "  <thead>\n",
       "    <tr style=\"text-align: right;\">\n",
       "      <th></th>\n",
       "      <th>tweets</th>\n",
       "      <th>tweet_processed</th>\n",
       "    </tr>\n",
       "  </thead>\n",
       "  <tbody>\n",
       "    <tr>\n",
       "      <th>0</th>\n",
       "      <td>Completely healthy 19 year old develops life t...</td>\n",
       "      <td>Completely healthy 19 year old develops life t...</td>\n",
       "    </tr>\n",
       "    <tr>\n",
       "      <th>1</th>\n",
       "      <td>I see #FauciDogTorturer trending. Beagles are ...</td>\n",
       "      <td>I see #FauciDogTorturer trending Beagles are r...</td>\n",
       "    </tr>\n",
       "    <tr>\n",
       "      <th>2</th>\n",
       "      <td>30 million doses of #CovidVaccine ready to go ...</td>\n",
       "      <td>30 million doses of #CovidVaccine ready to go ...</td>\n",
       "    </tr>\n",
       "    <tr>\n",
       "      <th>3</th>\n",
       "      <td>The world isn't just battling the coronavirus ...</td>\n",
       "      <td>The world isn't just battling the coronavirus ...</td>\n",
       "    </tr>\n",
       "    <tr>\n",
       "      <th>4</th>\n",
       "      <td>Not good news for ppl on anti-CD20 meds. #Ritu...</td>\n",
       "      <td>Not good news for ppl on anti-CD20 meds #Ritux...</td>\n",
       "    </tr>\n",
       "  </tbody>\n",
       "</table>\n",
       "</div>"
      ],
      "text/plain": [
       "                                              tweets  \\\n",
       "0  Completely healthy 19 year old develops life t...   \n",
       "1  I see #FauciDogTorturer trending. Beagles are ...   \n",
       "2  30 million doses of #CovidVaccine ready to go ...   \n",
       "3  The world isn't just battling the coronavirus ...   \n",
       "4  Not good news for ppl on anti-CD20 meds. #Ritu...   \n",
       "\n",
       "                                     tweet_processed  \n",
       "0  Completely healthy 19 year old develops life t...  \n",
       "1  I see #FauciDogTorturer trending Beagles are r...  \n",
       "2  30 million doses of #CovidVaccine ready to go ...  \n",
       "3  The world isn't just battling the coronavirus ...  \n",
       "4  Not good news for ppl on anti-CD20 meds #Ritux...  "
      ]
     },
     "execution_count": 65,
     "metadata": {},
     "output_type": "execute_result"
    }
   ],
   "source": [
    "df['tweet_processed'] = df['tweets'].map(lambda x: re.sub('[,\\\\.!?]', '', x)) #remove special characters \n",
    "df"
   ]
  },
  {
   "cell_type": "code",
   "execution_count": 66,
   "id": "225c0762",
   "metadata": {},
   "outputs": [
    {
     "data": {
      "text/html": [
       "<div>\n",
       "<style scoped>\n",
       "    .dataframe tbody tr th:only-of-type {\n",
       "        vertical-align: middle;\n",
       "    }\n",
       "\n",
       "    .dataframe tbody tr th {\n",
       "        vertical-align: top;\n",
       "    }\n",
       "\n",
       "    .dataframe thead th {\n",
       "        text-align: right;\n",
       "    }\n",
       "</style>\n",
       "<table border=\"1\" class=\"dataframe\">\n",
       "  <thead>\n",
       "    <tr style=\"text-align: right;\">\n",
       "      <th></th>\n",
       "      <th>tweets</th>\n",
       "      <th>tweet_processed</th>\n",
       "    </tr>\n",
       "  </thead>\n",
       "  <tbody>\n",
       "    <tr>\n",
       "      <th>0</th>\n",
       "      <td>Completely healthy 19 year old develops life t...</td>\n",
       "      <td>completely healthy 19 year old develops life t...</td>\n",
       "    </tr>\n",
       "    <tr>\n",
       "      <th>1</th>\n",
       "      <td>I see #FauciDogTorturer trending. Beagles are ...</td>\n",
       "      <td>i see #faucidogtorturer trending beagles are r...</td>\n",
       "    </tr>\n",
       "    <tr>\n",
       "      <th>2</th>\n",
       "      <td>30 million doses of #CovidVaccine ready to go ...</td>\n",
       "      <td>30 million doses of #covidvaccine ready to go ...</td>\n",
       "    </tr>\n",
       "    <tr>\n",
       "      <th>3</th>\n",
       "      <td>The world isn't just battling the coronavirus ...</td>\n",
       "      <td>the world isn't just battling the coronavirus ...</td>\n",
       "    </tr>\n",
       "    <tr>\n",
       "      <th>4</th>\n",
       "      <td>Not good news for ppl on anti-CD20 meds. #Ritu...</td>\n",
       "      <td>not good news for ppl on anti-cd20 meds #ritux...</td>\n",
       "    </tr>\n",
       "  </tbody>\n",
       "</table>\n",
       "</div>"
      ],
      "text/plain": [
       "                                              tweets  \\\n",
       "0  Completely healthy 19 year old develops life t...   \n",
       "1  I see #FauciDogTorturer trending. Beagles are ...   \n",
       "2  30 million doses of #CovidVaccine ready to go ...   \n",
       "3  The world isn't just battling the coronavirus ...   \n",
       "4  Not good news for ppl on anti-CD20 meds. #Ritu...   \n",
       "\n",
       "                                     tweet_processed  \n",
       "0  completely healthy 19 year old develops life t...  \n",
       "1  i see #faucidogtorturer trending beagles are r...  \n",
       "2  30 million doses of #covidvaccine ready to go ...  \n",
       "3  the world isn't just battling the coronavirus ...  \n",
       "4  not good news for ppl on anti-cd20 meds #ritux...  "
      ]
     },
     "execution_count": 66,
     "metadata": {},
     "output_type": "execute_result"
    }
   ],
   "source": [
    "df['tweet_processed'] = df['tweet_processed'].map(lambda x: x.lower()) #change to lowercase\n",
    "df"
   ]
  },
  {
   "cell_type": "code",
   "execution_count": 67,
   "id": "d6149a9e",
   "metadata": {},
   "outputs": [
    {
     "data": {
      "text/html": [
       "<div>\n",
       "<style scoped>\n",
       "    .dataframe tbody tr th:only-of-type {\n",
       "        vertical-align: middle;\n",
       "    }\n",
       "\n",
       "    .dataframe tbody tr th {\n",
       "        vertical-align: top;\n",
       "    }\n",
       "\n",
       "    .dataframe thead th {\n",
       "        text-align: right;\n",
       "    }\n",
       "</style>\n",
       "<table border=\"1\" class=\"dataframe\">\n",
       "  <thead>\n",
       "    <tr style=\"text-align: right;\">\n",
       "      <th></th>\n",
       "      <th>tweets</th>\n",
       "      <th>tweet_processed</th>\n",
       "    </tr>\n",
       "  </thead>\n",
       "  <tbody>\n",
       "    <tr>\n",
       "      <th>0</th>\n",
       "      <td>Completely healthy 19 year old develops life t...</td>\n",
       "      <td>completely healthy 19 year old develops life t...</td>\n",
       "    </tr>\n",
       "    <tr>\n",
       "      <th>1</th>\n",
       "      <td>I see #FauciDogTorturer trending. Beagles are ...</td>\n",
       "      <td>i see faucidogtorturer trending beagles are ro...</td>\n",
       "    </tr>\n",
       "    <tr>\n",
       "      <th>2</th>\n",
       "      <td>30 million doses of #CovidVaccine ready to go ...</td>\n",
       "      <td>30 million doses of covidvaccine ready to go f...</td>\n",
       "    </tr>\n",
       "    <tr>\n",
       "      <th>3</th>\n",
       "      <td>The world isn't just battling the coronavirus ...</td>\n",
       "      <td>the world isn't just battling the coronavirus ...</td>\n",
       "    </tr>\n",
       "    <tr>\n",
       "      <th>4</th>\n",
       "      <td>Not good news for ppl on anti-CD20 meds. #Ritu...</td>\n",
       "      <td>not good news for ppl on anti-cd20 meds rituxi...</td>\n",
       "    </tr>\n",
       "  </tbody>\n",
       "</table>\n",
       "</div>"
      ],
      "text/plain": [
       "                                              tweets  \\\n",
       "0  Completely healthy 19 year old develops life t...   \n",
       "1  I see #FauciDogTorturer trending. Beagles are ...   \n",
       "2  30 million doses of #CovidVaccine ready to go ...   \n",
       "3  The world isn't just battling the coronavirus ...   \n",
       "4  Not good news for ppl on anti-CD20 meds. #Ritu...   \n",
       "\n",
       "                                     tweet_processed  \n",
       "0  completely healthy 19 year old develops life t...  \n",
       "1  i see faucidogtorturer trending beagles are ro...  \n",
       "2  30 million doses of covidvaccine ready to go f...  \n",
       "3  the world isn't just battling the coronavirus ...  \n",
       "4  not good news for ppl on anti-cd20 meds rituxi...  "
      ]
     },
     "execution_count": 67,
     "metadata": {},
     "output_type": "execute_result"
    }
   ],
   "source": [
    "df.tweet_processed = df['tweet_processed'].map(lambda x: re.sub(r'#' , '', x)) #remove hashtags \n",
    "df"
   ]
  },
  {
   "cell_type": "code",
   "execution_count": 68,
   "id": "1002ef0c",
   "metadata": {},
   "outputs": [
    {
     "data": {
      "text/html": [
       "<div>\n",
       "<style scoped>\n",
       "    .dataframe tbody tr th:only-of-type {\n",
       "        vertical-align: middle;\n",
       "    }\n",
       "\n",
       "    .dataframe tbody tr th {\n",
       "        vertical-align: top;\n",
       "    }\n",
       "\n",
       "    .dataframe thead th {\n",
       "        text-align: right;\n",
       "    }\n",
       "</style>\n",
       "<table border=\"1\" class=\"dataframe\">\n",
       "  <thead>\n",
       "    <tr style=\"text-align: right;\">\n",
       "      <th></th>\n",
       "      <th>tweets</th>\n",
       "      <th>tweet_processed</th>\n",
       "    </tr>\n",
       "  </thead>\n",
       "  <tbody>\n",
       "    <tr>\n",
       "      <th>0</th>\n",
       "      <td>Completely healthy 19 year old develops life t...</td>\n",
       "      <td>completely healthy 19 year old develops life t...</td>\n",
       "    </tr>\n",
       "    <tr>\n",
       "      <th>1</th>\n",
       "      <td>I see #FauciDogTorturer trending. Beagles are ...</td>\n",
       "      <td>i see faucidogtorturer trending beagles are ro...</td>\n",
       "    </tr>\n",
       "    <tr>\n",
       "      <th>2</th>\n",
       "      <td>30 million doses of #CovidVaccine ready to go ...</td>\n",
       "      <td>30 million doses of covidvaccine ready to go f...</td>\n",
       "    </tr>\n",
       "    <tr>\n",
       "      <th>3</th>\n",
       "      <td>The world isn't just battling the coronavirus ...</td>\n",
       "      <td>the world isn't just battling the coronavirus ...</td>\n",
       "    </tr>\n",
       "    <tr>\n",
       "      <th>4</th>\n",
       "      <td>Not good news for ppl on anti-CD20 meds. #Ritu...</td>\n",
       "      <td>not good news for ppl on anti-cd20 meds rituxi...</td>\n",
       "    </tr>\n",
       "  </tbody>\n",
       "</table>\n",
       "</div>"
      ],
      "text/plain": [
       "                                              tweets  \\\n",
       "0  Completely healthy 19 year old develops life t...   \n",
       "1  I see #FauciDogTorturer trending. Beagles are ...   \n",
       "2  30 million doses of #CovidVaccine ready to go ...   \n",
       "3  The world isn't just battling the coronavirus ...   \n",
       "4  Not good news for ppl on anti-CD20 meds. #Ritu...   \n",
       "\n",
       "                                     tweet_processed  \n",
       "0  completely healthy 19 year old develops life t...  \n",
       "1  i see faucidogtorturer trending beagles are ro...  \n",
       "2  30 million doses of covidvaccine ready to go f...  \n",
       "3  the world isn't just battling the coronavirus ...  \n",
       "4  not good news for ppl on anti-cd20 meds rituxi...  "
      ]
     },
     "execution_count": 68,
     "metadata": {},
     "output_type": "execute_result"
    }
   ],
   "source": [
    "df.tweet_processed = df['tweet_processed'].map(lambda x: re.sub(r'@[^\\s]*', \"\" , x)) #remove mentions \n",
    "df"
   ]
  },
  {
   "cell_type": "code",
   "execution_count": 69,
   "id": "b3e336fa",
   "metadata": {},
   "outputs": [
    {
     "data": {
      "text/html": [
       "<div>\n",
       "<style scoped>\n",
       "    .dataframe tbody tr th:only-of-type {\n",
       "        vertical-align: middle;\n",
       "    }\n",
       "\n",
       "    .dataframe tbody tr th {\n",
       "        vertical-align: top;\n",
       "    }\n",
       "\n",
       "    .dataframe thead th {\n",
       "        text-align: right;\n",
       "    }\n",
       "</style>\n",
       "<table border=\"1\" class=\"dataframe\">\n",
       "  <thead>\n",
       "    <tr style=\"text-align: right;\">\n",
       "      <th></th>\n",
       "      <th>tweets</th>\n",
       "      <th>tweet_processed</th>\n",
       "    </tr>\n",
       "  </thead>\n",
       "  <tbody>\n",
       "    <tr>\n",
       "      <th>0</th>\n",
       "      <td>Completely healthy 19 year old develops life t...</td>\n",
       "      <td>completely healthy 19 year old develops life t...</td>\n",
       "    </tr>\n",
       "    <tr>\n",
       "      <th>1</th>\n",
       "      <td>I see #FauciDogTorturer trending. Beagles are ...</td>\n",
       "      <td>i see faucidogtorturer trending beagles are ro...</td>\n",
       "    </tr>\n",
       "    <tr>\n",
       "      <th>2</th>\n",
       "      <td>30 million doses of #CovidVaccine ready to go ...</td>\n",
       "      <td>30 million doses of covidvaccine ready to go f...</td>\n",
       "    </tr>\n",
       "    <tr>\n",
       "      <th>3</th>\n",
       "      <td>The world isn't just battling the coronavirus ...</td>\n",
       "      <td>the world isn't just battling the coronavirus ...</td>\n",
       "    </tr>\n",
       "    <tr>\n",
       "      <th>4</th>\n",
       "      <td>Not good news for ppl on anti-CD20 meds. #Ritu...</td>\n",
       "      <td>not good news for ppl on anti-cd20 meds rituxi...</td>\n",
       "    </tr>\n",
       "  </tbody>\n",
       "</table>\n",
       "</div>"
      ],
      "text/plain": [
       "                                              tweets  \\\n",
       "0  Completely healthy 19 year old develops life t...   \n",
       "1  I see #FauciDogTorturer trending. Beagles are ...   \n",
       "2  30 million doses of #CovidVaccine ready to go ...   \n",
       "3  The world isn't just battling the coronavirus ...   \n",
       "4  Not good news for ppl on anti-CD20 meds. #Ritu...   \n",
       "\n",
       "                                     tweet_processed  \n",
       "0  completely healthy 19 year old develops life t...  \n",
       "1  i see faucidogtorturer trending beagles are ro...  \n",
       "2  30 million doses of covidvaccine ready to go f...  \n",
       "3  the world isn't just battling the coronavirus ...  \n",
       "4  not good news for ppl on anti-cd20 meds rituxi...  "
      ]
     },
     "execution_count": 69,
     "metadata": {},
     "output_type": "execute_result"
    }
   ],
   "source": [
    "df.tweet_processed = df['tweet_processed'].map(lambda x: re.sub(r'https?:\\/\\/.*[\\r\\n]*', '', x)) #remove links \n",
    "df"
   ]
  },
  {
   "cell_type": "code",
   "execution_count": 70,
   "id": "2f17c78e",
   "metadata": {},
   "outputs": [
    {
     "data": {
      "text/html": [
       "<div>\n",
       "<style scoped>\n",
       "    .dataframe tbody tr th:only-of-type {\n",
       "        vertical-align: middle;\n",
       "    }\n",
       "\n",
       "    .dataframe tbody tr th {\n",
       "        vertical-align: top;\n",
       "    }\n",
       "\n",
       "    .dataframe thead th {\n",
       "        text-align: right;\n",
       "    }\n",
       "</style>\n",
       "<table border=\"1\" class=\"dataframe\">\n",
       "  <thead>\n",
       "    <tr style=\"text-align: right;\">\n",
       "      <th></th>\n",
       "      <th>tweets</th>\n",
       "      <th>tweet_processed</th>\n",
       "    </tr>\n",
       "  </thead>\n",
       "  <tbody>\n",
       "    <tr>\n",
       "      <th>0</th>\n",
       "      <td>Completely healthy 19 year old develops life t...</td>\n",
       "      <td>completely healthy  year old develops life thr...</td>\n",
       "    </tr>\n",
       "    <tr>\n",
       "      <th>1</th>\n",
       "      <td>I see #FauciDogTorturer trending. Beagles are ...</td>\n",
       "      <td>i see faucidogtorturer trending beagles are ro...</td>\n",
       "    </tr>\n",
       "    <tr>\n",
       "      <th>2</th>\n",
       "      <td>30 million doses of #CovidVaccine ready to go ...</td>\n",
       "      <td>million doses of covidvaccine ready to go for...</td>\n",
       "    </tr>\n",
       "    <tr>\n",
       "      <th>3</th>\n",
       "      <td>The world isn't just battling the coronavirus ...</td>\n",
       "      <td>the world isn't just battling the coronavirus ...</td>\n",
       "    </tr>\n",
       "    <tr>\n",
       "      <th>4</th>\n",
       "      <td>Not good news for ppl on anti-CD20 meds. #Ritu...</td>\n",
       "      <td>not good news for ppl on anti-cd meds rituxima...</td>\n",
       "    </tr>\n",
       "  </tbody>\n",
       "</table>\n",
       "</div>"
      ],
      "text/plain": [
       "                                              tweets  \\\n",
       "0  Completely healthy 19 year old develops life t...   \n",
       "1  I see #FauciDogTorturer trending. Beagles are ...   \n",
       "2  30 million doses of #CovidVaccine ready to go ...   \n",
       "3  The world isn't just battling the coronavirus ...   \n",
       "4  Not good news for ppl on anti-CD20 meds. #Ritu...   \n",
       "\n",
       "                                     tweet_processed  \n",
       "0  completely healthy  year old develops life thr...  \n",
       "1  i see faucidogtorturer trending beagles are ro...  \n",
       "2   million doses of covidvaccine ready to go for...  \n",
       "3  the world isn't just battling the coronavirus ...  \n",
       "4  not good news for ppl on anti-cd meds rituxima...  "
      ]
     },
     "execution_count": 70,
     "metadata": {},
     "output_type": "execute_result"
    }
   ],
   "source": [
    "df.tweet_processed = df['tweet_processed'].map(lambda x: re.sub(r\"[^a-z\\s\\(\\-:\\)\\\\\\/\\];='#]\", '', x))\n",
    "df"
   ]
  },
  {
   "cell_type": "code",
   "execution_count": 72,
   "id": "589d8889",
   "metadata": {},
   "outputs": [
    {
     "data": {
      "text/html": [
       "<div>\n",
       "<style scoped>\n",
       "    .dataframe tbody tr th:only-of-type {\n",
       "        vertical-align: middle;\n",
       "    }\n",
       "\n",
       "    .dataframe tbody tr th {\n",
       "        vertical-align: top;\n",
       "    }\n",
       "\n",
       "    .dataframe thead th {\n",
       "        text-align: right;\n",
       "    }\n",
       "</style>\n",
       "<table border=\"1\" class=\"dataframe\">\n",
       "  <thead>\n",
       "    <tr style=\"text-align: right;\">\n",
       "      <th></th>\n",
       "      <th>tweets</th>\n",
       "      <th>tweet_processed</th>\n",
       "    </tr>\n",
       "  </thead>\n",
       "  <tbody>\n",
       "    <tr>\n",
       "      <th>0</th>\n",
       "      <td>Completely healthy 19 year old develops life t...</td>\n",
       "      <td>completely healthy  year old develops life thr...</td>\n",
       "    </tr>\n",
       "    <tr>\n",
       "      <th>1</th>\n",
       "      <td>I see #FauciDogTorturer trending. Beagles are ...</td>\n",
       "      <td>i see faucidogtorturer trending beagles are ro...</td>\n",
       "    </tr>\n",
       "    <tr>\n",
       "      <th>2</th>\n",
       "      <td>30 million doses of #CovidVaccine ready to go ...</td>\n",
       "      <td>million doses of covidvaccine ready to go for...</td>\n",
       "    </tr>\n",
       "    <tr>\n",
       "      <th>3</th>\n",
       "      <td>The world isn't just battling the coronavirus ...</td>\n",
       "      <td>the world isn't just battling the coronavirus ...</td>\n",
       "    </tr>\n",
       "    <tr>\n",
       "      <th>4</th>\n",
       "      <td>Not good news for ppl on anti-CD20 meds. #Ritu...</td>\n",
       "      <td>not good news for ppl on anti-cd meds rituxima...</td>\n",
       "    </tr>\n",
       "  </tbody>\n",
       "</table>\n",
       "</div>"
      ],
      "text/plain": [
       "                                              tweets  \\\n",
       "0  Completely healthy 19 year old develops life t...   \n",
       "1  I see #FauciDogTorturer trending. Beagles are ...   \n",
       "2  30 million doses of #CovidVaccine ready to go ...   \n",
       "3  The world isn't just battling the coronavirus ...   \n",
       "4  Not good news for ppl on anti-CD20 meds. #Ritu...   \n",
       "\n",
       "                                     tweet_processed  \n",
       "0  completely healthy  year old develops life thr...  \n",
       "1  i see faucidogtorturer trending beagles are ro...  \n",
       "2   million doses of covidvaccine ready to go for...  \n",
       "3  the world isn't just battling the coronavirus ...  \n",
       "4  not good news for ppl on anti-cd meds rituxima...  "
      ]
     },
     "execution_count": 72,
     "metadata": {},
     "output_type": "execute_result"
    }
   ],
   "source": [
    "df.tweet_processed = df['tweet_processed'].map(lambda x: re.sub(r'https?:\\/\\/.*[\\r\\n]*', '', x)) #remove links\n",
    "df"
   ]
  },
  {
   "cell_type": "code",
   "execution_count": 73,
   "id": "4de9920a",
   "metadata": {},
   "outputs": [],
   "source": [
    "dataset = pd.read_csv('final.csv' , encoding='mac_roman', engine='python')\n",
    "df = dataset"
   ]
  },
  {
   "cell_type": "markdown",
   "id": "a619e425",
   "metadata": {},
   "source": [
    "### Removing unwanted tweets - Remove tweets with less than 5 words"
   ]
  },
  {
   "cell_type": "code",
   "execution_count": 21,
   "id": "2141e383",
   "metadata": {
    "scrolled": true
   },
   "outputs": [
    {
     "name": "stdout",
     "output_type": "stream",
     "text": [
      "['i', 'me', 'my', 'myself', 'we', 'our', 'ours', 'ourselves', 'you', \"you're\", \"you've\", \"you'll\", \"you'd\", 'your', 'yours', 'yourself', 'yourselves', 'he', 'him', 'his', 'himself', 'she', \"she's\", 'her', 'hers', 'herself', 'it', \"it's\", 'its', 'itself', 'they', 'them', 'their', 'theirs', 'themselves', 'what', 'which', 'who', 'whom', 'this', 'that', \"that'll\", 'these', 'those', 'am', 'is', 'are', 'was', 'were', 'be', 'been', 'being', 'have', 'has', 'had', 'having', 'do', 'does', 'did', 'doing', 'a', 'an', 'the', 'and', 'but', 'if', 'or', 'because', 'as', 'until', 'while', 'of', 'at', 'by', 'for', 'with', 'about', 'against', 'between', 'into', 'through', 'during', 'before', 'after', 'above', 'below', 'to', 'from', 'up', 'down', 'in', 'out', 'on', 'off', 'over', 'under', 'again', 'further', 'then', 'once', 'here', 'there', 'when', 'where', 'why', 'how', 'all', 'any', 'both', 'each', 'few', 'more', 'most', 'other', 'some', 'such', 'no', 'nor', 'not', 'only', 'own', 'same', 'so', 'than', 'too', 'very', 's', 't', 'can', 'will', 'just', 'don', \"don't\", 'should', \"should've\", 'now', 'd', 'll', 'm', 'o', 're', 've', 'y', 'ain', 'aren', \"aren't\", 'couldn', \"couldn't\", 'didn', \"didn't\", 'doesn', \"doesn't\", 'hadn', \"hadn't\", 'hasn', \"hasn't\", 'haven', \"haven't\", 'isn', \"isn't\", 'ma', 'mightn', \"mightn't\", 'mustn', \"mustn't\", 'needn', \"needn't\", 'shan', \"shan't\", 'shouldn', \"shouldn't\", 'wasn', \"wasn't\", 'weren', \"weren't\", 'won', \"won't\", 'wouldn', \"wouldn't\"]\n"
     ]
    }
   ],
   "source": [
    "import nltk\n",
    "\n",
    "from nltk.corpus import stopwords\n",
    "print(stopwords.words('english'))"
   ]
  },
  {
   "cell_type": "code",
   "execution_count": 22,
   "id": "140077dd",
   "metadata": {},
   "outputs": [
    {
     "data": {
      "text/html": [
       "<div>\n",
       "<style scoped>\n",
       "    .dataframe tbody tr th:only-of-type {\n",
       "        vertical-align: middle;\n",
       "    }\n",
       "\n",
       "    .dataframe tbody tr th {\n",
       "        vertical-align: top;\n",
       "    }\n",
       "\n",
       "    .dataframe thead th {\n",
       "        text-align: right;\n",
       "    }\n",
       "</style>\n",
       "<table border=\"1\" class=\"dataframe\">\n",
       "  <thead>\n",
       "    <tr style=\"text-align: right;\">\n",
       "      <th></th>\n",
       "      <th>tweet_processed</th>\n",
       "      <th>token</th>\n",
       "    </tr>\n",
       "  </thead>\n",
       "  <tbody>\n",
       "    <tr>\n",
       "      <th>0</th>\n",
       "      <td>completely healthy  year old develops life thr...</td>\n",
       "      <td>completely healthy  year old develops life thr...</td>\n",
       "    </tr>\n",
       "    <tr>\n",
       "      <th>1</th>\n",
       "      <td>i see faucidogtorturer trending beagles are ro...</td>\n",
       "      <td>i see faucidogtorturer trending beagles are ro...</td>\n",
       "    </tr>\n",
       "    <tr>\n",
       "      <th>2</th>\n",
       "      <td>million doses of covidvaccine ready to go for...</td>\n",
       "      <td>million doses of covidvaccine ready to go for...</td>\n",
       "    </tr>\n",
       "    <tr>\n",
       "      <th>3</th>\n",
       "      <td>the world isn't just battling the coronavirus ...</td>\n",
       "      <td>the world isn't just battling the coronavirus ...</td>\n",
       "    </tr>\n",
       "    <tr>\n",
       "      <th>4</th>\n",
       "      <td>not good news for ppl on anti-cd meds rituxima...</td>\n",
       "      <td>not good news for ppl on anti-cd meds rituxima...</td>\n",
       "    </tr>\n",
       "    <tr>\n",
       "      <th>...</th>\n",
       "      <td>...</td>\n",
       "      <td>...</td>\n",
       "    </tr>\n",
       "    <tr>\n",
       "      <th>1906</th>\n",
       "      <td>if they put vaccine in liquor half the populat...</td>\n",
       "      <td>if they put vaccine in liquor half the populat...</td>\n",
       "    </tr>\n",
       "    <tr>\n",
       "      <th>1907</th>\n",
       "      <td>south africa wants to return india's vaccines ...</td>\n",
       "      <td>south africa wants to return india's vaccines ...</td>\n",
       "    </tr>\n",
       "    <tr>\n",
       "      <th>1908</th>\n",
       "      <td>india sends free covaxin covishield vaccines t...</td>\n",
       "      <td>india sends free covaxin covishield vaccines t...</td>\n",
       "    </tr>\n",
       "    <tr>\n",
       "      <th>1909</th>\n",
       "      <td>india is yet to endorse sputnikv as usual euro...</td>\n",
       "      <td>india is yet to endorse sputnikv as usual euro...</td>\n",
       "    </tr>\n",
       "    <tr>\n",
       "      <th>1910</th>\n",
       "      <td>covid southafrican variant detected in india h...</td>\n",
       "      <td>covid southafrican variant detected in india h...</td>\n",
       "    </tr>\n",
       "  </tbody>\n",
       "</table>\n",
       "<p>1911 rows × 2 columns</p>\n",
       "</div>"
      ],
      "text/plain": [
       "                                        tweet_processed  \\\n",
       "0     completely healthy  year old develops life thr...   \n",
       "1     i see faucidogtorturer trending beagles are ro...   \n",
       "2      million doses of covidvaccine ready to go for...   \n",
       "3     the world isn't just battling the coronavirus ...   \n",
       "4     not good news for ppl on anti-cd meds rituxima...   \n",
       "...                                                 ...   \n",
       "1906  if they put vaccine in liquor half the populat...   \n",
       "1907  south africa wants to return india's vaccines ...   \n",
       "1908  india sends free covaxin covishield vaccines t...   \n",
       "1909  india is yet to endorse sputnikv as usual euro...   \n",
       "1910  covid southafrican variant detected in india h...   \n",
       "\n",
       "                                                  token  \n",
       "0     completely healthy  year old develops life thr...  \n",
       "1     i see faucidogtorturer trending beagles are ro...  \n",
       "2      million doses of covidvaccine ready to go for...  \n",
       "3     the world isn't just battling the coronavirus ...  \n",
       "4     not good news for ppl on anti-cd meds rituxima...  \n",
       "...                                                 ...  \n",
       "1906  if they put vaccine in liquor half the populat...  \n",
       "1907  south africa wants to return india's vaccines ...  \n",
       "1908  india sends free covaxin covishield vaccines t...  \n",
       "1909  india is yet to endorse sputnikv as usual euro...  \n",
       "1910  covid southafrican variant detected in india h...  \n",
       "\n",
       "[1911 rows x 2 columns]"
      ]
     },
     "execution_count": 22,
     "metadata": {},
     "output_type": "execute_result"
    }
   ],
   "source": [
    "df_clean = df \n",
    "df_clean['token'] = df_clean['tweet_processed']\n",
    "df_clean"
   ]
  },
  {
   "cell_type": "code",
   "execution_count": 23,
   "id": "e340bb55",
   "metadata": {},
   "outputs": [
    {
     "data": {
      "text/plain": [
       "0       [completely, healthy, year, old, develops, lif...\n",
       "1       [i, see, faucidogtorturer, trending, beagles, ...\n",
       "2       [million, doses, of, covidvaccine, ready, to, ...\n",
       "3       [the, world, isn't, just, battling, the, coron...\n",
       "4       [not, good, news, for, ppl, on, anti-cd, meds,...\n",
       "                              ...                        \n",
       "1906    [if, they, put, vaccine, in, liquor, half, the...\n",
       "1907    [south, africa, wants, to, return, india's, va...\n",
       "1908    [india, sends, free, covaxin, covishield, vacc...\n",
       "1909    [india, is, yet, to, endorse, sputnikv, as, us...\n",
       "1910    [covid, southafrican, variant, detected, in, i...\n",
       "Name: token, Length: 1911, dtype: object"
      ]
     },
     "execution_count": 23,
     "metadata": {},
     "output_type": "execute_result"
    }
   ],
   "source": [
    "df_clean['token'].str.lower().str.split()"
   ]
  },
  {
   "cell_type": "code",
   "execution_count": 24,
   "id": "dcc8b96f",
   "metadata": {
    "scrolled": true
   },
   "outputs": [],
   "source": [
    "df_clean['token'] = df_clean['token'].str.split().apply(lambda x: [item for item in x if item not in stopwords.words('english')])"
   ]
  },
  {
   "cell_type": "code",
   "execution_count": 25,
   "id": "3256a0a6",
   "metadata": {},
   "outputs": [],
   "source": [
    "for i in range (0,len(df_clean)):\n",
    "    if(len(df_clean['token'][i]))<5: \n",
    "        df_clean['token'][i] = [] "
   ]
  },
  {
   "cell_type": "code",
   "execution_count": 26,
   "id": "387848b1",
   "metadata": {},
   "outputs": [],
   "source": [
    "df_clean=df_clean[df_clean.astype(str)['token'] != '[]'].reset_index(drop=True)"
   ]
  },
  {
   "cell_type": "code",
   "execution_count": null,
   "id": "a0ba90a8",
   "metadata": {},
   "outputs": [],
   "source": []
  },
  {
   "cell_type": "code",
   "execution_count": 27,
   "id": "df54dda8",
   "metadata": {
    "scrolled": true
   },
   "outputs": [
    {
     "data": {
      "text/html": [
       "<div>\n",
       "<style scoped>\n",
       "    .dataframe tbody tr th:only-of-type {\n",
       "        vertical-align: middle;\n",
       "    }\n",
       "\n",
       "    .dataframe tbody tr th {\n",
       "        vertical-align: top;\n",
       "    }\n",
       "\n",
       "    .dataframe thead th {\n",
       "        text-align: right;\n",
       "    }\n",
       "</style>\n",
       "<table border=\"1\" class=\"dataframe\">\n",
       "  <thead>\n",
       "    <tr style=\"text-align: right;\">\n",
       "      <th></th>\n",
       "      <th>tweet_processed</th>\n",
       "      <th>token</th>\n",
       "    </tr>\n",
       "  </thead>\n",
       "  <tbody>\n",
       "    <tr>\n",
       "      <th>0</th>\n",
       "      <td>completely healthy  year old develops life thr...</td>\n",
       "      <td>[completely, healthy, year, old, develops, lif...</td>\n",
       "    </tr>\n",
       "    <tr>\n",
       "      <th>1</th>\n",
       "      <td>i see faucidogtorturer trending beagles are ro...</td>\n",
       "      <td>[see, faucidogtorturer, trending, beagles, rou...</td>\n",
       "    </tr>\n",
       "    <tr>\n",
       "      <th>2</th>\n",
       "      <td>million doses of covidvaccine ready to go for...</td>\n",
       "      <td>[million, doses, covidvaccine, ready, go, scho...</td>\n",
       "    </tr>\n",
       "    <tr>\n",
       "      <th>3</th>\n",
       "      <td>the world isn't just battling the coronavirus ...</td>\n",
       "      <td>[world, battling, coronavirus, anymore, also, ...</td>\n",
       "    </tr>\n",
       "    <tr>\n",
       "      <th>4</th>\n",
       "      <td>not good news for ppl on anti-cd meds rituxima...</td>\n",
       "      <td>[good, news, ppl, anti-cd, meds, rituximab, ri...</td>\n",
       "    </tr>\n",
       "    <tr>\n",
       "      <th>...</th>\n",
       "      <td>...</td>\n",
       "      <td>...</td>\n",
       "    </tr>\n",
       "    <tr>\n",
       "      <th>1797</th>\n",
       "      <td>if they put vaccine in liquor half the populat...</td>\n",
       "      <td>[put, vaccine, liquor, half, population, would...</td>\n",
       "    </tr>\n",
       "    <tr>\n",
       "      <th>1798</th>\n",
       "      <td>south africa wants to return india's vaccines ...</td>\n",
       "      <td>[south, africa, wants, return, india's, vaccin...</td>\n",
       "    </tr>\n",
       "    <tr>\n",
       "      <th>1799</th>\n",
       "      <td>india sends free covaxin covishield vaccines t...</td>\n",
       "      <td>[india, sends, free, covaxin, covishield, vacc...</td>\n",
       "    </tr>\n",
       "    <tr>\n",
       "      <th>1800</th>\n",
       "      <td>india is yet to endorse sputnikv as usual euro...</td>\n",
       "      <td>[india, yet, endorse, sputnikv, usual, europea...</td>\n",
       "    </tr>\n",
       "    <tr>\n",
       "      <th>1801</th>\n",
       "      <td>covid southafrican variant detected in india h...</td>\n",
       "      <td>[covid, southafrican, variant, detected, india...</td>\n",
       "    </tr>\n",
       "  </tbody>\n",
       "</table>\n",
       "<p>1802 rows × 2 columns</p>\n",
       "</div>"
      ],
      "text/plain": [
       "                                        tweet_processed  \\\n",
       "0     completely healthy  year old develops life thr...   \n",
       "1     i see faucidogtorturer trending beagles are ro...   \n",
       "2      million doses of covidvaccine ready to go for...   \n",
       "3     the world isn't just battling the coronavirus ...   \n",
       "4     not good news for ppl on anti-cd meds rituxima...   \n",
       "...                                                 ...   \n",
       "1797  if they put vaccine in liquor half the populat...   \n",
       "1798  south africa wants to return india's vaccines ...   \n",
       "1799  india sends free covaxin covishield vaccines t...   \n",
       "1800  india is yet to endorse sputnikv as usual euro...   \n",
       "1801  covid southafrican variant detected in india h...   \n",
       "\n",
       "                                                  token  \n",
       "0     [completely, healthy, year, old, develops, lif...  \n",
       "1     [see, faucidogtorturer, trending, beagles, rou...  \n",
       "2     [million, doses, covidvaccine, ready, go, scho...  \n",
       "3     [world, battling, coronavirus, anymore, also, ...  \n",
       "4     [good, news, ppl, anti-cd, meds, rituximab, ri...  \n",
       "...                                                 ...  \n",
       "1797  [put, vaccine, liquor, half, population, would...  \n",
       "1798  [south, africa, wants, return, india's, vaccin...  \n",
       "1799  [india, sends, free, covaxin, covishield, vacc...  \n",
       "1800  [india, yet, endorse, sputnikv, usual, europea...  \n",
       "1801  [covid, southafrican, variant, detected, india...  \n",
       "\n",
       "[1802 rows x 2 columns]"
      ]
     },
     "execution_count": 27,
     "metadata": {},
     "output_type": "execute_result"
    }
   ],
   "source": [
    "df_clean"
   ]
  },
  {
   "cell_type": "markdown",
   "id": "06836d96",
   "metadata": {},
   "source": [
    "### Topic Modelling"
   ]
  },
  {
   "cell_type": "code",
   "execution_count": 28,
   "id": "21dceac6",
   "metadata": {},
   "outputs": [],
   "source": [
    "import numpy as np\n",
    "import pandas as pd\n",
    "import re, nltk, spacy, gensim\n",
    "# Sklearn\n",
    "from sklearn.decomposition import LatentDirichletAllocation\n",
    "from sklearn.feature_extraction.text import CountVectorizer, TfidfVectorizer\n",
    "from sklearn.model_selection import GridSearchCV\n",
    "from pprint import pprint"
   ]
  },
  {
   "cell_type": "code",
   "execution_count": 29,
   "id": "db8b7227",
   "metadata": {},
   "outputs": [],
   "source": [
    "data = df_clean.tweet_processed.values.tolist()\n",
    "# Remove Emails\n",
    "data = [re.sub(r'\\S*@\\S*\\s?', '', sent) for sent in data]\n",
    "# Remove new line characters\n",
    "data = [re.sub(r'\\s+', ' ', sent) for sent in data]\n",
    "# Remove distracting single quotes\n",
    "data = [re.sub(r\"\\'\", \"\", sent) for sent in data]\n",
    "data = [re.sub(r'https?:\\/\\/.*[\\r\\n]*', '', sent) for sent in data]"
   ]
  },
  {
   "cell_type": "code",
   "execution_count": 30,
   "id": "188ed1d7",
   "metadata": {},
   "outputs": [
    {
     "name": "stdout",
     "output_type": "stream",
     "text": [
      "[['completely', 'healthy', 'year', 'old', 'develops', 'life', 'threatening', 'blood', 'disorder', 'causing', 'her', 'to', 'bleed', 'out', 'after', 'covidvaccine', 'now', 'must', 'spend', 'the', 'rest', 'of', 'her', 'life', 'in', 'hospital', 'get', 'blood', 'transfusions']]\n"
     ]
    }
   ],
   "source": [
    "def sent_to_words(sentences):\n",
    "    for sentence in sentences:\n",
    "        yield(gensim.utils.simple_preprocess(str(sentence), deacc=True))  # deacc=True removes punctuations\n",
    "        \n",
    "data_words = list(sent_to_words(data))\n",
    "print(data_words[:1])"
   ]
  },
  {
   "cell_type": "code",
   "execution_count": 31,
   "id": "a8ee8c2e",
   "metadata": {},
   "outputs": [],
   "source": [
    "def lemmatization(texts, allowed_postags=['NOUN', 'ADJ', 'VERB', 'ADV']): #'NOUN', 'ADJ', 'VERB', 'ADV'\n",
    "    texts_out = []\n",
    "    for sent in texts:\n",
    "        doc = nlp(\" \".join(sent)) \n",
    "        texts_out.append(\" \".join([token.lemma_ if token.lemma_ not in ['-PRON-'] else '' for token in doc if token.pos_ in allowed_postags]))\n",
    "    return texts_out"
   ]
  },
  {
   "cell_type": "code",
   "execution_count": 32,
   "id": "379b427a",
   "metadata": {},
   "outputs": [],
   "source": [
    "nlp = spacy.load(\"en_core_web_sm\", disable=['parser', 'ner'])# Do lemmatization keeping only Noun, Adj, Verb, Adverb\n",
    "data_lemmatized = lemmatization(data_words, allowed_postags=['NOUN', 'VERB']) #select noun and verb\n"
   ]
  },
  {
   "cell_type": "code",
   "execution_count": 33,
   "id": "83bf227f",
   "metadata": {},
   "outputs": [
    {
     "data": {
      "text/plain": [
       "'year develop life threaten blood disorder cause bleed covidvaccine spend rest life hospital get blood transfusion'"
      ]
     },
     "execution_count": 33,
     "metadata": {},
     "output_type": "execute_result"
    }
   ],
   "source": [
    "data_lemmatized[0]"
   ]
  },
  {
   "cell_type": "markdown",
   "id": "232a23c4",
   "metadata": {},
   "source": [
    "#### The LDA topic model algorithm requires a document word matrix as the main input."
   ]
  },
  {
   "cell_type": "code",
   "execution_count": 34,
   "id": "a772c3c5",
   "metadata": {},
   "outputs": [],
   "source": [
    "vectorizer = CountVectorizer(analyzer='word',       min_df=10,\n",
    "                             stop_words='english',             \n",
    "                             lowercase=True,                   \n",
    "                             token_pattern='[a-zA-Z0-9]{3,}',  \n",
    "                             max_features=50000 )\n",
    "data_vectorized = vectorizer.fit_transform(data_lemmatized) #document-word matrix"
   ]
  },
  {
   "cell_type": "code",
   "execution_count": 35,
   "id": "682afd1f",
   "metadata": {},
   "outputs": [],
   "source": [
    "data_dense = data_vectorized.todense()"
   ]
  },
  {
   "cell_type": "code",
   "execution_count": 36,
   "id": "16edfaf6",
   "metadata": {},
   "outputs": [
    {
     "data": {
      "text/plain": [
       "<1802x284 sparse matrix of type '<class 'numpy.int64'>'\n",
       "\twith 8207 stored elements in Compressed Sparse Row format>"
      ]
     },
     "execution_count": 36,
     "metadata": {},
     "output_type": "execute_result"
    }
   ],
   "source": [
    "data_vectorized"
   ]
  },
  {
   "cell_type": "code",
   "execution_count": 37,
   "id": "002ef189",
   "metadata": {},
   "outputs": [
    {
     "name": "stdout",
     "output_type": "stream",
     "text": [
      "LatentDirichletAllocation(learning_method='online', n_components=7, n_jobs=-1,\n",
      "                          random_state=100)\n"
     ]
    }
   ],
   "source": [
    "lda_model = LatentDirichletAllocation(n_components=7,               \n",
    "                                      max_iter=10,               \n",
    "                                      learning_method='online',   \n",
    "                                      random_state=100,          \n",
    "                                      batch_size=128,            \n",
    "                                      evaluate_every = -1,       \n",
    "                                      n_jobs = -1,                                                    )\n",
    "lda_output = lda_model.fit_transform(data_vectorized)\n",
    "print(lda_model)  # Model attributes"
   ]
  },
  {
   "cell_type": "code",
   "execution_count": 38,
   "id": "8ecc845a",
   "metadata": {},
   "outputs": [
    {
     "data": {
      "text/plain": [
       "LatentDirichletAllocation(learning_decay=0.9, learning_method='online',\n",
       "                          n_components=7, n_jobs=-1, random_state=100)"
      ]
     },
     "execution_count": 38,
     "metadata": {},
     "output_type": "execute_result"
    }
   ],
   "source": [
    "LatentDirichletAllocation(batch_size=128, doc_topic_prior=None,\n",
    "             evaluate_every=-1, learning_decay=0.9,\n",
    "             learning_method='online', learning_offset=10.0,\n",
    "             max_doc_update_iter=100, max_iter=10, mean_change_tol=0.001,\n",
    "             n_components=7, n_jobs=-1, perp_tol=0.1,\n",
    "             random_state=100, topic_word_prior=None,\n",
    "             total_samples=1000000.0, verbose=0)"
   ]
  },
  {
   "cell_type": "code",
   "execution_count": 39,
   "id": "4ea8fa44",
   "metadata": {},
   "outputs": [
    {
     "name": "stdout",
     "output_type": "stream",
     "text": [
      "Log Likelihood:  -48474.198227866415\n",
      "{'batch_size': 128,\n",
      " 'doc_topic_prior': None,\n",
      " 'evaluate_every': -1,\n",
      " 'learning_decay': 0.7,\n",
      " 'learning_method': 'online',\n",
      " 'learning_offset': 10.0,\n",
      " 'max_doc_update_iter': 100,\n",
      " 'max_iter': 10,\n",
      " 'mean_change_tol': 0.001,\n",
      " 'n_components': 7,\n",
      " 'n_jobs': -1,\n",
      " 'perp_tol': 0.1,\n",
      " 'random_state': 100,\n",
      " 'topic_word_prior': None,\n",
      " 'total_samples': 1000000.0,\n",
      " 'verbose': 0}\n",
      "Perplexity:  250.98282263369958\n"
     ]
    }
   ],
   "source": [
    "print(\"Log Likelihood: \", lda_model.score(data_vectorized))\n",
    "pprint(lda_model.get_params())\n",
    "print(\"Perplexity: \", lda_model.perplexity(data_vectorized))\n"
   ]
  },
  {
   "cell_type": "code",
   "execution_count": 40,
   "id": "cc3fa84c",
   "metadata": {},
   "outputs": [],
   "source": [
    "# Create Document — Topic Matrix\n",
    "lda_output = lda_model.transform(data_vectorized)\n",
    "# column names\n",
    "topicnames = [\"Topic\" + str(i) for i in range(lda_model.n_components)]\n",
    "# index names\n",
    "docnames = [\"Doc\" + str(i) for i in range(len(data))]\n",
    "# Make the pandas dataframe\n",
    "df_document_topic = pd.DataFrame(np.round(lda_output, 2), columns=topicnames, index=docnames)\n",
    "# Get dominant topic for each document\n",
    "dominant_topic = np.argmax(df_document_topic.values, axis=1)\n",
    "df_document_topic['dominant_topic'] = dominant_topic"
   ]
  },
  {
   "cell_type": "code",
   "execution_count": 41,
   "id": "fc936406",
   "metadata": {},
   "outputs": [
    {
     "data": {
      "text/plain": [
       "GridSearchCV(estimator=LatentDirichletAllocation(),\n",
       "             param_grid={'learning_decay': [0.5, 0.7, 0.9],\n",
       "                         'n_components': [7, 10, 12]})"
      ]
     },
     "execution_count": 41,
     "metadata": {},
     "output_type": "execute_result"
    }
   ],
   "source": [
    "#GridSearch to determine the best LDA model.\n",
    "search_params = {'n_components': [7,10,12], 'learning_decay': [0.5,0.7,0.9]}\n",
    "# Init the Model\n",
    "lda = LatentDirichletAllocation()\n",
    "# Init Grid Search Class\n",
    "model = GridSearchCV(lda, param_grid=search_params)\n",
    "# Do the Grid Search\n",
    "model.fit(data_vectorized)"
   ]
  },
  {
   "cell_type": "code",
   "execution_count": 42,
   "id": "4d554187",
   "metadata": {},
   "outputs": [
    {
     "data": {
      "text/plain": [
       "GridSearchCV(error_score='raise',\n",
       "             estimator=LatentDirichletAllocation(learning_decay=0.9,\n",
       "                                                 learning_method=None,\n",
       "                                                 n_components=7, n_jobs=1),\n",
       "             n_jobs=1,\n",
       "             param_grid={'learning_decay': [0.5, 0.7, 0.9],\n",
       "                         'n_topics': [7, 10, 12]},\n",
       "             return_train_score='warn')"
      ]
     },
     "execution_count": 42,
     "metadata": {},
     "output_type": "execute_result"
    }
   ],
   "source": [
    "GridSearchCV(cv=None, error_score='raise',\n",
    "       estimator=LatentDirichletAllocation(batch_size=128, doc_topic_prior=None,\n",
    "             evaluate_every=-1, learning_decay=0.9, learning_method=None,\n",
    "             learning_offset=10.0, max_doc_update_iter=100, max_iter=10,\n",
    "             mean_change_tol=0.001, n_components=7, n_jobs=1,\n",
    "             perp_tol=0.1, random_state=None,\n",
    "             topic_word_prior=None, total_samples=1000000.0, verbose=0),n_jobs=1,\n",
    "       param_grid={'n_topics': [7, 10, 12], 'learning_decay': [0.5, 0.7, 0.9]},\n",
    "       pre_dispatch='2*n_jobs', refit=True, return_train_score='warn',\n",
    "       scoring=None, verbose=0)"
   ]
  },
  {
   "cell_type": "code",
   "execution_count": 43,
   "id": "36f0e92b",
   "metadata": {},
   "outputs": [
    {
     "name": "stdout",
     "output_type": "stream",
     "text": [
      "Best Model's Paramater:  {'learning_decay': 0.7, 'n_components': 7}\n",
      "Best Log Likelihood Score:  -12058.966248762908\n",
      "Model Perplexity:  238.03102839653874\n"
     ]
    }
   ],
   "source": [
    "best_lda_model = model.best_estimator_\n",
    "# Model Parameters\n",
    "print(\"Best Model's Paramater: \", model.best_params_)\n",
    "# Log Likelihood Score\n",
    "print(\"Best Log Likelihood Score: \", model.best_score_)\n",
    "# Perplexity\n",
    "print(\"Model Perplexity: \", best_lda_model.perplexity(data_vectorized))"
   ]
  },
  {
   "cell_type": "code",
   "execution_count": 44,
   "id": "8c9eb10b",
   "metadata": {},
   "outputs": [],
   "source": [
    "# Get Log Likelyhoods from Grid Search Output\n",
    "from sklearn.model_selection import GridSearchCV\n",
    "\n",
    "n_topics = [7, 10,12]\n",
    "log_likelyhoods_5 = [round(model.cv_results_['mean_test_score'][index]) for index, gscore in enumerate(model.cv_results_['params']) if gscore['learning_decay']==0.5]\n",
    "log_likelyhoods_7 = [round(model.cv_results_['mean_test_score'][index]) for index, gscore in enumerate(model.cv_results_['params']) if gscore['learning_decay']==0.7]\n",
    "log_likelyhoods_9 = [round(model.cv_results_['mean_test_score'][index]) for index, gscore in enumerate(model.cv_results_['params']) if gscore['learning_decay']==0.9]\n"
   ]
  },
  {
   "cell_type": "code",
   "execution_count": 45,
   "id": "d175fcda",
   "metadata": {},
   "outputs": [],
   "source": [
    "import matplotlib.pyplot as plt\n",
    "%matplotlib inline"
   ]
  },
  {
   "cell_type": "code",
   "execution_count": 46,
   "id": "bd73b68c",
   "metadata": {},
   "outputs": [
    {
     "data": {
      "image/png": "[encoded data removed]",
      "text/plain": [
       "<Figure size 864x576 with 1 Axes>"
      ]
     },
     "metadata": {
      "needs_background": "light"
     },
     "output_type": "display_data"
    }
   ],
   "source": [
    "plt.figure(figsize=(12, 8))\n",
    "plt.plot(n_topics, log_likelyhoods_5, label='0.5')\n",
    "plt.plot(n_topics, log_likelyhoods_7, label='0.7')\n",
    "plt.plot(n_topics, log_likelyhoods_9, label='0.9')\n",
    "plt.title(\"Choosing Optimal LDA Model\")\n",
    "plt.xlabel(\"Num Topics\")\n",
    "plt.ylabel(\"Log Likelyhood Scores\")\n",
    "plt.legend(title='Learning decay', loc='best')\n",
    "plt.show()"
   ]
  },
  {
   "cell_type": "code",
   "execution_count": 47,
   "id": "34e36d56",
   "metadata": {},
   "outputs": [],
   "source": [
    "lda_output = best_lda_model.transform(data_vectorized)\n",
    "# column names\n",
    "topicnames = [\"Topic\" + str(i) for i in range(best_lda_model.n_components)]\n",
    "# index names\n",
    "docnames = [\"Doc\" + str(i) for i in range(len(data))]\n",
    "# Make the pandas dataframe\n",
    "df_document_topic = pd.DataFrame(np.round(lda_output, 2), columns=topicnames, index=docnames)\n",
    "# Get dominant topic for each document\n",
    "dominant_topic = np.argmax(df_document_topic.values, axis=1)\n",
    "df_document_topic['dominant_topic'] = dominant_topic"
   ]
  },
  {
   "cell_type": "code",
   "execution_count": 48,
   "id": "b00e55b4",
   "metadata": {},
   "outputs": [
    {
     "data": {
      "text/html": [
       "<style type=\"text/css\">\n",
       "#T_37fc1_row0_col0, #T_37fc1_row1_col2, #T_37fc1_row1_col7, #T_37fc1_row2_col2, #T_37fc1_row2_col6, #T_37fc1_row2_col7, #T_37fc1_row3_col2, #T_37fc1_row3_col3, #T_37fc1_row3_col7, #T_37fc1_row4_col0, #T_37fc1_row5_col2, #T_37fc1_row5_col4, #T_37fc1_row5_col7, #T_37fc1_row6_col0, #T_37fc1_row6_col2, #T_37fc1_row6_col4, #T_37fc1_row6_col7, #T_37fc1_row7_col0, #T_37fc1_row7_col2, #T_37fc1_row7_col7, #T_37fc1_row8_col6, #T_37fc1_row8_col7, #T_37fc1_row9_col1, #T_37fc1_row9_col2, #T_37fc1_row9_col7, #T_37fc1_row10_col6, #T_37fc1_row10_col7, #T_37fc1_row11_col0, #T_37fc1_row11_col2, #T_37fc1_row12_col2, #T_37fc1_row12_col4, #T_37fc1_row12_col7, #T_37fc1_row13_col6, #T_37fc1_row13_col7, #T_37fc1_row14_col2, #T_37fc1_row14_col7 {\n",
       "  color: green;\n",
       "  font-weight: 700;\n",
       "}\n",
       "#T_37fc1_row0_col1, #T_37fc1_row0_col2, #T_37fc1_row0_col3, #T_37fc1_row0_col4, #T_37fc1_row0_col5, #T_37fc1_row0_col6, #T_37fc1_row0_col7, #T_37fc1_row1_col0, #T_37fc1_row1_col1, #T_37fc1_row1_col3, #T_37fc1_row1_col4, #T_37fc1_row1_col5, #T_37fc1_row1_col6, #T_37fc1_row2_col0, #T_37fc1_row2_col1, #T_37fc1_row2_col3, #T_37fc1_row2_col4, #T_37fc1_row2_col5, #T_37fc1_row3_col0, #T_37fc1_row3_col1, #T_37fc1_row3_col4, #T_37fc1_row3_col5, #T_37fc1_row3_col6, #T_37fc1_row4_col1, #T_37fc1_row4_col2, #T_37fc1_row4_col3, #T_37fc1_row4_col4, #T_37fc1_row4_col5, #T_37fc1_row4_col6, #T_37fc1_row4_col7, #T_37fc1_row5_col0, #T_37fc1_row5_col1, #T_37fc1_row5_col3, #T_37fc1_row5_col5, #T_37fc1_row5_col6, #T_37fc1_row6_col1, #T_37fc1_row6_col3, #T_37fc1_row6_col5, #T_37fc1_row6_col6, #T_37fc1_row7_col1, #T_37fc1_row7_col3, #T_37fc1_row7_col4, #T_37fc1_row7_col5, #T_37fc1_row7_col6, #T_37fc1_row8_col0, #T_37fc1_row8_col1, #T_37fc1_row8_col2, #T_37fc1_row8_col3, #T_37fc1_row8_col4, #T_37fc1_row8_col5, #T_37fc1_row9_col0, #T_37fc1_row9_col3, #T_37fc1_row9_col4, #T_37fc1_row9_col5, #T_37fc1_row9_col6, #T_37fc1_row10_col0, #T_37fc1_row10_col1, #T_37fc1_row10_col2, #T_37fc1_row10_col3, #T_37fc1_row10_col4, #T_37fc1_row10_col5, #T_37fc1_row11_col1, #T_37fc1_row11_col3, #T_37fc1_row11_col4, #T_37fc1_row11_col5, #T_37fc1_row11_col6, #T_37fc1_row11_col7, #T_37fc1_row12_col0, #T_37fc1_row12_col1, #T_37fc1_row12_col3, #T_37fc1_row12_col5, #T_37fc1_row12_col6, #T_37fc1_row13_col0, #T_37fc1_row13_col1, #T_37fc1_row13_col2, #T_37fc1_row13_col3, #T_37fc1_row13_col4, #T_37fc1_row13_col5, #T_37fc1_row14_col0, #T_37fc1_row14_col1, #T_37fc1_row14_col3, #T_37fc1_row14_col4, #T_37fc1_row14_col5, #T_37fc1_row14_col6 {\n",
       "  color: black;\n",
       "  font-weight: 400;\n",
       "}\n",
       "</style>\n",
       "<table id=\"T_37fc1_\">\n",
       "  <thead>\n",
       "    <tr>\n",
       "      <th class=\"blank level0\" >&nbsp;</th>\n",
       "      <th class=\"col_heading level0 col0\" >Topic0</th>\n",
       "      <th class=\"col_heading level0 col1\" >Topic1</th>\n",
       "      <th class=\"col_heading level0 col2\" >Topic2</th>\n",
       "      <th class=\"col_heading level0 col3\" >Topic3</th>\n",
       "      <th class=\"col_heading level0 col4\" >Topic4</th>\n",
       "      <th class=\"col_heading level0 col5\" >Topic5</th>\n",
       "      <th class=\"col_heading level0 col6\" >Topic6</th>\n",
       "      <th class=\"col_heading level0 col7\" >dominant_topic</th>\n",
       "    </tr>\n",
       "  </thead>\n",
       "  <tbody>\n",
       "    <tr>\n",
       "      <th id=\"T_37fc1_level0_row0\" class=\"row_heading level0 row0\" >Doc0</th>\n",
       "      <td id=\"T_37fc1_row0_col0\" class=\"data row0 col0\" >0.880000</td>\n",
       "      <td id=\"T_37fc1_row0_col1\" class=\"data row0 col1\" >0.020000</td>\n",
       "      <td id=\"T_37fc1_row0_col2\" class=\"data row0 col2\" >0.020000</td>\n",
       "      <td id=\"T_37fc1_row0_col3\" class=\"data row0 col3\" >0.020000</td>\n",
       "      <td id=\"T_37fc1_row0_col4\" class=\"data row0 col4\" >0.020000</td>\n",
       "      <td id=\"T_37fc1_row0_col5\" class=\"data row0 col5\" >0.020000</td>\n",
       "      <td id=\"T_37fc1_row0_col6\" class=\"data row0 col6\" >0.020000</td>\n",
       "      <td id=\"T_37fc1_row0_col7\" class=\"data row0 col7\" >0</td>\n",
       "    </tr>\n",
       "    <tr>\n",
       "      <th id=\"T_37fc1_level0_row1\" class=\"row_heading level0 row1\" >Doc1</th>\n",
       "      <td id=\"T_37fc1_row1_col0\" class=\"data row1 col0\" >0.020000</td>\n",
       "      <td id=\"T_37fc1_row1_col1\" class=\"data row1 col1\" >0.020000</td>\n",
       "      <td id=\"T_37fc1_row1_col2\" class=\"data row1 col2\" >0.890000</td>\n",
       "      <td id=\"T_37fc1_row1_col3\" class=\"data row1 col3\" >0.020000</td>\n",
       "      <td id=\"T_37fc1_row1_col4\" class=\"data row1 col4\" >0.020000</td>\n",
       "      <td id=\"T_37fc1_row1_col5\" class=\"data row1 col5\" >0.020000</td>\n",
       "      <td id=\"T_37fc1_row1_col6\" class=\"data row1 col6\" >0.020000</td>\n",
       "      <td id=\"T_37fc1_row1_col7\" class=\"data row1 col7\" >2</td>\n",
       "    </tr>\n",
       "    <tr>\n",
       "      <th id=\"T_37fc1_level0_row2\" class=\"row_heading level0 row2\" >Doc2</th>\n",
       "      <td id=\"T_37fc1_row2_col0\" class=\"data row2 col0\" >0.020000</td>\n",
       "      <td id=\"T_37fc1_row2_col1\" class=\"data row2 col1\" >0.020000</td>\n",
       "      <td id=\"T_37fc1_row2_col2\" class=\"data row2 col2\" >0.380000</td>\n",
       "      <td id=\"T_37fc1_row2_col3\" class=\"data row2 col3\" >0.020000</td>\n",
       "      <td id=\"T_37fc1_row2_col4\" class=\"data row2 col4\" >0.020000</td>\n",
       "      <td id=\"T_37fc1_row2_col5\" class=\"data row2 col5\" >0.020000</td>\n",
       "      <td id=\"T_37fc1_row2_col6\" class=\"data row2 col6\" >0.520000</td>\n",
       "      <td id=\"T_37fc1_row2_col7\" class=\"data row2 col7\" >6</td>\n",
       "    </tr>\n",
       "    <tr>\n",
       "      <th id=\"T_37fc1_level0_row3\" class=\"row_heading level0 row3\" >Doc3</th>\n",
       "      <td id=\"T_37fc1_row3_col0\" class=\"data row3 col0\" >0.020000</td>\n",
       "      <td id=\"T_37fc1_row3_col1\" class=\"data row3 col1\" >0.020000</td>\n",
       "      <td id=\"T_37fc1_row3_col2\" class=\"data row3 col2\" >0.200000</td>\n",
       "      <td id=\"T_37fc1_row3_col3\" class=\"data row3 col3\" >0.700000</td>\n",
       "      <td id=\"T_37fc1_row3_col4\" class=\"data row3 col4\" >0.020000</td>\n",
       "      <td id=\"T_37fc1_row3_col5\" class=\"data row3 col5\" >0.020000</td>\n",
       "      <td id=\"T_37fc1_row3_col6\" class=\"data row3 col6\" >0.020000</td>\n",
       "      <td id=\"T_37fc1_row3_col7\" class=\"data row3 col7\" >3</td>\n",
       "    </tr>\n",
       "    <tr>\n",
       "      <th id=\"T_37fc1_level0_row4\" class=\"row_heading level0 row4\" >Doc4</th>\n",
       "      <td id=\"T_37fc1_row4_col0\" class=\"data row4 col0\" >0.830000</td>\n",
       "      <td id=\"T_37fc1_row4_col1\" class=\"data row4 col1\" >0.030000</td>\n",
       "      <td id=\"T_37fc1_row4_col2\" class=\"data row4 col2\" >0.030000</td>\n",
       "      <td id=\"T_37fc1_row4_col3\" class=\"data row4 col3\" >0.030000</td>\n",
       "      <td id=\"T_37fc1_row4_col4\" class=\"data row4 col4\" >0.030000</td>\n",
       "      <td id=\"T_37fc1_row4_col5\" class=\"data row4 col5\" >0.030000</td>\n",
       "      <td id=\"T_37fc1_row4_col6\" class=\"data row4 col6\" >0.030000</td>\n",
       "      <td id=\"T_37fc1_row4_col7\" class=\"data row4 col7\" >0</td>\n",
       "    </tr>\n",
       "    <tr>\n",
       "      <th id=\"T_37fc1_level0_row5\" class=\"row_heading level0 row5\" >Doc5</th>\n",
       "      <td id=\"T_37fc1_row5_col0\" class=\"data row5 col0\" >0.020000</td>\n",
       "      <td id=\"T_37fc1_row5_col1\" class=\"data row5 col1\" >0.020000</td>\n",
       "      <td id=\"T_37fc1_row5_col2\" class=\"data row5 col2\" >0.760000</td>\n",
       "      <td id=\"T_37fc1_row5_col3\" class=\"data row5 col3\" >0.020000</td>\n",
       "      <td id=\"T_37fc1_row5_col4\" class=\"data row5 col4\" >0.150000</td>\n",
       "      <td id=\"T_37fc1_row5_col5\" class=\"data row5 col5\" >0.020000</td>\n",
       "      <td id=\"T_37fc1_row5_col6\" class=\"data row5 col6\" >0.020000</td>\n",
       "      <td id=\"T_37fc1_row5_col7\" class=\"data row5 col7\" >2</td>\n",
       "    </tr>\n",
       "    <tr>\n",
       "      <th id=\"T_37fc1_level0_row6\" class=\"row_heading level0 row6\" >Doc6</th>\n",
       "      <td id=\"T_37fc1_row6_col0\" class=\"data row6 col0\" >0.400000</td>\n",
       "      <td id=\"T_37fc1_row6_col1\" class=\"data row6 col1\" >0.010000</td>\n",
       "      <td id=\"T_37fc1_row6_col2\" class=\"data row6 col2\" >0.440000</td>\n",
       "      <td id=\"T_37fc1_row6_col3\" class=\"data row6 col3\" >0.010000</td>\n",
       "      <td id=\"T_37fc1_row6_col4\" class=\"data row6 col4\" >0.120000</td>\n",
       "      <td id=\"T_37fc1_row6_col5\" class=\"data row6 col5\" >0.010000</td>\n",
       "      <td id=\"T_37fc1_row6_col6\" class=\"data row6 col6\" >0.010000</td>\n",
       "      <td id=\"T_37fc1_row6_col7\" class=\"data row6 col7\" >2</td>\n",
       "    </tr>\n",
       "    <tr>\n",
       "      <th id=\"T_37fc1_level0_row7\" class=\"row_heading level0 row7\" >Doc7</th>\n",
       "      <td id=\"T_37fc1_row7_col0\" class=\"data row7 col0\" >0.150000</td>\n",
       "      <td id=\"T_37fc1_row7_col1\" class=\"data row7 col1\" >0.020000</td>\n",
       "      <td id=\"T_37fc1_row7_col2\" class=\"data row7 col2\" >0.760000</td>\n",
       "      <td id=\"T_37fc1_row7_col3\" class=\"data row7 col3\" >0.020000</td>\n",
       "      <td id=\"T_37fc1_row7_col4\" class=\"data row7 col4\" >0.020000</td>\n",
       "      <td id=\"T_37fc1_row7_col5\" class=\"data row7 col5\" >0.020000</td>\n",
       "      <td id=\"T_37fc1_row7_col6\" class=\"data row7 col6\" >0.020000</td>\n",
       "      <td id=\"T_37fc1_row7_col7\" class=\"data row7 col7\" >2</td>\n",
       "    </tr>\n",
       "    <tr>\n",
       "      <th id=\"T_37fc1_level0_row8\" class=\"row_heading level0 row8\" >Doc8</th>\n",
       "      <td id=\"T_37fc1_row8_col0\" class=\"data row8 col0\" >0.040000</td>\n",
       "      <td id=\"T_37fc1_row8_col1\" class=\"data row8 col1\" >0.040000</td>\n",
       "      <td id=\"T_37fc1_row8_col2\" class=\"data row8 col2\" >0.040000</td>\n",
       "      <td id=\"T_37fc1_row8_col3\" class=\"data row8 col3\" >0.040000</td>\n",
       "      <td id=\"T_37fc1_row8_col4\" class=\"data row8 col4\" >0.040000</td>\n",
       "      <td id=\"T_37fc1_row8_col5\" class=\"data row8 col5\" >0.040000</td>\n",
       "      <td id=\"T_37fc1_row8_col6\" class=\"data row8 col6\" >0.790000</td>\n",
       "      <td id=\"T_37fc1_row8_col7\" class=\"data row8 col7\" >6</td>\n",
       "    </tr>\n",
       "    <tr>\n",
       "      <th id=\"T_37fc1_level0_row9\" class=\"row_heading level0 row9\" >Doc9</th>\n",
       "      <td id=\"T_37fc1_row9_col0\" class=\"data row9 col0\" >0.010000</td>\n",
       "      <td id=\"T_37fc1_row9_col1\" class=\"data row9 col1\" >0.320000</td>\n",
       "      <td id=\"T_37fc1_row9_col2\" class=\"data row9 col2\" >0.610000</td>\n",
       "      <td id=\"T_37fc1_row9_col3\" class=\"data row9 col3\" >0.010000</td>\n",
       "      <td id=\"T_37fc1_row9_col4\" class=\"data row9 col4\" >0.010000</td>\n",
       "      <td id=\"T_37fc1_row9_col5\" class=\"data row9 col5\" >0.010000</td>\n",
       "      <td id=\"T_37fc1_row9_col6\" class=\"data row9 col6\" >0.010000</td>\n",
       "      <td id=\"T_37fc1_row9_col7\" class=\"data row9 col7\" >2</td>\n",
       "    </tr>\n",
       "    <tr>\n",
       "      <th id=\"T_37fc1_level0_row10\" class=\"row_heading level0 row10\" >Doc10</th>\n",
       "      <td id=\"T_37fc1_row10_col0\" class=\"data row10 col0\" >0.020000</td>\n",
       "      <td id=\"T_37fc1_row10_col1\" class=\"data row10 col1\" >0.020000</td>\n",
       "      <td id=\"T_37fc1_row10_col2\" class=\"data row10 col2\" >0.020000</td>\n",
       "      <td id=\"T_37fc1_row10_col3\" class=\"data row10 col3\" >0.020000</td>\n",
       "      <td id=\"T_37fc1_row10_col4\" class=\"data row10 col4\" >0.020000</td>\n",
       "      <td id=\"T_37fc1_row10_col5\" class=\"data row10 col5\" >0.020000</td>\n",
       "      <td id=\"T_37fc1_row10_col6\" class=\"data row10 col6\" >0.890000</td>\n",
       "      <td id=\"T_37fc1_row10_col7\" class=\"data row10 col7\" >6</td>\n",
       "    </tr>\n",
       "    <tr>\n",
       "      <th id=\"T_37fc1_level0_row11\" class=\"row_heading level0 row11\" >Doc11</th>\n",
       "      <td id=\"T_37fc1_row11_col0\" class=\"data row11 col0\" >0.480000</td>\n",
       "      <td id=\"T_37fc1_row11_col1\" class=\"data row11 col1\" >0.020000</td>\n",
       "      <td id=\"T_37fc1_row11_col2\" class=\"data row11 col2\" >0.420000</td>\n",
       "      <td id=\"T_37fc1_row11_col3\" class=\"data row11 col3\" >0.020000</td>\n",
       "      <td id=\"T_37fc1_row11_col4\" class=\"data row11 col4\" >0.020000</td>\n",
       "      <td id=\"T_37fc1_row11_col5\" class=\"data row11 col5\" >0.020000</td>\n",
       "      <td id=\"T_37fc1_row11_col6\" class=\"data row11 col6\" >0.020000</td>\n",
       "      <td id=\"T_37fc1_row11_col7\" class=\"data row11 col7\" >0</td>\n",
       "    </tr>\n",
       "    <tr>\n",
       "      <th id=\"T_37fc1_level0_row12\" class=\"row_heading level0 row12\" >Doc12</th>\n",
       "      <td id=\"T_37fc1_row12_col0\" class=\"data row12 col0\" >0.040000</td>\n",
       "      <td id=\"T_37fc1_row12_col1\" class=\"data row12 col1\" >0.040000</td>\n",
       "      <td id=\"T_37fc1_row12_col2\" class=\"data row12 col2\" >0.410000</td>\n",
       "      <td id=\"T_37fc1_row12_col3\" class=\"data row12 col3\" >0.040000</td>\n",
       "      <td id=\"T_37fc1_row12_col4\" class=\"data row12 col4\" >0.410000</td>\n",
       "      <td id=\"T_37fc1_row12_col5\" class=\"data row12 col5\" >0.040000</td>\n",
       "      <td id=\"T_37fc1_row12_col6\" class=\"data row12 col6\" >0.040000</td>\n",
       "      <td id=\"T_37fc1_row12_col7\" class=\"data row12 col7\" >2</td>\n",
       "    </tr>\n",
       "    <tr>\n",
       "      <th id=\"T_37fc1_level0_row13\" class=\"row_heading level0 row13\" >Doc13</th>\n",
       "      <td id=\"T_37fc1_row13_col0\" class=\"data row13 col0\" >0.040000</td>\n",
       "      <td id=\"T_37fc1_row13_col1\" class=\"data row13 col1\" >0.040000</td>\n",
       "      <td id=\"T_37fc1_row13_col2\" class=\"data row13 col2\" >0.040000</td>\n",
       "      <td id=\"T_37fc1_row13_col3\" class=\"data row13 col3\" >0.040000</td>\n",
       "      <td id=\"T_37fc1_row13_col4\" class=\"data row13 col4\" >0.040000</td>\n",
       "      <td id=\"T_37fc1_row13_col5\" class=\"data row13 col5\" >0.040000</td>\n",
       "      <td id=\"T_37fc1_row13_col6\" class=\"data row13 col6\" >0.790000</td>\n",
       "      <td id=\"T_37fc1_row13_col7\" class=\"data row13 col7\" >6</td>\n",
       "    </tr>\n",
       "    <tr>\n",
       "      <th id=\"T_37fc1_level0_row14\" class=\"row_heading level0 row14\" >Doc14</th>\n",
       "      <td id=\"T_37fc1_row14_col0\" class=\"data row14 col0\" >0.070000</td>\n",
       "      <td id=\"T_37fc1_row14_col1\" class=\"data row14 col1\" >0.070000</td>\n",
       "      <td id=\"T_37fc1_row14_col2\" class=\"data row14 col2\" >0.570000</td>\n",
       "      <td id=\"T_37fc1_row14_col3\" class=\"data row14 col3\" >0.070000</td>\n",
       "      <td id=\"T_37fc1_row14_col4\" class=\"data row14 col4\" >0.070000</td>\n",
       "      <td id=\"T_37fc1_row14_col5\" class=\"data row14 col5\" >0.070000</td>\n",
       "      <td id=\"T_37fc1_row14_col6\" class=\"data row14 col6\" >0.070000</td>\n",
       "      <td id=\"T_37fc1_row14_col7\" class=\"data row14 col7\" >2</td>\n",
       "    </tr>\n",
       "  </tbody>\n",
       "</table>\n"
      ],
      "text/plain": [
       "<pandas.io.formats.style.Styler at 0x1866dda4b80>"
      ]
     },
     "execution_count": 48,
     "metadata": {},
     "output_type": "execute_result"
    }
   ],
   "source": [
    "def color_green(val):\n",
    " color = 'green' if val > .1 else 'black'\n",
    " return 'color: {col}'.format(col=color)\n",
    "def make_bold(val):\n",
    " weight = 700 if val > .1 else 400\n",
    " return 'font-weight: {weight}'.format(weight=weight)\n",
    "\n",
    "df_document_topics = df_document_topic.head(15).style.applymap(color_green).applymap(make_bold)\n",
    "df_document_topics"
   ]
  },
  {
   "cell_type": "code",
   "execution_count": 49,
   "id": "6f6729c7",
   "metadata": {},
   "outputs": [
    {
     "data": {
      "text/html": [
       "<div>\n",
       "<style scoped>\n",
       "    .dataframe tbody tr th:only-of-type {\n",
       "        vertical-align: middle;\n",
       "    }\n",
       "\n",
       "    .dataframe tbody tr th {\n",
       "        vertical-align: top;\n",
       "    }\n",
       "\n",
       "    .dataframe thead th {\n",
       "        text-align: right;\n",
       "    }\n",
       "</style>\n",
       "<table border=\"1\" class=\"dataframe\">\n",
       "  <thead>\n",
       "    <tr style=\"text-align: right;\">\n",
       "      <th></th>\n",
       "      <th>Topic Num</th>\n",
       "      <th>Num Documents</th>\n",
       "    </tr>\n",
       "  </thead>\n",
       "  <tbody>\n",
       "    <tr>\n",
       "      <th>0</th>\n",
       "      <td>2</td>\n",
       "      <td>342</td>\n",
       "    </tr>\n",
       "    <tr>\n",
       "      <th>1</th>\n",
       "      <td>3</td>\n",
       "      <td>279</td>\n",
       "    </tr>\n",
       "    <tr>\n",
       "      <th>2</th>\n",
       "      <td>1</td>\n",
       "      <td>262</td>\n",
       "    </tr>\n",
       "    <tr>\n",
       "      <th>3</th>\n",
       "      <td>0</td>\n",
       "      <td>239</td>\n",
       "    </tr>\n",
       "    <tr>\n",
       "      <th>4</th>\n",
       "      <td>4</td>\n",
       "      <td>236</td>\n",
       "    </tr>\n",
       "    <tr>\n",
       "      <th>5</th>\n",
       "      <td>6</td>\n",
       "      <td>224</td>\n",
       "    </tr>\n",
       "    <tr>\n",
       "      <th>6</th>\n",
       "      <td>5</td>\n",
       "      <td>220</td>\n",
       "    </tr>\n",
       "  </tbody>\n",
       "</table>\n",
       "</div>"
      ],
      "text/plain": [
       "   Topic Num  Num Documents\n",
       "0          2            342\n",
       "1          3            279\n",
       "2          1            262\n",
       "3          0            239\n",
       "4          4            236\n",
       "5          6            224\n",
       "6          5            220"
      ]
     },
     "execution_count": 49,
     "metadata": {},
     "output_type": "execute_result"
    }
   ],
   "source": [
    "df_topic_distribution = df_document_topic['dominant_topic'].value_counts().reset_index(name=\"Num Documents\")\n",
    "df_topic_distribution.columns = ['Topic Num', 'Num Documents']\n",
    "df_topic_distribution"
   ]
  },
  {
   "cell_type": "code",
   "execution_count": 50,
   "id": "00c97c8b",
   "metadata": {},
   "outputs": [],
   "source": [
    "import pyLDAvis\n",
    "import pyLDAvis.sklearn"
   ]
  },
  {
   "cell_type": "code",
   "execution_count": 51,
   "id": "f3a42973",
   "metadata": {
    "scrolled": false
   },
   "outputs": [
    {
     "name": "stderr",
     "output_type": "stream",
     "text": [
      "C:\\Users\\aparn\\anaconda3\\lib\\site-packages\\pyLDAvis\\_prepare.py:246: FutureWarning: In a future version of pandas all arguments of DataFrame.drop except for the argument 'labels' will be keyword-only\n",
      "  default_term_info = default_term_info.sort_values(\n",
      "C:\\Users\\aparn\\anaconda3\\lib\\site-packages\\sklearn\\manifold\\_t_sne.py:691: FutureWarning: 'square_distances' has been introduced in 0.24 to help phase out legacy squaring behavior. The 'legacy' setting will be removed in 1.1 (renaming of 0.26), and the default setting will be changed to True. In 1.3, 'square_distances' will be removed altogether, and distances will be squared by default. Set 'square_distances'=True to silence this warning.\n",
      "  warnings.warn(\n"
     ]
    },
    {
     "data": {
      "text/html": [
       "\n",
       "<link rel=\"stylesheet\" type=\"text/css\" href=\"https://cdn.jsdelivr.net/gh/bmabey/pyLDAvis@3.3.1/pyLDAvis/js/ldavis.v1.0.0.css\">\n",
       "\n",
       "\n",
       "<div id=\"ldavis_el1430016769440462249455114977\"></div>\n",
       "<script type=\"text/javascript\">\n",
       "\n",
       "var ldavis_el1430016769440462249455114977_data = {\"mdsDat\": {\"x\": [-29.59400177001953, -45.996585845947266, 20.36885643005371, 53.928768157958984, -12.437127113342285, 3.9659712314605713, 37.52428436279297], \"y\": [60.11271286010742, 11.891684532165527, 70.01932525634766, 31.704309463500977, -26.423267364501953, 21.797719955444336, -16.517805099487305], \"topics\": [1, 2, 3, 4, 5, 6, 7], \"cluster\": [1, 1, 1, 1, 1, 1, 1], \"Freq\": [18.430851505469885, 15.261459094466797, 14.526677425566511, 14.445208757390008, 13.098676109852478, 12.747117634588873, 11.490009472665449]}, \"tinfo\": {\"Term\": [\"pandemic\", \"covidvaccine\", \"vaccine\", \"case\", \"wave\", \"people\", \"mask\", \"covaxin\", \"coronavirus\", \"vaccination\", \"covid\", \"booster\", \"corona\", \"life\", \"virus\", \"fight\", \"country\", \"oxygen\", \"today\", \"report\", \"stay\", \"work\", \"dose\", \"say\", \"home\", \"support\", \"time\", \"thank\", \"quarantine\", \"day\", \"shot\", \"wait\", \"mandate\", \"woman\", \"astrazeneca\", \"coviduk\", \"refuse\", \"consider\", \"unemployment\", \"protect\", \"protection\", \"approve\", \"boostershot\", \"child\", \"achieve\", \"kid\", \"fall\", \"release\", \"know\", \"prevent\", \"vaccine\", \"disease\", \"require\", \"population\", \"covidvaccine\", \"pfizer\", \"induce\", \"flu\", \"rate\", \"information\", \"vaccinate\", \"booster\", \"make\", \"health\", \"need\", \"covid\", \"amp\", \"year\", \"month\", \"day\", \"school\", \"level\", \"dose\", \"pandemic\", \"bring\", \"company\", \"market\", \"symptom\", \"concern\", \"win\", \"stress\", \"handle\", \"source\", \"emerge\", \"impact\", \"employee\", \"miss\", \"delivery\", \"business\", \"test\", \"indias\", \"virus\", \"set\", \"economy\", \"coronavirus\", \"article\", \"covidsymptom\", \"term\", \"money\", \"accord\", \"live\", \"lead\", \"create\", \"day\", \"read\", \"job\", \"make\", \"way\", \"work\", \"country\", \"need\", \"death\", \"health\", \"time\", \"world\", \"government\", \"lockdown\", \"amp\", \"mask\", \"wear\", \"distancing\", \"place\", \"management\", \"run\", \"power\", \"age\", \"curb\", \"friend\", \"act\", \"drive\", \"centre\", \"million\", \"measure\", \"disaster\", \"today\", \"hand\", \"lose\", \"stay\", \"continue\", \"containment\", \"receive\", \"vaccination\", \"suffer\", \"order\", \"dose\", \"hold\", \"jab\", \"use\", \"job\", \"booster\", \"family\", \"face\", \"amp\", \"world\", \"covidvaccine\", \"people\", \"year\", \"government\", \"state\", \"health\", \"price\", \"wfh\", \"thing\", \"shortage\", \"supply\", \"safety\", \"area\", \"office\", \"gujarat\", \"deal\", \"enjoy\", \"oxygen\", \"affect\", \"home\", \"hospital\", \"die\", \"environment\", \"look\", \"people\", \"spread\", \"oil\", \"try\", \"point\", \"understand\", \"start\", \"video\", \"reduce\", \"end\", \"food\", \"war\", \"work\", \"stay\", \"reason\", \"covid\", \"virus\", \"time\", \"death\", \"help\", \"lockdown\", \"say\", \"come\", \"wave\", \"expert\", \"surge\", \"case\", \"restriction\", \"predict\", \"check\", \"grocery\", \"strategy\", \"occur\", \"increase\", \"report\", \"store\", \"situation\", \"variant\", \"number\", \"believe\", \"rise\", \"plan\", \"country\", \"suggest\", \"travel\", \"list\", \"condition\", \"man\", \"infection\", \"say\", \"avoid\", \"state\", \"hit\", \"reason\", \"covid\", \"risk\", \"world\", \"death\", \"government\", \"amp\", \"corona\", \"fight\", \"panic\", \"warrior\", \"nurse\", \"hero\", \"quarantine\", \"police\", \"doctor\", \"salute\", \"lifestyle\", \"stayhome\", \"drop\", \"frontline\", \"support\", \"learn\", \"hope\", \"play\", \"thank\", \"love\", \"care\", \"life\", \"service\", \"change\", \"covidwave\", \"relief\", \"let\", \"worker\", \"story\", \"patient\", \"time\", \"think\", \"help\", \"today\", \"come\", \"covid\", \"want\", \"day\", \"lockdown\", \"work\", \"covaxin\", \"study\", \"covishield\", \"immunity\", \"save\", \"mrna\", \"line\", \"fault\", \"happen\", \"trial\", \"decide\", \"stop\", \"datum\", \"govt\", \"expect\", \"lot\", \"outbreak\", \"nation\", \"provide\", \"view\", \"news\", \"manage\", \"emergency\", \"effect\", \"cause\", \"fear\", \"ask\", \"follow\", \"vaccination\", \"lockdown\", \"year\", \"vaccine\", \"covid\", \"dose\", \"covidvaccine\", \"death\", \"say\", \"infection\", \"coronavirus\", \"life\", \"way\"], \"Freq\": [169.0, 310.0, 244.0, 126.0, 106.0, 119.0, 82.0, 61.0, 161.0, 93.0, 330.0, 96.0, 50.0, 73.0, 72.0, 45.0, 65.0, 59.0, 74.0, 49.0, 73.0, 110.0, 84.0, 86.0, 54.0, 40.0, 89.0, 45.0, 34.0, 87.0, 24.82807211109278, 18.179692168817112, 18.17964590195814, 32.37878576658465, 11.531998355291407, 10.582257315614187, 10.581905884654482, 10.581726592031988, 17.975357953544965, 19.16387373834533, 12.268024238093082, 9.61001184605318, 9.330600480040061, 27.2033188194941, 8.49513961567492, 21.46490821613349, 19.40168152204573, 9.252490480134501, 31.808921331874053, 13.298077563760044, 169.1581389118568, 16.294308179610624, 8.405643555830402, 9.633382797595418, 209.49842741441142, 19.5135496029652, 6.7835258442454975, 6.702945777432955, 20.554666477631383, 7.786435801491025, 23.38626704709456, 50.18802294623956, 30.13301817362143, 32.05119653147916, 31.429683436677735, 68.9428757498052, 31.168994945713237, 24.3868691223854, 14.813780823146338, 20.433106788518167, 12.914071907864827, 12.079949682102384, 15.674865144106796, 168.29058405431155, 19.995750158145565, 16.212518942055905, 15.26701949926692, 15.266280428492808, 13.374784346625079, 12.429841955139514, 11.48422548213746, 9.592238923053486, 9.592018061145657, 9.591309973934559, 34.036932083222474, 10.539081525500242, 11.172250678750748, 10.990881405398083, 19.390796865002066, 31.10405647071857, 7.701730006416183, 52.40209861078662, 8.44364794723401, 32.03340307560986, 105.54531913514163, 6.75670975381227, 6.755808845614519, 6.681604952619908, 7.266202458946013, 8.747779814187554, 15.043136192584544, 13.131622436836054, 7.840427984874484, 44.74700067981118, 14.215782957232955, 15.237279649537415, 22.23076016807994, 14.06538104821576, 28.149806051113583, 18.83068710033436, 18.3949367687466, 18.30923109317905, 16.804088591110677, 16.465061718822277, 15.53926531132022, 13.608568833725414, 13.137825329539718, 12.25368529044092, 81.86417966110231, 30.904850650587765, 17.443186291833708, 15.50792635430006, 14.559643787466415, 13.597749923913028, 13.597579653199933, 19.826485580127336, 11.675013764740948, 10.713204846327885, 11.649444955798238, 14.069073259482897, 22.180943559506677, 8.689273796664137, 17.436269958203027, 8.725543806500607, 47.75265834721905, 10.509786453564093, 22.066260783428962, 43.63980265738739, 16.64790960981335, 7.828525704771401, 13.17017801259311, 52.529068238001294, 11.753908452596654, 13.20995622834941, 45.82282988206968, 6.773369272102371, 6.5622157894908755, 23.232655400473682, 17.88887496869837, 45.613696733049004, 21.314194563804854, 19.08247304416003, 40.6017660523032, 33.486021942364324, 54.705396521915894, 27.487831130807688, 16.816128115288908, 15.556101886179796, 14.258958126835969, 14.934044685971113, 33.48642075644793, 27.60164575293562, 22.69779728200914, 18.771403418358933, 17.793910244306566, 16.812309674842695, 15.831904003833381, 14.851163224490033, 11.908661224382488, 9.947171940058187, 9.947102900535018, 49.46683789181346, 13.714402452842704, 43.70256677379994, 36.023553005081254, 28.50384803745605, 9.948491048818921, 14.2471228346704, 89.78002017812531, 21.583066640489363, 22.0221217094987, 9.945570847738304, 7.474983885598567, 7.451382684682751, 18.37408868950509, 6.871408553766897, 10.373652346377213, 23.30426291521272, 22.114871462560767, 17.114364049374917, 55.56292452444426, 26.25761733421707, 11.908974744420618, 55.58985597947052, 19.4773811960132, 20.550742452196715, 18.51024931887794, 15.01234818531887, 15.822486664670453, 16.341871324540133, 13.788059048372835, 106.12533432450626, 30.561636226493906, 19.766721074385163, 120.87468480392198, 15.840843212847824, 14.860068971596608, 12.896868498106802, 10.934482046478431, 10.934072793291582, 9.953387814724874, 21.58648972123942, 44.086458682568136, 14.723253659260138, 11.917834983900585, 23.893801979012316, 20.52492961056975, 8.855561412892024, 25.147166154573817, 11.226728844442606, 45.508903449860135, 7.2358939051790605, 9.537035716960595, 13.228957966366613, 6.739101481024838, 8.972424516259263, 20.053016541599767, 43.23374019586543, 7.756452453473878, 21.545940178248934, 13.588036612954419, 10.934866300238083, 92.18623075350274, 10.728937807432123, 15.551243781129763, 14.850467326915775, 12.933306539148704, 11.826882302016537, 49.329117688205194, 44.47697002900445, 21.815663107832858, 20.831205853621253, 19.84566815608555, 16.889775492621972, 32.766026440113265, 15.904631648504797, 31.668266551915693, 13.934221329404544, 11.963274459843023, 10.977578998247209, 10.97659976243122, 9.993114269205725, 35.17715566974092, 18.86351088551292, 17.42338594269449, 13.095364647150474, 33.32120186675295, 14.0433656858257, 17.338525219979594, 51.941660954128615, 10.35146850558873, 23.40844388847715, 9.877520428931005, 8.026047932994965, 30.22117071759045, 13.282792592245595, 6.546869265158435, 15.88458914611313, 42.483965273093645, 16.990415726593728, 20.678327652493863, 22.891520142297473, 17.191832016317424, 38.13417078380392, 15.328655447747549, 18.71947579446068, 15.497583301132174, 16.162672509827477, 60.631285192775536, 27.94072837819464, 26.894868361050648, 21.984339248499882, 27.689599047329622, 13.048592186477425, 13.047639397245774, 11.063040470704873, 22.11372674061859, 10.070268625754517, 10.069966556930895, 22.86913095445431, 18.88277909025303, 18.150358487017662, 10.070942245473123, 8.65797176794914, 15.966708365832613, 9.19970911427347, 11.504617905042851, 6.850059459455168, 24.425924113718647, 7.027411367911633, 7.951674818850931, 12.544010059963844, 8.382760553997688, 5.300435365329002, 5.787927230708497, 10.149662989361795, 37.885623506328926, 29.605662004946108, 32.895872725362636, 62.29300651471249, 62.985635253908406, 21.535089460608532, 45.61536213105027, 18.750195733903567, 19.25514669901254, 12.331625324787444, 17.958867056088412, 13.680111422407915, 10.340198397559472], \"Total\": [169.0, 310.0, 244.0, 126.0, 106.0, 119.0, 82.0, 61.0, 161.0, 93.0, 330.0, 96.0, 50.0, 73.0, 72.0, 45.0, 65.0, 59.0, 74.0, 49.0, 73.0, 110.0, 84.0, 86.0, 54.0, 40.0, 89.0, 45.0, 34.0, 87.0, 25.663804653431615, 19.015764573917096, 19.015764542529773, 34.20717870344495, 12.367704060034553, 11.417987797255416, 11.417995788993002, 11.417991460648166, 19.960704851213265, 21.888404139310445, 14.262488019609469, 11.413964943331111, 11.433506399616114, 33.4597420376799, 10.506140643827964, 26.809481511596232, 24.86316789126469, 12.3964373201752, 42.76308673142956, 18.212663699335923, 244.09826290261373, 23.928679795971007, 12.354759708565393, 14.251404229445631, 310.37595227882196, 29.876785995277906, 10.56148890485354, 10.564120829416252, 32.549725065048435, 12.360278791391393, 37.21969353471405, 96.50029714594453, 64.88482686723562, 73.55319653884303, 71.85453968544061, 330.9511455265039, 108.55067638222623, 87.09838667960864, 31.950600795307707, 87.02515351644836, 23.97503596941941, 21.980303886886954, 84.15478516974932, 169.32807438993777, 20.832455306622, 17.04933847519276, 16.10354878707222, 16.103581917796717, 14.21200552776631, 13.266197226240228, 12.320417358720741, 10.428867983910628, 10.42887705931578, 10.428902496266732, 38.96588887510553, 12.355960089808718, 13.27144018629868, 13.320322827547155, 23.79900244930681, 40.88299306775041, 10.507791473715448, 72.59587311198314, 12.435087524431747, 47.717950943096646, 161.6782723645046, 10.440695897168096, 10.54727453809574, 10.440992833495795, 11.518827150304265, 14.299488031775553, 24.79056796590952, 23.061028167763578, 14.44305536154893, 87.02515351644836, 28.843426517497225, 35.315567429878286, 64.88482686723562, 32.73940555690752, 110.50678893711421, 65.03701332553742, 71.85453968544061, 77.78821147128627, 73.55319653884303, 89.64511483232782, 83.88983874998985, 58.78656583320716, 74.47739225106811, 108.55067638222623, 82.6985472141155, 31.739050940588466, 18.27805809994141, 16.355313411274256, 15.393541462343126, 14.4320533553396, 14.432051524197425, 21.156395424293216, 12.509048032487165, 11.54754826736422, 13.490934943685831, 18.254894076594812, 28.975099066150822, 12.464532038349871, 26.221211628368174, 13.56108112232211, 74.54055171014801, 16.478955497605163, 34.91317377801264, 73.56163002390053, 28.727962320832024, 13.627438030062791, 22.974301214075744, 93.55575616575958, 21.06706105605707, 24.020182420264316, 84.15478516974932, 12.464447005508108, 12.447788338931206, 44.216304311277504, 35.315567429878286, 96.50029714594453, 44.63118533736384, 39.62750958869583, 108.55067638222623, 83.88983874998985, 310.37595227882196, 119.06095719818215, 87.09838667960864, 58.78656583320716, 44.835535832893996, 73.55319653884303, 34.31810168539448, 28.433324392965506, 23.52934365980482, 19.606179853336545, 18.625363424525133, 17.644567811224828, 16.66377377918463, 15.682973841698809, 12.740594786582486, 10.778985116042174, 10.778989839674061, 59.631513040550175, 16.673393854486346, 54.00824316169396, 45.16175527356109, 36.059680702961266, 12.678473440112427, 18.538732954655178, 119.06095719818215, 29.418072507258515, 31.208053511297447, 14.750268235463162, 11.730165083002769, 11.73024444483449, 31.46440621305797, 11.792056466424874, 18.566345514945432, 43.03460132792987, 41.9737951400234, 33.052076214559996, 110.50678893711421, 73.56163002390053, 23.535438610662627, 330.9511455265039, 72.59587311198314, 89.64511483232782, 77.78821147128627, 57.22217821535609, 74.47739225106811, 86.32974638774606, 45.8613078015162, 106.95683872795874, 31.39288331708646, 20.59803601568469, 126.64111358209088, 16.67262960211701, 15.691284206523363, 13.728573362490613, 11.76588489849335, 11.765872208389743, 10.784534045206138, 23.50595485145356, 49.852944212263864, 17.577894093237767, 14.732951662515184, 30.228268993697352, 26.321444497982156, 11.747108722315607, 34.06613462385111, 15.604655007196579, 65.03701332553742, 10.729591897667632, 14.56002081179772, 20.537786672525193, 11.613847422696711, 16.610852735470665, 38.32791244937791, 86.32974638774606, 15.496728110598465, 44.835535832893996, 28.276995804860075, 23.535438610662627, 330.9511455265039, 27.353143897902, 83.88983874998985, 77.78821147128627, 58.78656583320716, 108.55067638222623, 50.23119867208972, 45.30785395405309, 22.646807023315816, 21.661557683472047, 20.676288342642554, 17.72050086433795, 34.43498376011424, 16.735238032415527, 33.44915292477575, 14.764716613898795, 12.79418358548085, 11.808913354864817, 11.808902506737727, 10.823661590755687, 40.36170576819309, 21.676740833453028, 21.538640433065293, 16.667493512856147, 45.855166236202294, 19.630439289303332, 24.410145437224905, 73.67676604252915, 14.74845723193585, 34.17445138844339, 14.618404326672328, 12.636404262216201, 49.65473274189667, 25.188167442407458, 12.59390002367534, 31.31273676703702, 89.64511483232782, 34.88640466862233, 57.22217821535609, 74.54055171014801, 45.8613078015162, 330.9511455265039, 35.99129860422267, 87.02515351644836, 74.47739225106811, 110.50678893711421, 61.53579333932295, 28.771475512178984, 27.77801472303016, 22.8142605509815, 28.76354341947385, 13.878383364829807, 13.878384485853832, 11.892650254551723, 23.796626973674623, 10.899775769161433, 10.899771467409028, 28.55107679747881, 24.5587258434633, 24.55882624643703, 13.737205611816975, 12.781952991078958, 25.366178969094413, 15.725365761606453, 19.74559296119098, 11.855481043781296, 43.47214494110081, 12.692030495930293, 15.730927387116797, 25.255938203791565, 17.66454361716771, 11.761256162102654, 13.722460711113717, 24.540759311054245, 93.55575616575958, 74.47739225106811, 87.09838667960864, 244.09826290261373, 330.9511455265039, 84.15478516974932, 310.37595227882196, 77.78821147128627, 86.32974638774606, 38.32791244937791, 161.6782723645046, 73.67676604252915, 32.73940555690752], \"Category\": [\"Default\", \"Default\", \"Default\", \"Default\", \"Default\", \"Default\", \"Default\", \"Default\", \"Default\", \"Default\", \"Default\", \"Default\", \"Default\", \"Default\", \"Default\", \"Default\", \"Default\", \"Default\", \"Default\", \"Default\", \"Default\", \"Default\", \"Default\", \"Default\", \"Default\", \"Default\", \"Default\", \"Default\", \"Default\", \"Default\", \"Topic1\", \"Topic1\", \"Topic1\", \"Topic1\", \"Topic1\", \"Topic1\", \"Topic1\", \"Topic1\", \"Topic1\", \"Topic1\", \"Topic1\", \"Topic1\", \"Topic1\", \"Topic1\", \"Topic1\", \"Topic1\", \"Topic1\", \"Topic1\", \"Topic1\", \"Topic1\", \"Topic1\", \"Topic1\", \"Topic1\", \"Topic1\", \"Topic1\", \"Topic1\", \"Topic1\", \"Topic1\", \"Topic1\", \"Topic1\", \"Topic1\", \"Topic1\", \"Topic1\", \"Topic1\", \"Topic1\", \"Topic1\", \"Topic1\", \"Topic1\", \"Topic1\", \"Topic1\", \"Topic1\", \"Topic1\", \"Topic1\", \"Topic2\", \"Topic2\", \"Topic2\", \"Topic2\", \"Topic2\", \"Topic2\", \"Topic2\", \"Topic2\", \"Topic2\", \"Topic2\", \"Topic2\", \"Topic2\", \"Topic2\", \"Topic2\", \"Topic2\", \"Topic2\", \"Topic2\", \"Topic2\", \"Topic2\", \"Topic2\", \"Topic2\", \"Topic2\", \"Topic2\", \"Topic2\", \"Topic2\", \"Topic2\", \"Topic2\", \"Topic2\", \"Topic2\", \"Topic2\", \"Topic2\", \"Topic2\", \"Topic2\", \"Topic2\", \"Topic2\", \"Topic2\", \"Topic2\", \"Topic2\", \"Topic2\", \"Topic2\", \"Topic2\", \"Topic2\", \"Topic2\", \"Topic2\", \"Topic2\", \"Topic3\", \"Topic3\", \"Topic3\", \"Topic3\", \"Topic3\", \"Topic3\", \"Topic3\", \"Topic3\", \"Topic3\", \"Topic3\", \"Topic3\", \"Topic3\", \"Topic3\", \"Topic3\", \"Topic3\", \"Topic3\", \"Topic3\", \"Topic3\", \"Topic3\", \"Topic3\", \"Topic3\", \"Topic3\", \"Topic3\", \"Topic3\", \"Topic3\", \"Topic3\", \"Topic3\", \"Topic3\", \"Topic3\", \"Topic3\", \"Topic3\", \"Topic3\", \"Topic3\", \"Topic3\", \"Topic3\", \"Topic3\", \"Topic3\", \"Topic3\", \"Topic3\", \"Topic3\", \"Topic3\", \"Topic3\", \"Topic4\", \"Topic4\", \"Topic4\", \"Topic4\", \"Topic4\", \"Topic4\", \"Topic4\", \"Topic4\", \"Topic4\", \"Topic4\", \"Topic4\", \"Topic4\", \"Topic4\", \"Topic4\", \"Topic4\", \"Topic4\", \"Topic4\", \"Topic4\", \"Topic4\", \"Topic4\", \"Topic4\", \"Topic4\", \"Topic4\", \"Topic4\", \"Topic4\", \"Topic4\", \"Topic4\", \"Topic4\", \"Topic4\", \"Topic4\", \"Topic4\", \"Topic4\", \"Topic4\", \"Topic4\", \"Topic4\", \"Topic4\", \"Topic4\", \"Topic4\", \"Topic4\", \"Topic4\", \"Topic4\", \"Topic5\", \"Topic5\", \"Topic5\", \"Topic5\", \"Topic5\", \"Topic5\", \"Topic5\", \"Topic5\", \"Topic5\", \"Topic5\", \"Topic5\", \"Topic5\", \"Topic5\", \"Topic5\", \"Topic5\", \"Topic5\", \"Topic5\", \"Topic5\", \"Topic5\", \"Topic5\", \"Topic5\", \"Topic5\", \"Topic5\", \"Topic5\", \"Topic5\", \"Topic5\", \"Topic5\", \"Topic5\", \"Topic5\", \"Topic5\", \"Topic5\", \"Topic5\", \"Topic5\", \"Topic5\", \"Topic5\", \"Topic5\", \"Topic5\", \"Topic6\", \"Topic6\", \"Topic6\", \"Topic6\", \"Topic6\", \"Topic6\", \"Topic6\", \"Topic6\", \"Topic6\", \"Topic6\", \"Topic6\", \"Topic6\", \"Topic6\", \"Topic6\", \"Topic6\", \"Topic6\", \"Topic6\", \"Topic6\", \"Topic6\", \"Topic6\", \"Topic6\", \"Topic6\", \"Topic6\", \"Topic6\", \"Topic6\", \"Topic6\", \"Topic6\", \"Topic6\", \"Topic6\", \"Topic6\", \"Topic6\", \"Topic6\", \"Topic6\", \"Topic6\", \"Topic6\", \"Topic6\", \"Topic6\", \"Topic6\", \"Topic6\", \"Topic6\", \"Topic7\", \"Topic7\", \"Topic7\", \"Topic7\", \"Topic7\", \"Topic7\", \"Topic7\", \"Topic7\", \"Topic7\", \"Topic7\", \"Topic7\", \"Topic7\", \"Topic7\", \"Topic7\", \"Topic7\", \"Topic7\", \"Topic7\", \"Topic7\", \"Topic7\", \"Topic7\", \"Topic7\", \"Topic7\", \"Topic7\", \"Topic7\", \"Topic7\", \"Topic7\", \"Topic7\", \"Topic7\", \"Topic7\", \"Topic7\", \"Topic7\", \"Topic7\", \"Topic7\", \"Topic7\", \"Topic7\", \"Topic7\", \"Topic7\", \"Topic7\", \"Topic7\", \"Topic7\", \"Topic7\"], \"logprob\": [30.0, 29.0, 28.0, 27.0, 26.0, 25.0, 24.0, 23.0, 22.0, 21.0, 20.0, 19.0, 18.0, 17.0, 16.0, 15.0, 14.0, 13.0, 12.0, 11.0, 10.0, 9.0, 8.0, 7.0, 6.0, 5.0, 4.0, 3.0, 2.0, 1.0, -4.1763, -4.488, -4.488, -3.9108, -4.9432, -5.0291, -5.0291, -5.0292, -4.4993, -4.4353, -4.8813, -5.1255, -5.155, -4.085, -5.2488, -4.3219, -4.4229, -5.1634, -3.9285, -4.8007, -2.2575, -4.5975, -5.2594, -5.1231, -2.0436, -4.4172, -5.4738, -5.4857, -4.3652, -5.3359, -4.2361, -3.4725, -3.9827, -3.921, -3.9405, -3.155, -3.9489, -4.1942, -4.6927, -4.3711, -4.83, -4.8967, -4.6362, -2.0739, -4.2041, -4.4138, -4.4739, -4.4739, -4.6062, -4.6795, -4.7586, -4.9386, -4.9387, -4.9387, -3.6721, -4.8445, -4.7862, -4.8025, -4.2348, -3.7623, -5.1581, -3.2406, -5.0662, -3.7328, -2.5405, -5.2891, -5.2892, -5.3002, -5.2164, -5.0308, -4.4887, -4.6246, -5.1403, -3.3986, -4.5452, -4.4758, -4.0981, -4.5559, -3.8621, -4.2641, -4.2875, -4.2922, -4.378, -4.3984, -4.4562, -4.5889, -4.6241, -4.6938, -2.7452, -3.7193, -4.2913, -4.4089, -4.472, -4.5403, -4.5404, -4.1632, -4.6928, -4.7788, -4.695, -4.5063, -4.051, -4.9882, -4.2917, -4.984, -3.2842, -4.7979, -4.0562, -3.3743, -4.338, -5.0925, -4.5723, -3.1889, -4.6861, -4.5693, -3.3255, -5.2373, -5.2689, -4.0047, -4.2661, -3.33, -4.0909, -4.2015, -3.4464, -3.6391, -3.1483, -3.8365, -4.3279, -4.4058, -4.4929, -4.4466, -3.6335, -3.8268, -4.0224, -4.2123, -4.2658, -4.3225, -4.3826, -4.4465, -4.6674, -4.8473, -4.8473, -3.2433, -4.5262, -3.3672, -3.5605, -3.7946, -4.8472, -4.4881, -2.6473, -4.0727, -4.0526, -4.8475, -5.1331, -5.1362, -4.2337, -5.2173, -4.8054, -3.996, -4.0484, -4.3047, -3.1271, -3.8767, -4.6673, -3.1266, -4.1754, -4.1217, -4.2263, -4.4358, -4.3832, -4.3509, -4.5208, -2.3822, -3.627, -4.0628, -2.252, -4.2842, -4.3481, -4.4898, -4.6549, -4.6549, -4.7489, -3.9747, -3.2606, -4.3573, -4.5687, -3.8732, -4.0251, -4.8657, -3.822, -4.6285, -3.2289, -5.0677, -4.7916, -4.4644, -5.1388, -4.8526, -4.0484, -3.2802, -4.9983, -3.9766, -4.4376, -4.6548, -2.523, -4.6738, -4.3026, -4.3487, -4.487, -4.5764, -3.1211, -3.2246, -3.9369, -3.9831, -4.0316, -4.1929, -3.5302, -4.253, -3.5643, -4.3852, -4.5377, -4.6237, -4.6238, -4.7177, -3.4592, -4.0823, -4.1618, -4.4473, -3.5134, -4.3774, -4.1666, -3.0694, -4.6824, -3.8665, -4.7293, -4.9369, -3.611, -4.4331, -5.1406, -4.2542, -3.2704, -4.1869, -3.9905, -3.8888, -4.1751, -3.3785, -4.2898, -4.09, -4.2789, -4.2369, -2.8109, -3.5857, -3.6238, -3.8254, -3.5947, -4.3471, -4.3471, -4.5121, -3.8195, -4.6062, -4.6062, -3.786, -3.9775, -4.0171, -4.6061, -4.7573, -4.1452, -4.6966, -4.473, -4.9915, -3.7201, -4.9659, -4.8424, -4.3865, -4.7896, -5.248, -5.16, -4.5983, -3.2812, -3.5278, -3.4224, -2.7839, -2.7728, -3.8461, -3.0955, -3.9845, -3.958, -4.4036, -4.0277, -4.2998, -4.5797], \"loglift\": [30.0, 29.0, 28.0, 27.0, 26.0, 25.0, 24.0, 23.0, 22.0, 21.0, 20.0, 19.0, 18.0, 17.0, 16.0, 15.0, 14.0, 13.0, 12.0, 11.0, 10.0, 9.0, 8.0, 7.0, 6.0, 5.0, 4.0, 3.0, 2.0, 1.0, 1.658, 1.6462, 1.6462, 1.6362, 1.6212, 1.6151, 1.6151, 1.6151, 1.5864, 1.5582, 1.5405, 1.5191, 1.4879, 1.4841, 1.4787, 1.4688, 1.4431, 1.3986, 1.3952, 1.3766, 1.3244, 1.3069, 1.306, 1.2995, 1.2981, 1.2652, 1.2484, 1.2362, 1.2315, 1.229, 1.2265, 1.0374, 0.9242, 0.8605, 0.8643, 0.1225, 0.4434, 0.4182, 0.9225, 0.2421, 1.0724, 1.0925, 0.0105, 1.8737, 1.8388, 1.8295, 1.8265, 1.8264, 1.8191, 1.8147, 1.8096, 1.7962, 1.7962, 1.7961, 1.7446, 1.7208, 1.7077, 1.6876, 1.675, 1.6065, 1.5692, 1.5539, 1.4927, 1.4813, 1.4534, 1.4447, 1.4344, 1.4335, 1.4191, 1.3884, 1.3803, 1.3167, 1.2689, 1.2147, 1.1723, 1.0393, 0.8087, 1.035, 0.5123, 0.6404, 0.5173, 0.4333, 0.4035, 0.1852, 0.1937, 0.4166, 0.1448, -0.3016, 1.919, 1.9025, 1.8824, 1.876, 1.8735, 1.8696, 1.8696, 1.8643, 1.8602, 1.8542, 1.7824, 1.6687, 1.662, 1.5684, 1.5212, 1.4882, 1.4839, 1.4794, 1.4704, 1.407, 1.3836, 1.3749, 1.3728, 1.352, 1.3457, 1.3313, 1.3213, 1.3193, 1.289, 1.2856, 1.249, 1.1798, 1.1901, 1.1984, 0.9458, 1.0108, 0.1934, 0.4633, 0.2845, 0.5997, 0.7836, 0.3348, 1.9103, 1.9051, 1.8988, 1.8913, 1.8891, 1.8865, 1.8836, 1.8803, 1.8673, 1.8545, 1.8545, 1.7479, 1.7394, 1.7231, 1.7087, 1.6997, 1.6923, 1.6715, 1.6525, 1.6251, 1.5862, 1.5407, 1.4842, 1.481, 1.3969, 1.3948, 1.3527, 1.3214, 1.294, 1.2766, 1.2472, 0.9046, 1.2536, 0.1508, 0.6192, 0.4618, 0.4991, 0.5967, 0.3857, 0.2704, 0.733, 2.0249, 2.0058, 1.9915, 1.9861, 1.9815, 1.9782, 1.9702, 1.9594, 1.9593, 1.9525, 1.9475, 1.9097, 1.8554, 1.8206, 1.7975, 1.7839, 1.7501, 1.7291, 1.7034, 1.6756, 1.6387, 1.6096, 1.5928, 1.4884, 1.4168, 1.3849, 1.3411, 1.3406, 1.2998, 1.2998, 1.2661, 0.7545, 1.0968, 0.3473, 0.3767, 0.5186, -0.1842, 2.0417, 2.0414, 2.0225, 2.0208, 2.0189, 2.0119, 2.0102, 2.009, 2.0052, 2.002, 1.9927, 1.9869, 1.9868, 1.98, 1.9224, 1.9209, 1.8478, 1.8187, 1.7406, 1.7249, 1.7178, 1.7103, 1.7059, 1.6815, 1.6678, 1.606, 1.5633, 1.42, 1.4056, 1.3812, 1.3131, 1.3404, 1.042, 0.8793, 1.0787, -0.101, 1.2063, 0.5232, 0.4901, 0.1375, 2.1489, 2.1344, 2.1314, 2.1266, 2.1256, 2.102, 2.102, 2.0914, 2.0903, 2.0845, 2.0845, 1.9418, 1.9009, 1.8613, 1.8532, 1.7741, 1.7008, 1.6276, 1.6235, 1.6152, 1.5872, 1.5725, 1.4814, 1.4639, 1.4183, 1.3667, 1.3004, 1.2808, 1.2597, 1.2412, 1.19, 0.798, 0.5046, 0.8007, 0.2462, 0.7409, 0.6633, 1.0297, -0.0338, 0.4799, 1.0112]}, \"token.table\": {\"Topic\": [1, 2, 7, 1, 5, 3, 5, 4, 6, 1, 3, 1, 2, 3, 4, 5, 1, 2, 4, 1, 2, 3, 4, 6, 7, 1, 1, 2, 3, 5, 1, 5, 7, 1, 3, 1, 3, 2, 2, 5, 1, 4, 6, 5, 7, 2, 5, 7, 3, 5, 2, 5, 6, 5, 1, 3, 7, 1, 2, 3, 4, 5, 6, 2, 2, 2, 5, 1, 3, 7, 1, 2, 3, 4, 6, 1, 2, 3, 4, 5, 7, 2, 5, 7, 1, 2, 3, 4, 5, 6, 7, 2, 6, 1, 1, 3, 7, 1, 6, 7, 2, 6, 3, 2, 7, 1, 2, 4, 6, 7, 4, 1, 2, 4, 5, 7, 7, 2, 5, 1, 4, 3, 4, 7, 1, 3, 6, 3, 1, 6, 1, 3, 5, 7, 2, 3, 5, 6, 1, 2, 4, 5, 6, 1, 2, 3, 7, 2, 1, 4, 7, 2, 5, 3, 4, 7, 4, 1, 4, 2, 7, 5, 2, 3, 5, 7, 1, 5, 2, 3, 4, 6, 7, 1, 4, 7, 6, 1, 4, 1, 4, 5, 7, 2, 4, 5, 6, 3, 6, 1, 2, 3, 5, 6, 7, 2, 3, 7, 5, 4, 3, 6, 2, 4, 7, 1, 2, 3, 4, 1, 2, 4, 6, 6, 3, 4, 5, 2, 3, 5, 3, 4, 7, 1, 6, 4, 6, 7, 7, 2, 6, 2, 5, 2, 6, 1, 4, 1, 4, 5, 7, 1, 2, 1, 3, 1, 2, 3, 1, 7, 1, 2, 5, 2, 5, 6, 6, 7, 1, 3, 4, 6, 1, 2, 5, 2, 6, 7, 6, 7, 2, 5, 6, 7, 1, 2, 4, 2, 4, 6, 7, 1, 3, 4, 3, 6, 2, 3, 4, 7, 3, 6, 7, 1, 2, 4, 3, 4, 5, 2, 6, 7, 3, 1, 2, 3, 3, 7, 1, 2, 3, 1, 2, 2, 6, 7, 1, 4, 5, 7, 7, 2, 5, 7, 1, 2, 3, 5, 6, 4, 5, 6, 7, 2, 3, 5, 6, 5, 4, 3, 4, 2, 3, 4, 5, 2, 7, 3, 4, 2, 6, 1, 4, 6, 1, 2, 3, 4, 1, 7, 3, 2, 4, 5, 3, 6, 1, 4, 5, 6, 1, 2, 3, 5, 1, 6, 4, 1, 3, 1, 2, 4, 5, 7, 2, 6, 1, 2, 4, 5, 2, 3, 4, 5, 4, 5, 1, 3, 1, 4, 5, 1, 1, 2, 4, 2, 6, 2, 5, 1, 2, 5, 1, 5, 1, 3, 5, 7, 3, 4, 6, 7, 1, 4, 5, 7, 1, 2, 3, 7, 4, 6, 2, 5, 4, 1, 5, 7, 2, 4, 5, 4, 6, 7, 3, 4, 5, 1, 3, 4, 6, 1, 7, 2, 5, 1, 2, 6, 5, 2, 7, 2, 3, 5, 3, 5, 4, 4, 6, 5, 2, 1, 2, 1, 2, 5, 1, 6, 4, 2, 3, 5, 6, 2, 3, 4, 6, 7, 2, 3, 6, 2, 5, 7, 4, 7, 1, 4, 6, 1, 2, 1, 2, 3, 6, 1, 3, 3, 5, 7, 1, 3, 7, 1, 5, 4, 6, 7, 5, 6, 7, 2, 4, 1, 1, 4, 6, 2, 4, 6, 6, 5, 1, 2, 3, 7, 3, 4, 2, 1, 2, 1, 2, 4, 6, 1, 6, 1, 2, 3, 4, 5, 1, 2, 3, 6, 7], \"Freq\": [0.2097977209627059, 0.6293931628881176, 0.1398651473084706, 0.7614594427402565, 0.09518243034253206, 0.8894861660878711, 0.07412384717398926, 0.8396610865299622, 0.11995158378999461, 0.047267031077124405, 0.9453406215424881, 0.2855809013187858, 0.11054744567178805, 0.3777037727119425, 0.11054744567178805, 0.11054744567178805, 0.8761197401296335, 0.08761197401296335, 0.9601666592465522, 0.2873371688580367, 0.6704533940020856, 0.29149290963248525, 0.21861968222436393, 0.07287322740812131, 0.43723936444872785, 0.9702690120777739, 0.06452975059400337, 0.12905950118800674, 0.2581190023760135, 0.516238004752027, 0.08512732993611713, 0.7661459694250541, 0.08512732993611713, 0.5181331195735212, 0.47668247000763947, 0.7871600964252033, 0.08746223293613371, 0.960040461176106, 0.7983527898058354, 0.1680742715380706, 0.24579943677230776, 0.040966572795384626, 0.6964317375215386, 0.9554559066757241, 0.03948164903618694, 0.11322115325166127, 0.3396634597549838, 0.45288461300664506, 0.7592726413039518, 0.20707435671925956, 0.2048313788693959, 0.08778487665831253, 0.6730173877137293, 0.9469301475649881, 0.8069398732839776, 0.029886661973480652, 0.11954664789392261, 0.06541461950853522, 0.1090243658475587, 0.06541461950853522, 0.30526822437316437, 0.08721949267804696, 0.3706828438816996, 0.9384528334210988, 0.9147195991868714, 0.3444164413752224, 0.6027287724066392, 0.963391857307937, 0.5870509175937261, 0.3669068234960788, 0.17404645495424714, 0.17404645495424714, 0.5917579468444403, 0.03480929099084943, 0.9754893630923083, 0.02474049197521097, 0.6556230373430907, 0.07422147592563291, 0.06803635293183018, 0.06185122993802743, 0.11133221388844937, 0.2921413365785582, 0.7072895517165093, 0.991292980715005, 0.2084899869140178, 0.0030215940132466345, 0.03625912815895962, 0.16920926474181153, 0.2779866492186904, 0.11482057250337212, 0.190360422834538, 0.6636785621457633, 0.2844336694910414, 0.9633921664064233, 0.6733769110186981, 0.17720445026807846, 0.14820735840602925, 0.2736276758128596, 0.684069189532149, 0.9719917088824521, 0.5538994208453999, 0.4154245656340499, 0.9593056137313472, 0.20359362419165694, 0.7736557719282964, 0.22981861211218504, 0.5170918772524163, 0.022981861211218504, 0.21832768150657578, 0.011490930605609252, 0.9277311261073342, 0.08998792834546515, 0.23139753003119612, 0.24425294836626257, 0.19283127502599676, 0.24425294836626257, 0.9174504281948114, 0.8258058113465088, 0.15014651115391067, 0.19412262847422138, 0.8042223179646314, 0.6636639010429354, 0.22122130034764514, 0.07374043344921505, 0.6686536882278813, 0.16716342205697032, 0.16716342205697032, 0.9300769210299474, 0.029896123296422883, 0.9566759454855323, 0.19012584926366655, 0.5466118166330414, 0.01188286557897916, 0.2614230427375415, 0.1643394909558197, 0.7669176244604919, 0.05477983031860657, 0.9315006194456938, 0.08382589614482765, 0.6706071691586212, 0.1466953182534484, 0.08382589614482765, 0.02095647403620691, 0.2375678920175393, 0.15837859467835952, 0.07918929733917976, 0.5147304327046685, 0.958873668977127, 0.12713808606337768, 0.38141425819013297, 0.5085523442535107, 0.8902586217539563, 0.0809326019776324, 0.2556082701028973, 0.5344536556696943, 0.185896923711198, 0.9277307195515813, 0.1577476980526975, 0.7887384902634875, 0.21838502565757256, 0.7279500855252419, 0.987484955965398, 0.17664496388127365, 0.47946490196345704, 0.2018799587214556, 0.12617497420090976, 0.7641825886022904, 0.20110068121112903, 0.04481171595336641, 0.47052301751034725, 0.29127615369688165, 0.15684100583678243, 0.9249410152114684, 0.1700498630787788, 0.3400997261575576, 0.425124657696947, 0.9711340564622772, 0.662620213554184, 0.2839800915232217, 0.12224560625753202, 0.2852397479342414, 0.16299414167670936, 0.4074853541917734, 0.1429463306804679, 0.5241365458283822, 0.16677071912721253, 0.16677071912721253, 0.952583158373825, 0.9239017606149879, 0.1530962027197736, 0.23814964867520336, 0.2721710270573753, 0.2211389594841174, 0.11907482433760168, 0.017010689191085955, 0.16287423347768162, 0.08143711673884081, 0.7329340506495673, 0.9349063070818053, 0.9418712549148467, 0.6675180354482174, 0.30341728884009883, 0.9588768421872562, 0.042022762348053154, 0.9245007716571694, 0.4350592701039306, 0.2311252372427131, 0.20393403286121747, 0.12236041971673048, 0.17475741595094346, 0.19223315754603781, 0.2621361239264152, 0.3669905734969813, 0.9593408295931444, 0.2829154856197634, 0.21218661421482254, 0.4951020998345859, 0.32091275274646186, 0.5615973173063082, 0.08022818818661547, 0.018515692076969147, 0.8146904513866424, 0.14812553661575317, 0.13928455741312787, 0.7892791586743912, 0.797134650368104, 0.13285577506135068, 0.04428525835378356, 0.9643091412425168, 0.8725580496566543, 0.1026538881949005, 0.042542411330214996, 0.9359330492647299, 0.7613398134147862, 0.19033495335369655, 0.6627853386072436, 0.28405085940310437, 0.05218129222773418, 0.07827193834160127, 0.5218129222773419, 0.3130877533664051, 0.6472345919553035, 0.32361729597765176, 0.40167778113339214, 0.562348893586749, 0.05663224876596278, 0.4247418657447209, 0.509690238893665, 0.7833049658538385, 0.186501182346152, 0.7483089375884782, 0.21046188869675947, 0.023384654299639943, 0.5637216131660759, 0.3035424070894255, 0.08672640202555014, 0.8765155309084981, 0.09226479272721032, 0.24166880652395256, 0.12083440326197628, 0.040278134420658765, 0.6041720163098814, 0.5459433164233448, 0.22747638184306032, 0.18198110547444826, 0.108582398898753, 0.7057855928418945, 0.19001919807281775, 0.9379262005914852, 0.9367084485410269, 0.09738147697655937, 0.6329796003476359, 0.14607221546483906, 0.048690738488279685, 0.20168961061625112, 0.6050688318487534, 0.20168961061625112, 0.17454961307152322, 0.21483029301110548, 0.2014033996979114, 0.4028067993958228, 0.053941118977545575, 0.10788223795509115, 0.7551756656856381, 0.6301346345617824, 0.3437098006700631, 0.07823530572346342, 0.07823530572346342, 0.07823530572346342, 0.7041177515111708, 0.1528238851809448, 0.7131781308444091, 0.10188259012062986, 0.46235771055357267, 0.33906232107261997, 0.18494308422142908, 0.18060481588605184, 0.24080642118140244, 0.5418144476581556, 0.3151583981209785, 0.07878959953024463, 0.5515271967117125, 0.9744346378443298, 0.946583029030573, 0.9314717021903806, 0.9915530896533541, 0.6483300711248621, 0.30509650405875866, 0.08022764087117594, 0.16045528174235188, 0.7220487678405835, 0.07534977259155275, 0.8288474985070803, 0.607700758823792, 0.26044318235305375, 0.08681439411768457, 0.4694747399617885, 0.1251932639898103, 0.1877898959847154, 0.1877898959847154, 0.9367085242034904, 0.12718305127649296, 0.2543661025529859, 0.5723237307442183, 0.4314271601447795, 0.2505060929872913, 0.041751015497881884, 0.06958502582980314, 0.18092106715748818, 0.09201294312529294, 0.18402588625058589, 0.1380194146879394, 0.5520776587517576, 0.1519673435972196, 0.0379918358993049, 0.797828553885403, 0.9672915984031919, 0.9272537838058128, 0.9564512541694816, 0.25634408749984894, 0.7049462406245846, 0.24978994309960684, 0.5412115433824815, 0.08326331436653561, 0.08326331436653561, 0.3548031420485285, 0.6307611414196062, 0.15092690996922864, 0.8217131764991337, 0.9921567974199045, 0.9714393723296224, 0.12774354505514854, 0.3512947489016585, 0.5109741802205942, 0.008399058965530207, 0.008399058965530207, 0.22677459206931558, 0.7559153068977186, 0.6694160477355579, 0.3347080238677789, 0.9782753529486432, 0.128166883476606, 0.064083441738303, 0.7049178591213329, 0.17999107050415278, 0.7799613055179954, 0.08525029212496071, 0.596752044874725, 0.25575087637488214, 0.9560664729720965, 0.7016852402052027, 0.2806740960820811, 0.9700630555903277, 0.9559447016939522, 0.7137890543970243, 0.21962740135293057, 0.9615916492853258, 0.8680395281023242, 0.09137258190550782, 0.8413679284779221, 0.07011399403982684, 0.2532210610148432, 0.10128842440593729, 0.6077305464356237, 0.029040234401338436, 0.9583277352441684, 0.6451667397507326, 0.0921666771072475, 0.12288890280966334, 0.12288890280966334, 0.4853792246738511, 0.10400983385868239, 0.13867977847824317, 0.24268961233692554, 0.5098694015654951, 0.46738028476837046, 0.3917420563149028, 0.565849636899304, 0.10772179147425923, 0.5386089573712962, 0.3231653744227777, 0.9633914921044242, 0.7260150450930366, 0.08066833834367074, 0.08066833834367074, 0.31654574489677423, 0.6330914897935485, 0.10029497914327788, 0.8825958164608454, 0.6475237227360808, 0.2428213960260303, 0.9596566577577179, 0.23483732710898372, 0.7338666472155742, 0.14623547534171388, 0.14623547534171388, 0.40214755718971323, 0.29247095068342777, 0.9700629325085091, 0.9634693341247623, 0.948206482122459, 0.9734544729646589, 0.08108444994799156, 0.18533588559540928, 0.4980901925376624, 0.22008636414454852, 0.5422306776340914, 0.08342010425139866, 0.16684020850279732, 0.16684020850279732, 0.27121480824031713, 0.6780370206007929, 0.6433408678694106, 0.24125282545102894, 0.9690822048011873, 0.9741345968613873, 0.8145007378617423, 0.13575012297695704, 0.9588760077545762, 0.7478396143925403, 0.2379489682158083, 0.5720749941414709, 0.2542555529517649, 0.15890972059485303, 0.3122523181651991, 0.17842989609439946, 0.49068221425959857, 0.04078213056215972, 0.5981379149116759, 0.3534451315387176, 0.9314997637329961, 0.17512474347172513, 0.8055738199699356, 0.1137792723856154, 0.8533445428921156, 0.3176140824113562, 0.07940352060283905, 0.5558246442198733, 0.9349073154267619, 0.8928268969893206, 0.9731860984379331, 0.33227226053856257, 0.5696095894946787, 0.047467465791223226, 0.27960056902556857, 0.6524013277263266, 0.9664240954513843, 0.09910383924239859, 0.8671585933709877, 0.9709663574124587, 0.9314697858259035, 0.28732899714054844, 0.6704343266612797, 0.09784019465921408, 0.7582615086089091, 0.1223002433240176, 0.26169352299776627, 0.7196571882438573, 0.9775028293411729, 0.3153090753973184, 0.1433223069987811, 0.05732892279951244, 0.4872958437958557, 0.1784815606508664, 0.10039587786611234, 0.23425704835426214, 0.4685140967085243, 0.01115509754067915, 0.04024654944419438, 0.6439447911071101, 0.30855687907215695, 0.2747248820385526, 0.6868122050963815, 0.9174500661098777, 0.6779537727970001, 0.2711815091188, 0.08524971535783794, 0.5967480075048656, 0.1704994307156759, 0.9017717627795049, 0.05009843126552805, 0.24877701045662506, 0.06784827557907956, 0.5201701127729433, 0.1583126430178523, 0.6179524282903719, 0.34927745946847105, 0.5665070987839169, 0.032066439553806614, 0.4061749010148838, 0.6923441321965688, 0.049160530096797786, 0.25399607216678854, 0.19848969854181894, 0.7939587941672758, 0.5936199525443984, 0.16960570072697095, 0.16960570072697095, 0.08434917118142098, 0.2530475135442629, 0.5904441982699469, 0.716294160685789, 0.2617228664044229, 0.9465830274681479, 0.305629427850359, 0.2500604409684756, 0.41676740161412595, 0.2722975688902517, 0.5143398523482532, 0.21178699802575132, 0.9694593669975626, 0.9910539733659067, 0.12217692813778228, 0.427619248482238, 0.12217692813778228, 0.3054423203444557, 0.9767147750582751, 0.9847599813874486, 0.904554620691473, 0.9354761547983882, 0.02923362983744963, 0.09049217786692429, 0.253378098027388, 0.506756196054776, 0.14478748458707885, 0.4367129933192405, 0.5161153557409206, 0.07152236897106595, 0.19072631725617586, 0.3933730293408627, 0.1549651327706429, 0.19072631725617586, 0.27555045408916684, 0.13777522704458342, 0.19518157164649316, 0.011481268920381952, 0.3788818743726044], \"Term\": [\"accord\", \"accord\", \"accord\", \"achieve\", \"achieve\", \"act\", \"act\", \"affect\", \"affect\", \"age\", \"age\", \"amp\", \"amp\", \"amp\", \"amp\", \"amp\", \"approve\", \"approve\", \"area\", \"article\", \"article\", \"ask\", \"ask\", \"ask\", \"ask\", \"astrazeneca\", \"avoid\", \"avoid\", \"avoid\", \"avoid\", \"believe\", \"believe\", \"believe\", \"booster\", \"booster\", \"boostershot\", \"boostershot\", \"bring\", \"business\", \"business\", \"care\", \"care\", \"care\", \"case\", \"case\", \"cause\", \"cause\", \"cause\", \"centre\", \"centre\", \"change\", \"change\", \"change\", \"check\", \"child\", \"child\", \"child\", \"come\", \"come\", \"come\", \"come\", \"come\", \"come\", \"company\", \"concern\", \"condition\", \"condition\", \"consider\", \"containment\", \"containment\", \"continue\", \"continue\", \"continue\", \"continue\", \"corona\", \"coronavirus\", \"coronavirus\", \"coronavirus\", \"coronavirus\", \"coronavirus\", \"coronavirus\", \"country\", \"country\", \"covaxin\", \"covid\", \"covid\", \"covid\", \"covid\", \"covid\", \"covid\", \"covid\", \"covidsymptom\", \"covidsymptom\", \"coviduk\", \"covidvaccine\", \"covidvaccine\", \"covidvaccine\", \"covidwave\", \"covidwave\", \"covishield\", \"create\", \"create\", \"curb\", \"datum\", \"datum\", \"day\", \"day\", \"day\", \"day\", \"day\", \"deal\", \"death\", \"death\", \"death\", \"death\", \"death\", \"decide\", \"delivery\", \"delivery\", \"die\", \"die\", \"disaster\", \"disaster\", \"disaster\", \"disease\", \"disease\", \"disease\", \"distancing\", \"doctor\", \"doctor\", \"dose\", \"dose\", \"dose\", \"dose\", \"drive\", \"drive\", \"drive\", \"drop\", \"economy\", \"economy\", \"economy\", \"economy\", \"economy\", \"effect\", \"effect\", \"effect\", \"effect\", \"emerge\", \"emergency\", \"emergency\", \"emergency\", \"employee\", \"employee\", \"end\", \"end\", \"end\", \"enjoy\", \"environment\", \"environment\", \"expect\", \"expect\", \"expert\", \"face\", \"face\", \"face\", \"face\", \"fall\", \"fall\", \"family\", \"family\", \"family\", \"family\", \"fault\", \"fear\", \"fear\", \"fear\", \"fight\", \"flu\", \"flu\", \"follow\", \"follow\", \"follow\", \"follow\", \"food\", \"food\", \"food\", \"food\", \"friend\", \"frontline\", \"government\", \"government\", \"government\", \"government\", \"government\", \"government\", \"govt\", \"govt\", \"govt\", \"grocery\", \"gujarat\", \"hand\", \"hand\", \"handle\", \"happen\", \"happen\", \"health\", \"health\", \"health\", \"health\", \"help\", \"help\", \"help\", \"help\", \"hero\", \"hit\", \"hit\", \"hit\", \"hold\", \"hold\", \"hold\", \"home\", \"home\", \"home\", \"hope\", \"hope\", \"hospital\", \"hospital\", \"hospital\", \"immunity\", \"impact\", \"impact\", \"increase\", \"increase\", \"indias\", \"indias\", \"induce\", \"induce\", \"infection\", \"infection\", \"infection\", \"infection\", \"information\", \"information\", \"jab\", \"jab\", \"job\", \"job\", \"job\", \"kid\", \"kid\", \"know\", \"know\", \"know\", \"lead\", \"lead\", \"lead\", \"learn\", \"learn\", \"let\", \"let\", \"let\", \"let\", \"level\", \"level\", \"level\", \"life\", \"life\", \"life\", \"lifestyle\", \"line\", \"list\", \"list\", \"list\", \"list\", \"live\", \"live\", \"live\", \"lockdown\", \"lockdown\", \"lockdown\", \"lockdown\", \"look\", \"look\", \"look\", \"lose\", \"lose\", \"lot\", \"lot\", \"lot\", \"lot\", \"love\", \"love\", \"love\", \"make\", \"make\", \"make\", \"man\", \"man\", \"man\", \"manage\", \"manage\", \"manage\", \"management\", \"mandate\", \"market\", \"mask\", \"measure\", \"measure\", \"million\", \"million\", \"million\", \"miss\", \"miss\", \"money\", \"money\", \"money\", \"month\", \"month\", \"month\", \"month\", \"mrna\", \"nation\", \"nation\", \"nation\", \"need\", \"need\", \"need\", \"need\", \"need\", \"news\", \"news\", \"news\", \"news\", \"number\", \"number\", \"number\", \"nurse\", \"occur\", \"office\", \"oil\", \"oil\", \"order\", \"order\", \"order\", \"order\", \"outbreak\", \"outbreak\", \"oxygen\", \"oxygen\", \"pandemic\", \"panic\", \"patient\", \"patient\", \"patient\", \"people\", \"people\", \"people\", \"people\", \"pfizer\", \"pfizer\", \"place\", \"plan\", \"plan\", \"plan\", \"play\", \"play\", \"point\", \"point\", \"point\", \"police\", \"population\", \"population\", \"power\", \"predict\", \"prevent\", \"prevent\", \"price\", \"protect\", \"protect\", \"protection\", \"protection\", \"provide\", \"provide\", \"provide\", \"quarantine\", \"quarantine\", \"rate\", \"rate\", \"rate\", \"rate\", \"read\", \"read\", \"read\", \"read\", \"reason\", \"reason\", \"receive\", \"receive\", \"reduce\", \"reduce\", \"reduce\", \"refuse\", \"release\", \"release\", \"release\", \"relief\", \"relief\", \"report\", \"report\", \"require\", \"require\", \"restriction\", \"rise\", \"rise\", \"risk\", \"risk\", \"risk\", \"risk\", \"run\", \"safety\", \"salute\", \"save\", \"say\", \"say\", \"say\", \"say\", \"school\", \"school\", \"school\", \"school\", \"service\", \"service\", \"set\", \"set\", \"shortage\", \"shot\", \"situation\", \"situation\", \"source\", \"spread\", \"spread\", \"start\", \"start\", \"start\", \"state\", \"state\", \"state\", \"stay\", \"stay\", \"stay\", \"stayhome\", \"stop\", \"stop\", \"store\", \"store\", \"story\", \"story\", \"story\", \"strategy\", \"stress\", \"study\", \"suffer\", \"suffer\", \"suffer\", \"suggest\", \"suggest\", \"supply\", \"support\", \"support\", \"surge\", \"symptom\", \"term\", \"term\", \"test\", \"test\", \"test\", \"thank\", \"thank\", \"thing\", \"think\", \"think\", \"think\", \"think\", \"time\", \"time\", \"time\", \"time\", \"time\", \"today\", \"today\", \"today\", \"travel\", \"travel\", \"trial\", \"try\", \"try\", \"understand\", \"understand\", \"understand\", \"unemployment\", \"unemployment\", \"use\", \"use\", \"use\", \"use\", \"vaccinate\", \"vaccinate\", \"vaccination\", \"vaccination\", \"vaccination\", \"vaccine\", \"vaccine\", \"vaccine\", \"variant\", \"variant\", \"video\", \"video\", \"video\", \"view\", \"view\", \"view\", \"virus\", \"virus\", \"wait\", \"want\", \"want\", \"want\", \"war\", \"war\", \"war\", \"warrior\", \"wave\", \"way\", \"way\", \"way\", \"way\", \"wear\", \"wfh\", \"win\", \"woman\", \"woman\", \"work\", \"work\", \"work\", \"work\", \"worker\", \"worker\", \"world\", \"world\", \"world\", \"world\", \"world\", \"year\", \"year\", \"year\", \"year\", \"year\"]}, \"R\": 30, \"lambda.step\": 0.01, \"plot.opts\": {\"xlab\": \"PC1\", \"ylab\": \"PC2\"}, \"topic.order\": [3, 4, 7, 2, 6, 5, 1]};\n",
       "\n",
       "function LDAvis_load_lib(url, callback){\n",
       "  var s = document.createElement('script');\n",
       "  s.src = url;\n",
       "  s.async = true;\n",
       "  s.onreadystatechange = s.onload = callback;\n",
       "  s.onerror = function(){console.warn(\"failed to load library \" + url);};\n",
       "  document.getElementsByTagName(\"head\")[0].appendChild(s);\n",
       "}\n",
       "\n",
       "if(typeof(LDAvis) !== \"undefined\"){\n",
       "   // already loaded: just create the visualization\n",
       "   !function(LDAvis){\n",
       "       new LDAvis(\"#\" + \"ldavis_el1430016769440462249455114977\", ldavis_el1430016769440462249455114977_data);\n",
       "   }(LDAvis);\n",
       "}else if(typeof define === \"function\" && define.amd){\n",
       "   // require.js is available: use it to load d3/LDAvis\n",
       "   require.config({paths: {d3: \"https://d3js.org/d3.v5\"}});\n",
       "   require([\"d3\"], function(d3){\n",
       "      window.d3 = d3;\n",
       "      LDAvis_load_lib(\"https://cdn.jsdelivr.net/gh/bmabey/pyLDAvis@3.3.1/pyLDAvis/js/ldavis.v3.0.0.js\", function(){\n",
       "        new LDAvis(\"#\" + \"ldavis_el1430016769440462249455114977\", ldavis_el1430016769440462249455114977_data);\n",
       "      });\n",
       "    });\n",
       "}else{\n",
       "    // require.js not available: dynamically load d3 & LDAvis\n",
       "    LDAvis_load_lib(\"https://d3js.org/d3.v5.js\", function(){\n",
       "         LDAvis_load_lib(\"https://cdn.jsdelivr.net/gh/bmabey/pyLDAvis@3.3.1/pyLDAvis/js/ldavis.v3.0.0.js\", function(){\n",
       "                 new LDAvis(\"#\" + \"ldavis_el1430016769440462249455114977\", ldavis_el1430016769440462249455114977_data);\n",
       "            })\n",
       "         });\n",
       "}\n",
       "</script>"
      ],
      "text/plain": [
       "PreparedData(topic_coordinates=               x          y  topics  cluster       Freq\n",
       "topic                                                  \n",
       "2     -29.594002  60.112713       1        1  18.430852\n",
       "3     -45.996586  11.891685       2        1  15.261459\n",
       "6      20.368856  70.019325       3        1  14.526677\n",
       "1      53.928768  31.704309       4        1  14.445209\n",
       "5     -12.437127 -26.423267       5        1  13.098676\n",
       "4       3.965971  21.797720       6        1  12.747118\n",
       "0      37.524284 -16.517805       7        1  11.490009, topic_info=             Term        Freq       Total Category  logprob  loglift\n",
       "168      pandemic  169.000000  169.000000  Default  30.0000  30.0000\n",
       "48   covidvaccine  310.000000  310.000000  Default  29.0000  29.0000\n",
       "263       vaccine  244.000000  244.000000  Default  28.0000  28.0000\n",
       "23           case  126.000000  126.000000  Default  27.0000  27.0000\n",
       "273          wave  106.000000  106.000000  Default  26.0000  26.0000\n",
       "..            ...         ...         ...      ...      ...      ...\n",
       "214           say   19.255147   86.329746   Topic7  -3.9580   0.6633\n",
       "119     infection   12.331625   38.327912   Topic7  -4.4036   1.0297\n",
       "42    coronavirus   17.958867  161.678272   Topic7  -4.0277  -0.0338\n",
       "132          life   13.680111   73.676766   Topic7  -4.2998   0.4799\n",
       "274           way   10.340198   32.739406   Topic7  -4.5797   1.0112\n",
       "\n",
       "[319 rows x 6 columns], token_table=      Topic      Freq     Term\n",
       "term                          \n",
       "0         1  0.209798   accord\n",
       "0         2  0.629393   accord\n",
       "0         7  0.139865   accord\n",
       "1         1  0.761459  achieve\n",
       "1         5  0.095182  achieve\n",
       "...     ...       ...      ...\n",
       "283       1  0.275550     year\n",
       "283       2  0.137775     year\n",
       "283       3  0.195182     year\n",
       "283       6  0.011481     year\n",
       "283       7  0.378882     year\n",
       "\n",
       "[557 rows x 3 columns], R=30, lambda_step=0.01, plot_opts={'xlab': 'PC1', 'ylab': 'PC2'}, topic_order=[3, 4, 7, 2, 6, 5, 1])"
      ]
     },
     "execution_count": 51,
     "metadata": {},
     "output_type": "execute_result"
    }
   ],
   "source": [
    "pyLDAvis.enable_notebook()\n",
    "panel = pyLDAvis.sklearn.prepare(best_lda_model, data_vectorized, vectorizer, mds='tsne')\n",
    "panel"
   ]
  },
  {
   "cell_type": "code",
   "execution_count": 75,
   "id": "30ba9526",
   "metadata": {},
   "outputs": [
    {
     "data": {
      "text/html": [
       "<div>\n",
       "<style scoped>\n",
       "    .dataframe tbody tr th:only-of-type {\n",
       "        vertical-align: middle;\n",
       "    }\n",
       "\n",
       "    .dataframe tbody tr th {\n",
       "        vertical-align: top;\n",
       "    }\n",
       "\n",
       "    .dataframe thead th {\n",
       "        text-align: right;\n",
       "    }\n",
       "</style>\n",
       "<table border=\"1\" class=\"dataframe\">\n",
       "  <thead>\n",
       "    <tr style=\"text-align: right;\">\n",
       "      <th></th>\n",
       "      <th>accord</th>\n",
       "      <th>achieve</th>\n",
       "      <th>act</th>\n",
       "      <th>affect</th>\n",
       "      <th>age</th>\n",
       "      <th>amp</th>\n",
       "      <th>announce</th>\n",
       "      <th>approve</th>\n",
       "      <th>area</th>\n",
       "      <th>article</th>\n",
       "      <th>...</th>\n",
       "      <th>way</th>\n",
       "      <th>wear</th>\n",
       "      <th>week</th>\n",
       "      <th>wfh</th>\n",
       "      <th>win</th>\n",
       "      <th>woman</th>\n",
       "      <th>work</th>\n",
       "      <th>worker</th>\n",
       "      <th>world</th>\n",
       "      <th>year</th>\n",
       "    </tr>\n",
       "  </thead>\n",
       "  <tbody>\n",
       "    <tr>\n",
       "      <th>Topic0</th>\n",
       "      <td>1.723453</td>\n",
       "      <td>0.143088</td>\n",
       "      <td>0.143594</td>\n",
       "      <td>0.142858</td>\n",
       "      <td>0.142975</td>\n",
       "      <td>0.143095</td>\n",
       "      <td>0.143435</td>\n",
       "      <td>0.143191</td>\n",
       "      <td>0.142857</td>\n",
       "      <td>0.143313</td>\n",
       "      <td>...</td>\n",
       "      <td>10.414407</td>\n",
       "      <td>0.143109</td>\n",
       "      <td>0.143390</td>\n",
       "      <td>0.142894</td>\n",
       "      <td>0.142857</td>\n",
       "      <td>0.143059</td>\n",
       "      <td>0.143164</td>\n",
       "      <td>0.142913</td>\n",
       "      <td>0.143033</td>\n",
       "      <td>33.131956</td>\n",
       "    </tr>\n",
       "    <tr>\n",
       "      <th>Topic1</th>\n",
       "      <td>0.142954</td>\n",
       "      <td>0.142857</td>\n",
       "      <td>0.143033</td>\n",
       "      <td>13.982927</td>\n",
       "      <td>0.142914</td>\n",
       "      <td>12.657796</td>\n",
       "      <td>0.142858</td>\n",
       "      <td>0.142857</td>\n",
       "      <td>16.141889</td>\n",
       "      <td>0.142945</td>\n",
       "      <td>...</td>\n",
       "      <td>0.142963</td>\n",
       "      <td>0.142926</td>\n",
       "      <td>13.052175</td>\n",
       "      <td>28.142080</td>\n",
       "      <td>0.142954</td>\n",
       "      <td>0.143105</td>\n",
       "      <td>56.650834</td>\n",
       "      <td>0.142916</td>\n",
       "      <td>13.069575</td>\n",
       "      <td>0.143404</td>\n",
       "    </tr>\n",
       "    <tr>\n",
       "      <th>Topic2</th>\n",
       "      <td>3.454782</td>\n",
       "      <td>8.944875</td>\n",
       "      <td>0.142857</td>\n",
       "      <td>0.143113</td>\n",
       "      <td>0.665053</td>\n",
       "      <td>32.819092</td>\n",
       "      <td>2.863321</td>\n",
       "      <td>10.118769</td>\n",
       "      <td>0.142857</td>\n",
       "      <td>3.140654</td>\n",
       "      <td>...</td>\n",
       "      <td>4.548192</td>\n",
       "      <td>0.142882</td>\n",
       "      <td>9.470102</td>\n",
       "      <td>0.142942</td>\n",
       "      <td>0.142988</td>\n",
       "      <td>34.092930</td>\n",
       "      <td>10.751695</td>\n",
       "      <td>11.803132</td>\n",
       "      <td>6.540353</td>\n",
       "      <td>25.677918</td>\n",
       "    </tr>\n",
       "    <tr>\n",
       "      <th>Topic3</th>\n",
       "      <td>9.249270</td>\n",
       "      <td>0.143069</td>\n",
       "      <td>0.142867</td>\n",
       "      <td>0.143388</td>\n",
       "      <td>0.142921</td>\n",
       "      <td>12.956161</td>\n",
       "      <td>3.143251</td>\n",
       "      <td>1.166356</td>\n",
       "      <td>0.143087</td>\n",
       "      <td>7.144056</td>\n",
       "      <td>...</td>\n",
       "      <td>14.871717</td>\n",
       "      <td>0.142950</td>\n",
       "      <td>0.143142</td>\n",
       "      <td>0.143116</td>\n",
       "      <td>13.142416</td>\n",
       "      <td>1.192061</td>\n",
       "      <td>29.763570</td>\n",
       "      <td>0.143090</td>\n",
       "      <td>16.430096</td>\n",
       "      <td>12.613957</td>\n",
       "    </tr>\n",
       "    <tr>\n",
       "      <th>Topic4</th>\n",
       "      <td>0.143059</td>\n",
       "      <td>0.142857</td>\n",
       "      <td>0.143068</td>\n",
       "      <td>2.301701</td>\n",
       "      <td>0.142857</td>\n",
       "      <td>0.144686</td>\n",
       "      <td>6.078851</td>\n",
       "      <td>0.142956</td>\n",
       "      <td>0.143250</td>\n",
       "      <td>0.143012</td>\n",
       "      <td>...</td>\n",
       "      <td>0.143333</td>\n",
       "      <td>0.142897</td>\n",
       "      <td>0.143048</td>\n",
       "      <td>0.143044</td>\n",
       "      <td>0.142894</td>\n",
       "      <td>0.142918</td>\n",
       "      <td>16.404429</td>\n",
       "      <td>13.481473</td>\n",
       "      <td>0.143303</td>\n",
       "      <td>0.800265</td>\n",
       "    </tr>\n",
       "    <tr>\n",
       "      <th>Topic5</th>\n",
       "      <td>0.143237</td>\n",
       "      <td>1.340396</td>\n",
       "      <td>1.168674</td>\n",
       "      <td>0.143022</td>\n",
       "      <td>0.142911</td>\n",
       "      <td>12.051645</td>\n",
       "      <td>0.143469</td>\n",
       "      <td>0.142968</td>\n",
       "      <td>0.143178</td>\n",
       "      <td>0.142858</td>\n",
       "      <td>...</td>\n",
       "      <td>0.143101</td>\n",
       "      <td>0.142906</td>\n",
       "      <td>2.650739</td>\n",
       "      <td>0.143050</td>\n",
       "      <td>0.142895</td>\n",
       "      <td>0.142947</td>\n",
       "      <td>0.143154</td>\n",
       "      <td>0.143200</td>\n",
       "      <td>15.846786</td>\n",
       "      <td>0.143027</td>\n",
       "    </tr>\n",
       "    <tr>\n",
       "      <th>Topic6</th>\n",
       "      <td>0.143245</td>\n",
       "      <td>0.142857</td>\n",
       "      <td>12.115907</td>\n",
       "      <td>0.142990</td>\n",
       "      <td>20.620369</td>\n",
       "      <td>42.227525</td>\n",
       "      <td>2.484815</td>\n",
       "      <td>0.142903</td>\n",
       "      <td>0.142880</td>\n",
       "      <td>0.143161</td>\n",
       "      <td>...</td>\n",
       "      <td>3.736288</td>\n",
       "      <td>32.142330</td>\n",
       "      <td>7.397404</td>\n",
       "      <td>0.142874</td>\n",
       "      <td>0.142995</td>\n",
       "      <td>0.142979</td>\n",
       "      <td>0.143154</td>\n",
       "      <td>0.143276</td>\n",
       "      <td>34.826855</td>\n",
       "      <td>17.489472</td>\n",
       "    </tr>\n",
       "  </tbody>\n",
       "</table>\n",
       "<p>7 rows × 284 columns</p>\n",
       "</div>"
      ],
      "text/plain": [
       "          accord   achieve        act     affect        age        amp  \\\n",
       "Topic0  1.723453  0.143088   0.143594   0.142858   0.142975   0.143095   \n",
       "Topic1  0.142954  0.142857   0.143033  13.982927   0.142914  12.657796   \n",
       "Topic2  3.454782  8.944875   0.142857   0.143113   0.665053  32.819092   \n",
       "Topic3  9.249270  0.143069   0.142867   0.143388   0.142921  12.956161   \n",
       "Topic4  0.143059  0.142857   0.143068   2.301701   0.142857   0.144686   \n",
       "Topic5  0.143237  1.340396   1.168674   0.143022   0.142911  12.051645   \n",
       "Topic6  0.143245  0.142857  12.115907   0.142990  20.620369  42.227525   \n",
       "\n",
       "        announce    approve       area   article  ...        way       wear  \\\n",
       "Topic0  0.143435   0.143191   0.142857  0.143313  ...  10.414407   0.143109   \n",
       "Topic1  0.142858   0.142857  16.141889  0.142945  ...   0.142963   0.142926   \n",
       "Topic2  2.863321  10.118769   0.142857  3.140654  ...   4.548192   0.142882   \n",
       "Topic3  3.143251   1.166356   0.143087  7.144056  ...  14.871717   0.142950   \n",
       "Topic4  6.078851   0.142956   0.143250  0.143012  ...   0.143333   0.142897   \n",
       "Topic5  0.143469   0.142968   0.143178  0.142858  ...   0.143101   0.142906   \n",
       "Topic6  2.484815   0.142903   0.142880  0.143161  ...   3.736288  32.142330   \n",
       "\n",
       "             week        wfh        win      woman       work     worker  \\\n",
       "Topic0   0.143390   0.142894   0.142857   0.143059   0.143164   0.142913   \n",
       "Topic1  13.052175  28.142080   0.142954   0.143105  56.650834   0.142916   \n",
       "Topic2   9.470102   0.142942   0.142988  34.092930  10.751695  11.803132   \n",
       "Topic3   0.143142   0.143116  13.142416   1.192061  29.763570   0.143090   \n",
       "Topic4   0.143048   0.143044   0.142894   0.142918  16.404429  13.481473   \n",
       "Topic5   2.650739   0.143050   0.142895   0.142947   0.143154   0.143200   \n",
       "Topic6   7.397404   0.142874   0.142995   0.142979   0.143154   0.143276   \n",
       "\n",
       "            world       year  \n",
       "Topic0   0.143033  33.131956  \n",
       "Topic1  13.069575   0.143404  \n",
       "Topic2   6.540353  25.677918  \n",
       "Topic3  16.430096  12.613957  \n",
       "Topic4   0.143303   0.800265  \n",
       "Topic5  15.846786   0.143027  \n",
       "Topic6  34.826855  17.489472  \n",
       "\n",
       "[7 rows x 284 columns]"
      ]
     },
     "execution_count": 75,
     "metadata": {},
     "output_type": "execute_result"
    }
   ],
   "source": [
    "# Topic-Keyword Matrix\n",
    "df_topic_keywords = pd.DataFrame(best_lda_model.components_)\n",
    "\n",
    "# Assign Column and Index\n",
    "df_topic_keywords.columns = vectorizer.get_feature_names()\n",
    "df_topic_keywords.index = topicnames\n",
    "\n",
    "# View\n",
    "df_topic_keywords"
   ]
  },
  {
   "cell_type": "code",
   "execution_count": 76,
   "id": "d269da49",
   "metadata": {
    "scrolled": true
   },
   "outputs": [
    {
     "data": {
      "text/html": [
       "<div>\n",
       "<style scoped>\n",
       "    .dataframe tbody tr th:only-of-type {\n",
       "        vertical-align: middle;\n",
       "    }\n",
       "\n",
       "    .dataframe tbody tr th {\n",
       "        vertical-align: top;\n",
       "    }\n",
       "\n",
       "    .dataframe thead th {\n",
       "        text-align: right;\n",
       "    }\n",
       "</style>\n",
       "<table border=\"1\" class=\"dataframe\">\n",
       "  <thead>\n",
       "    <tr style=\"text-align: right;\">\n",
       "      <th></th>\n",
       "      <th>Word 0</th>\n",
       "      <th>Word 1</th>\n",
       "      <th>Word 2</th>\n",
       "      <th>Word 3</th>\n",
       "      <th>Word 4</th>\n",
       "      <th>Word 5</th>\n",
       "      <th>Word 6</th>\n",
       "      <th>Word 7</th>\n",
       "      <th>Word 8</th>\n",
       "      <th>Word 9</th>\n",
       "      <th>Word 10</th>\n",
       "      <th>Word 11</th>\n",
       "      <th>Word 12</th>\n",
       "      <th>Word 13</th>\n",
       "      <th>Word 14</th>\n",
       "      <th>Word 15</th>\n",
       "      <th>Word 16</th>\n",
       "      <th>Word 17</th>\n",
       "      <th>Word 18</th>\n",
       "      <th>Word 19</th>\n",
       "    </tr>\n",
       "  </thead>\n",
       "  <tbody>\n",
       "    <tr>\n",
       "      <th>Topic 0</th>\n",
       "      <td>covid</td>\n",
       "      <td>vaccine</td>\n",
       "      <td>covaxin</td>\n",
       "      <td>covidvaccine</td>\n",
       "      <td>vaccination</td>\n",
       "      <td>year</td>\n",
       "      <td>lockdown</td>\n",
       "      <td>study</td>\n",
       "      <td>save</td>\n",
       "      <td>covishield</td>\n",
       "      <td>news</td>\n",
       "      <td>stop</td>\n",
       "      <td>happen</td>\n",
       "      <td>immunity</td>\n",
       "      <td>dose</td>\n",
       "      <td>say</td>\n",
       "      <td>datum</td>\n",
       "      <td>death</td>\n",
       "      <td>govt</td>\n",
       "      <td>coronavirus</td>\n",
       "    </tr>\n",
       "    <tr>\n",
       "      <th>Topic 1</th>\n",
       "      <td>people</td>\n",
       "      <td>covid</td>\n",
       "      <td>work</td>\n",
       "      <td>oxygen</td>\n",
       "      <td>home</td>\n",
       "      <td>hospital</td>\n",
       "      <td>price</td>\n",
       "      <td>die</td>\n",
       "      <td>wfh</td>\n",
       "      <td>stay</td>\n",
       "      <td>end</td>\n",
       "      <td>thing</td>\n",
       "      <td>food</td>\n",
       "      <td>oil</td>\n",
       "      <td>spread</td>\n",
       "      <td>time</td>\n",
       "      <td>virus</td>\n",
       "      <td>shortage</td>\n",
       "      <td>death</td>\n",
       "      <td>start</td>\n",
       "    </tr>\n",
       "    <tr>\n",
       "      <th>Topic 2</th>\n",
       "      <td>covidvaccine</td>\n",
       "      <td>vaccine</td>\n",
       "      <td>covid</td>\n",
       "      <td>booster</td>\n",
       "      <td>woman</td>\n",
       "      <td>health</td>\n",
       "      <td>know</td>\n",
       "      <td>need</td>\n",
       "      <td>amp</td>\n",
       "      <td>make</td>\n",
       "      <td>child</td>\n",
       "      <td>shot</td>\n",
       "      <td>year</td>\n",
       "      <td>vaccinate</td>\n",
       "      <td>kid</td>\n",
       "      <td>rate</td>\n",
       "      <td>day</td>\n",
       "      <td>pfizer</td>\n",
       "      <td>fall</td>\n",
       "      <td>protect</td>\n",
       "    </tr>\n",
       "    <tr>\n",
       "      <th>Topic 3</th>\n",
       "      <td>pandemic</td>\n",
       "      <td>coronavirus</td>\n",
       "      <td>virus</td>\n",
       "      <td>day</td>\n",
       "      <td>impact</td>\n",
       "      <td>economy</td>\n",
       "      <td>test</td>\n",
       "      <td>work</td>\n",
       "      <td>make</td>\n",
       "      <td>bring</td>\n",
       "      <td>business</td>\n",
       "      <td>country</td>\n",
       "      <td>need</td>\n",
       "      <td>death</td>\n",
       "      <td>health</td>\n",
       "      <td>time</td>\n",
       "      <td>company</td>\n",
       "      <td>world</td>\n",
       "      <td>market</td>\n",
       "      <td>symptom</td>\n",
       "    </tr>\n",
       "    <tr>\n",
       "      <th>Topic 4</th>\n",
       "      <td>life</td>\n",
       "      <td>corona</td>\n",
       "      <td>fight</td>\n",
       "      <td>time</td>\n",
       "      <td>covid</td>\n",
       "      <td>support</td>\n",
       "      <td>thank</td>\n",
       "      <td>quarantine</td>\n",
       "      <td>doctor</td>\n",
       "      <td>let</td>\n",
       "      <td>change</td>\n",
       "      <td>today</td>\n",
       "      <td>panic</td>\n",
       "      <td>warrior</td>\n",
       "      <td>help</td>\n",
       "      <td>nurse</td>\n",
       "      <td>learn</td>\n",
       "      <td>day</td>\n",
       "      <td>hope</td>\n",
       "      <td>care</td>\n",
       "    </tr>\n",
       "    <tr>\n",
       "      <th>Topic 5</th>\n",
       "      <td>case</td>\n",
       "      <td>wave</td>\n",
       "      <td>covid</td>\n",
       "      <td>country</td>\n",
       "      <td>report</td>\n",
       "      <td>say</td>\n",
       "      <td>expert</td>\n",
       "      <td>rise</td>\n",
       "      <td>variant</td>\n",
       "      <td>increase</td>\n",
       "      <td>state</td>\n",
       "      <td>number</td>\n",
       "      <td>infection</td>\n",
       "      <td>surge</td>\n",
       "      <td>restriction</td>\n",
       "      <td>world</td>\n",
       "      <td>predict</td>\n",
       "      <td>death</td>\n",
       "      <td>store</td>\n",
       "      <td>hit</td>\n",
       "    </tr>\n",
       "    <tr>\n",
       "      <th>Topic 6</th>\n",
       "      <td>mask</td>\n",
       "      <td>covidvaccine</td>\n",
       "      <td>vaccination</td>\n",
       "      <td>today</td>\n",
       "      <td>dose</td>\n",
       "      <td>booster</td>\n",
       "      <td>stay</td>\n",
       "      <td>amp</td>\n",
       "      <td>world</td>\n",
       "      <td>wear</td>\n",
       "      <td>people</td>\n",
       "      <td>use</td>\n",
       "      <td>centre</td>\n",
       "      <td>lose</td>\n",
       "      <td>family</td>\n",
       "      <td>age</td>\n",
       "      <td>face</td>\n",
       "      <td>job</td>\n",
       "      <td>distancing</td>\n",
       "      <td>measure</td>\n",
       "    </tr>\n",
       "  </tbody>\n",
       "</table>\n",
       "</div>"
      ],
      "text/plain": [
       "               Word 0        Word 1       Word 2        Word 3       Word 4  \\\n",
       "Topic 0         covid       vaccine      covaxin  covidvaccine  vaccination   \n",
       "Topic 1        people         covid         work        oxygen         home   \n",
       "Topic 2  covidvaccine       vaccine        covid       booster        woman   \n",
       "Topic 3      pandemic   coronavirus        virus           day       impact   \n",
       "Topic 4          life        corona        fight          time        covid   \n",
       "Topic 5          case          wave        covid       country       report   \n",
       "Topic 6          mask  covidvaccine  vaccination         today         dose   \n",
       "\n",
       "           Word 5    Word 6      Word 7   Word 8      Word 9   Word 10  \\\n",
       "Topic 0      year  lockdown       study     save  covishield      news   \n",
       "Topic 1  hospital     price         die      wfh        stay       end   \n",
       "Topic 2    health      know        need      amp        make     child   \n",
       "Topic 3   economy      test        work     make       bring  business   \n",
       "Topic 4   support     thank  quarantine   doctor         let    change   \n",
       "Topic 5       say    expert        rise  variant    increase     state   \n",
       "Topic 6   booster      stay         amp    world        wear    people   \n",
       "\n",
       "         Word 11    Word 12    Word 13      Word 14 Word 15  Word 16  \\\n",
       "Topic 0     stop     happen   immunity         dose     say    datum   \n",
       "Topic 1    thing       food        oil       spread    time    virus   \n",
       "Topic 2     shot       year  vaccinate          kid    rate      day   \n",
       "Topic 3  country       need      death       health    time  company   \n",
       "Topic 4    today      panic    warrior         help   nurse    learn   \n",
       "Topic 5   number  infection      surge  restriction   world  predict   \n",
       "Topic 6      use     centre       lose       family     age     face   \n",
       "\n",
       "          Word 17     Word 18      Word 19  \n",
       "Topic 0     death        govt  coronavirus  \n",
       "Topic 1  shortage       death        start  \n",
       "Topic 2    pfizer        fall      protect  \n",
       "Topic 3     world      market      symptom  \n",
       "Topic 4       day        hope         care  \n",
       "Topic 5     death       store          hit  \n",
       "Topic 6       job  distancing      measure  "
      ]
     },
     "execution_count": 76,
     "metadata": {},
     "output_type": "execute_result"
    }
   ],
   "source": [
    "def show_topics(vectorizer=vectorizer, lda_model=lda_model, n_words=7):\n",
    "    keywords = np.array(vectorizer.get_feature_names())\n",
    "    topic_keywords = []\n",
    "    for topic_weights in lda_model.components_:\n",
    "        top_keyword_locs = (-topic_weights).argsort()[:n_words]\n",
    "        topic_keywords.append(keywords.take(top_keyword_locs))\n",
    "    return topic_keywords\n",
    "topic_keywords = show_topics(vectorizer=vectorizer, lda_model=best_lda_model, n_words=20)\n",
    "\n",
    "# Topic - Keywords Dataframe\n",
    "df_topic_keywords = pd.DataFrame(topic_keywords)\n",
    "df_topic_keywords.columns = ['Word '+str(i) for i in range(df_topic_keywords.shape[1])]\n",
    "df_topic_keywords.index = ['Topic '+str(i) for i in range(df_topic_keywords.shape[0])]\n",
    "df_topic_keywords\n"
   ]
  },
  {
   "cell_type": "code",
   "execution_count": 77,
   "id": "6bcfbec9",
   "metadata": {
    "scrolled": true
   },
   "outputs": [],
   "source": [
    "Topics = [\"health\" , \"cases\" , \"economy\" ,\"lockdown\" , \"work\"  , \"impact on people\" , \"vaccine\"]\n",
    "df_topic_keywords[\"Topics\"]=Topics"
   ]
  },
  {
   "cell_type": "code",
   "execution_count": 78,
   "id": "f1fe326e",
   "metadata": {},
   "outputs": [],
   "source": [
    "def predict_topic(text, nlp=nlp):\n",
    "    global sent_to_words\n",
    "    global lemmatization\n",
    "# Step 1: Clean with simple_preprocess\n",
    "    mytext_2 = list(sent_to_words(text))\n",
    "# Step 2: Lemmatize\n",
    "    mytext_3 = lemmatization(mytext_2, allowed_postags=['NOUN', 'ADJ', 'VERB', 'ADV'])\n",
    "# Step 3: Vectorize transform\n",
    "    mytext_4 = vectorizer.transform(mytext_3)\n",
    "# Step 4: LDA Transform\n",
    "    topic_probability_scores = lda_model.transform(mytext_4)\n",
    "    topic = df_topic_keywords.iloc[np.argmax(topic_probability_scores), 1:14].values.tolist()    \n",
    "    # Step 5: Infer Topic\n",
    "    infer_topic = df_topic_keywords.iloc[np.argmax(topic_probability_scores), -1]\n",
    "    #topic_guess = df_topic_keywords.iloc[np.argmax(topic_probability_scores), Topics]\n",
    "    return infer_topic, topic, topic_probability_scores\n",
    "# Predict the topic\n"
   ]
  },
  {
   "cell_type": "code",
   "execution_count": 79,
   "id": "c1e2d828",
   "metadata": {
    "scrolled": true
   },
   "outputs": [
    {
     "name": "stdout",
     "output_type": "stream",
     "text": [
      "['the effectiveness of mrna covid vaccine pfizer in pregnant women is as strong as that in the general  population']\n",
      "['covidvaccine', 'vaccination', 'today', 'dose', 'booster', 'stay', 'amp', 'world', 'wear', 'people', 'use', 'centre', 'lose']\n",
      "vaccine\n"
     ]
    }
   ],
   "source": [
    "mytext=['the effectiveness of mrna covid vaccine pfizer in pregnant women is as strong as that in the general  population']\n",
    "infer_topic, topic, prob_scores = predict_topic(text = mytext)\n",
    "print(mytext)\n",
    "print(topic)\n",
    "print(infer_topic)"
   ]
  },
  {
   "cell_type": "code",
   "execution_count": null,
   "id": "a1ab7029",
   "metadata": {},
   "outputs": [],
   "source": []
  },
  {
   "cell_type": "code",
   "execution_count": 81,
   "id": "fce95f58",
   "metadata": {},
   "outputs": [
    {
     "data": {
      "text/html": [
       "<div>\n",
       "<style scoped>\n",
       "    .dataframe tbody tr th:only-of-type {\n",
       "        vertical-align: middle;\n",
       "    }\n",
       "\n",
       "    .dataframe tbody tr th {\n",
       "        vertical-align: top;\n",
       "    }\n",
       "\n",
       "    .dataframe thead th {\n",
       "        text-align: right;\n",
       "    }\n",
       "</style>\n",
       "<table border=\"1\" class=\"dataframe\">\n",
       "  <thead>\n",
       "    <tr style=\"text-align: right;\">\n",
       "      <th></th>\n",
       "      <th>tweet_processed</th>\n",
       "      <th>Topics</th>\n",
       "    </tr>\n",
       "  </thead>\n",
       "  <tbody>\n",
       "    <tr>\n",
       "      <th>0</th>\n",
       "      <td>completely healthy  year old develops life thr...</td>\n",
       "      <td>vaccine</td>\n",
       "    </tr>\n",
       "    <tr>\n",
       "      <th>1</th>\n",
       "      <td>i see faucidogtorturer trending beagles are ro...</td>\n",
       "      <td>cases</td>\n",
       "    </tr>\n",
       "    <tr>\n",
       "      <th>2</th>\n",
       "      <td>million doses of covidvaccine ready to go for...</td>\n",
       "      <td>vaccine</td>\n",
       "    </tr>\n",
       "    <tr>\n",
       "      <th>3</th>\n",
       "      <td>the world isn't just battling the coronavirus ...</td>\n",
       "      <td>work</td>\n",
       "    </tr>\n",
       "    <tr>\n",
       "      <th>4</th>\n",
       "      <td>not good news for ppl on anti-cd meds rituxima...</td>\n",
       "      <td>health</td>\n",
       "    </tr>\n",
       "    <tr>\n",
       "      <th>...</th>\n",
       "      <td>...</td>\n",
       "      <td>...</td>\n",
       "    </tr>\n",
       "    <tr>\n",
       "      <th>1906</th>\n",
       "      <td>If they put vaccine in liquor, half the popula...</td>\n",
       "      <td>work</td>\n",
       "    </tr>\n",
       "    <tr>\n",
       "      <th>1907</th>\n",
       "      <td>South Africa wants to return India's vaccines ...</td>\n",
       "      <td>work</td>\n",
       "    </tr>\n",
       "    <tr>\n",
       "      <th>1908</th>\n",
       "      <td>India sends free Covaxin Covishield vaccines t...</td>\n",
       "      <td>cases</td>\n",
       "    </tr>\n",
       "    <tr>\n",
       "      <th>1909</th>\n",
       "      <td>India is yet to endorse SputnikV As usual Euro...</td>\n",
       "      <td>cases</td>\n",
       "    </tr>\n",
       "    <tr>\n",
       "      <th>1910</th>\n",
       "      <td>COVID19 SouthAfrican variant detected in India...</td>\n",
       "      <td>cases</td>\n",
       "    </tr>\n",
       "  </tbody>\n",
       "</table>\n",
       "<p>1911 rows × 2 columns</p>\n",
       "</div>"
      ],
      "text/plain": [
       "                                        tweet_processed   Topics\n",
       "0     completely healthy  year old develops life thr...  vaccine\n",
       "1     i see faucidogtorturer trending beagles are ro...    cases\n",
       "2      million doses of covidvaccine ready to go for...  vaccine\n",
       "3     the world isn't just battling the coronavirus ...     work\n",
       "4     not good news for ppl on anti-cd meds rituxima...   health\n",
       "...                                                 ...      ...\n",
       "1906  If they put vaccine in liquor, half the popula...     work\n",
       "1907  South Africa wants to return India's vaccines ...     work\n",
       "1908  India sends free Covaxin Covishield vaccines t...    cases\n",
       "1909  India is yet to endorse SputnikV As usual Euro...    cases\n",
       "1910  COVID19 SouthAfrican variant detected in India...    cases\n",
       "\n",
       "[1911 rows x 2 columns]"
      ]
     },
     "execution_count": 81,
     "metadata": {},
     "output_type": "execute_result"
    }
   ],
   "source": [
    "def apply_predict_topic(text):\n",
    "    text = [text]\n",
    "    infer_topic, topic, prob_scores = predict_topic(text = text)\n",
    "    return(infer_topic)\n",
    "df[\"Topics\"]= df['tweet_processed'].apply(apply_predict_topic)\n",
    "df"
   ]
  },
  {
   "cell_type": "code",
   "execution_count": null,
   "id": "978c13fc",
   "metadata": {},
   "outputs": [],
   "source": []
  },
  {
   "cell_type": "code",
   "execution_count": 82,
   "id": "53dffc40",
   "metadata": {
    "scrolled": true
   },
   "outputs": [
    {
     "data": {
      "text/html": [
       "<div>\n",
       "<style scoped>\n",
       "    .dataframe tbody tr th:only-of-type {\n",
       "        vertical-align: middle;\n",
       "    }\n",
       "\n",
       "    .dataframe tbody tr th {\n",
       "        vertical-align: top;\n",
       "    }\n",
       "\n",
       "    .dataframe thead th {\n",
       "        text-align: right;\n",
       "    }\n",
       "</style>\n",
       "<table border=\"1\" class=\"dataframe\">\n",
       "  <thead>\n",
       "    <tr style=\"text-align: right;\">\n",
       "      <th></th>\n",
       "      <th>tweet_processed</th>\n",
       "      <th>Topics</th>\n",
       "    </tr>\n",
       "  </thead>\n",
       "  <tbody>\n",
       "    <tr>\n",
       "      <th>1</th>\n",
       "      <td>i see faucidogtorturer trending beagles are ro...</td>\n",
       "      <td>cases</td>\n",
       "    </tr>\n",
       "    <tr>\n",
       "      <th>17</th>\n",
       "      <td>the benefits of vaccination for most young peo...</td>\n",
       "      <td>cases</td>\n",
       "    </tr>\n",
       "    <tr>\n",
       "      <th>28</th>\n",
       "      <td>rural bengaluru covidvaccine availability for...</td>\n",
       "      <td>cases</td>\n",
       "    </tr>\n",
       "    <tr>\n",
       "      <th>43</th>\n",
       "      <td>does molly understand anything about gillickc...</td>\n",
       "      <td>cases</td>\n",
       "    </tr>\n",
       "    <tr>\n",
       "      <th>45</th>\n",
       "      <td>uttar pradesh government is now planning to sh...</td>\n",
       "      <td>cases</td>\n",
       "    </tr>\n",
       "    <tr>\n",
       "      <th>...</th>\n",
       "      <td>...</td>\n",
       "      <td>...</td>\n",
       "    </tr>\n",
       "    <tr>\n",
       "      <th>1904</th>\n",
       "      <td>COVID19 Coronavirusvaccine Covaxin Covishield ...</td>\n",
       "      <td>cases</td>\n",
       "    </tr>\n",
       "    <tr>\n",
       "      <th>1905</th>\n",
       "      <td>COVAXIN or CovishieldVaccine Both are safe. Tw...</td>\n",
       "      <td>cases</td>\n",
       "    </tr>\n",
       "    <tr>\n",
       "      <th>1908</th>\n",
       "      <td>India sends free Covaxin Covishield vaccines t...</td>\n",
       "      <td>cases</td>\n",
       "    </tr>\n",
       "    <tr>\n",
       "      <th>1909</th>\n",
       "      <td>India is yet to endorse SputnikV As usual Euro...</td>\n",
       "      <td>cases</td>\n",
       "    </tr>\n",
       "    <tr>\n",
       "      <th>1910</th>\n",
       "      <td>COVID19 SouthAfrican variant detected in India...</td>\n",
       "      <td>cases</td>\n",
       "    </tr>\n",
       "  </tbody>\n",
       "</table>\n",
       "<p>225 rows × 2 columns</p>\n",
       "</div>"
      ],
      "text/plain": [
       "                                        tweet_processed Topics\n",
       "1     i see faucidogtorturer trending beagles are ro...  cases\n",
       "17    the benefits of vaccination for most young peo...  cases\n",
       "28     rural bengaluru covidvaccine availability for...  cases\n",
       "43     does molly understand anything about gillickc...  cases\n",
       "45    uttar pradesh government is now planning to sh...  cases\n",
       "...                                                 ...    ...\n",
       "1904  COVID19 Coronavirusvaccine Covaxin Covishield ...  cases\n",
       "1905  COVAXIN or CovishieldVaccine Both are safe. Tw...  cases\n",
       "1908  India sends free Covaxin Covishield vaccines t...  cases\n",
       "1909  India is yet to endorse SputnikV As usual Euro...  cases\n",
       "1910  COVID19 SouthAfrican variant detected in India...  cases\n",
       "\n",
       "[225 rows x 2 columns]"
      ]
     },
     "execution_count": 82,
     "metadata": {},
     "output_type": "execute_result"
    }
   ],
   "source": [
    "df.loc[df['Topics'] == 'cases']"
   ]
  },
  {
   "cell_type": "code",
   "execution_count": 445,
   "id": "791bb49d",
   "metadata": {},
   "outputs": [
    {
     "data": {
      "text/plain": [
       "lockdown            325\n",
       "work                318\n",
       "vaccine             314\n",
       "impact on people    291\n",
       "health              274\n",
       "cases               225\n",
       "economy             164\n",
       "Name: Topics, dtype: int64"
      ]
     },
     "execution_count": 445,
     "metadata": {},
     "output_type": "execute_result"
    }
   ],
   "source": [
    "df[\"Topics\"].value_counts()"
   ]
  },
  {
   "cell_type": "code",
   "execution_count": 449,
   "id": "70a68de7",
   "metadata": {
    "scrolled": true
   },
   "outputs": [],
   "source": [
    "df = df.sort_values(by=['Topics'])"
   ]
  },
  {
   "cell_type": "code",
   "execution_count": 450,
   "id": "0d361c20",
   "metadata": {},
   "outputs": [],
   "source": [
    "header = ['tweet_processed','Topics']"
   ]
  },
  {
   "cell_type": "code",
   "execution_count": 451,
   "id": "839f0840",
   "metadata": {},
   "outputs": [],
   "source": [
    "df.to_csv('lda_op.csv' , columns=header)"
   ]
  },
  {
   "cell_type": "markdown",
   "id": "1c99d873",
   "metadata": {},
   "source": [
    "### Module 3: Sentiment Analysis"
   ]
  },
  {
   "cell_type": "markdown",
   "id": "3af56970",
   "metadata": {},
   "source": [
    "### Annotation "
   ]
  },
  {
   "cell_type": "code",
   "execution_count": null,
   "id": "de37a4d0",
   "metadata": {},
   "outputs": [],
   "source": []
  },
  {
   "cell_type": "code",
   "execution_count": 83,
   "id": "a537ef5b",
   "metadata": {},
   "outputs": [
    {
     "data": {
      "text/html": [
       "<div>\n",
       "<style scoped>\n",
       "    .dataframe tbody tr th:only-of-type {\n",
       "        vertical-align: middle;\n",
       "    }\n",
       "\n",
       "    .dataframe tbody tr th {\n",
       "        vertical-align: top;\n",
       "    }\n",
       "\n",
       "    .dataframe thead th {\n",
       "        text-align: right;\n",
       "    }\n",
       "</style>\n",
       "<table border=\"1\" class=\"dataframe\">\n",
       "  <thead>\n",
       "    <tr style=\"text-align: right;\">\n",
       "      <th></th>\n",
       "      <th>Unnamed: 0</th>\n",
       "      <th>tweet_processed</th>\n",
       "      <th>Topics</th>\n",
       "    </tr>\n",
       "  </thead>\n",
       "  <tbody>\n",
       "    <tr>\n",
       "      <th>0</th>\n",
       "      <td>1910</td>\n",
       "      <td>covid southafrican variant detected in india h...</td>\n",
       "      <td>cases</td>\n",
       "    </tr>\n",
       "    <tr>\n",
       "      <th>1</th>\n",
       "      <td>362</td>\n",
       "      <td>this data sadly will now become a political fo...</td>\n",
       "      <td>cases</td>\n",
       "    </tr>\n",
       "    <tr>\n",
       "      <th>2</th>\n",
       "      <td>361</td>\n",
       "      <td>it's not over covidcrisis covid publicinquiry ...</td>\n",
       "      <td>cases</td>\n",
       "    </tr>\n",
       "    <tr>\n",
       "      <th>3</th>\n",
       "      <td>1223</td>\n",
       "      <td>corona dose not to feel only to listen</td>\n",
       "      <td>cases</td>\n",
       "    </tr>\n",
       "    <tr>\n",
       "      <th>4</th>\n",
       "      <td>353</td>\n",
       "      <td>keeping our drivers and customers safe with ou...</td>\n",
       "      <td>cases</td>\n",
       "    </tr>\n",
       "    <tr>\n",
       "      <th>...</th>\n",
       "      <td>...</td>\n",
       "      <td>...</td>\n",
       "      <td>...</td>\n",
       "    </tr>\n",
       "    <tr>\n",
       "      <th>1906</th>\n",
       "      <td>436</td>\n",
       "      <td>in view of the continuous dip in coronavirus c...</td>\n",
       "      <td>work</td>\n",
       "    </tr>\n",
       "    <tr>\n",
       "      <th>1907</th>\n",
       "      <td>1786</td>\n",
       "      <td>vadodara covid tally reaches  with  new cases ...</td>\n",
       "      <td>work</td>\n",
       "    </tr>\n",
       "    <tr>\n",
       "      <th>1908</th>\n",
       "      <td>67</td>\n",
       "      <td>uk suffered  new deltavariant cases and  new d...</td>\n",
       "      <td>work</td>\n",
       "    </tr>\n",
       "    <tr>\n",
       "      <th>1909</th>\n",
       "      <td>1116</td>\n",
       "      <td>my last selfie before lockdown with my team at...</td>\n",
       "      <td>work</td>\n",
       "    </tr>\n",
       "    <tr>\n",
       "      <th>1910</th>\n",
       "      <td>1743</td>\n",
       "      <td>just got home from the supermarket panic buyin...</td>\n",
       "      <td>work</td>\n",
       "    </tr>\n",
       "  </tbody>\n",
       "</table>\n",
       "<p>1911 rows × 3 columns</p>\n",
       "</div>"
      ],
      "text/plain": [
       "      Unnamed: 0                                    tweet_processed Topics\n",
       "0           1910  covid southafrican variant detected in india h...  cases\n",
       "1            362  this data sadly will now become a political fo...  cases\n",
       "2            361  it's not over covidcrisis covid publicinquiry ...  cases\n",
       "3           1223             corona dose not to feel only to listen  cases\n",
       "4            353  keeping our drivers and customers safe with ou...  cases\n",
       "...          ...                                                ...    ...\n",
       "1906         436  in view of the continuous dip in coronavirus c...   work\n",
       "1907        1786  vadodara covid tally reaches  with  new cases ...   work\n",
       "1908          67  uk suffered  new deltavariant cases and  new d...   work\n",
       "1909        1116  my last selfie before lockdown with my team at...   work\n",
       "1910        1743  just got home from the supermarket panic buyin...   work\n",
       "\n",
       "[1911 rows x 3 columns]"
      ]
     },
     "execution_count": 83,
     "metadata": {},
     "output_type": "execute_result"
    }
   ],
   "source": [
    "df = pd.read_csv('ldaop.csv' , encoding = 'latin', engine='python')\n",
    "df"
   ]
  },
  {
   "cell_type": "markdown",
   "id": "f43e1486",
   "metadata": {},
   "source": [
    "### Assign Sentiment "
   ]
  },
  {
   "cell_type": "code",
   "execution_count": 84,
   "id": "f8a50245",
   "metadata": {},
   "outputs": [],
   "source": [
    "from vaderSentiment.vaderSentiment import SentimentIntensityAnalyzer\n"
   ]
  },
  {
   "cell_type": "code",
   "execution_count": 85,
   "id": "7f5c3839",
   "metadata": {},
   "outputs": [],
   "source": [
    "sid_obj= SentimentIntensityAnalyzer()\n"
   ]
  },
  {
   "cell_type": "code",
   "execution_count": 86,
   "id": "0dac5f78",
   "metadata": {},
   "outputs": [],
   "source": [
    "def calculate_sentiment(tweet):     \n",
    "    x = sid_obj.polarity_scores(tweet)['compound']\n",
    "    if x >=0.45: \n",
    "        return 'positive' \n",
    "    else : \n",
    "        return 'negative'\n",
    "    "
   ]
  },
  {
   "cell_type": "code",
   "execution_count": 87,
   "id": "6e4d475f",
   "metadata": {},
   "outputs": [
    {
     "data": {
      "text/html": [
       "<div>\n",
       "<style scoped>\n",
       "    .dataframe tbody tr th:only-of-type {\n",
       "        vertical-align: middle;\n",
       "    }\n",
       "\n",
       "    .dataframe tbody tr th {\n",
       "        vertical-align: top;\n",
       "    }\n",
       "\n",
       "    .dataframe thead th {\n",
       "        text-align: right;\n",
       "    }\n",
       "</style>\n",
       "<table border=\"1\" class=\"dataframe\">\n",
       "  <thead>\n",
       "    <tr style=\"text-align: right;\">\n",
       "      <th></th>\n",
       "      <th>Unnamed: 0</th>\n",
       "      <th>tweet_processed</th>\n",
       "      <th>Topics</th>\n",
       "    </tr>\n",
       "  </thead>\n",
       "  <tbody>\n",
       "    <tr>\n",
       "      <th>0</th>\n",
       "      <td>1910</td>\n",
       "      <td>covid southafrican variant detected in india h...</td>\n",
       "      <td>cases</td>\n",
       "    </tr>\n",
       "    <tr>\n",
       "      <th>1</th>\n",
       "      <td>362</td>\n",
       "      <td>this data sadly will now become a political fo...</td>\n",
       "      <td>cases</td>\n",
       "    </tr>\n",
       "    <tr>\n",
       "      <th>2</th>\n",
       "      <td>361</td>\n",
       "      <td>it's not over covidcrisis covid publicinquiry ...</td>\n",
       "      <td>cases</td>\n",
       "    </tr>\n",
       "    <tr>\n",
       "      <th>3</th>\n",
       "      <td>1223</td>\n",
       "      <td>corona dose not to feel only to listen</td>\n",
       "      <td>cases</td>\n",
       "    </tr>\n",
       "    <tr>\n",
       "      <th>4</th>\n",
       "      <td>353</td>\n",
       "      <td>keeping our drivers and customers safe with ou...</td>\n",
       "      <td>cases</td>\n",
       "    </tr>\n",
       "  </tbody>\n",
       "</table>\n",
       "</div>"
      ],
      "text/plain": [
       "   Unnamed: 0                                    tweet_processed Topics\n",
       "0        1910  covid southafrican variant detected in india h...  cases\n",
       "1         362  this data sadly will now become a political fo...  cases\n",
       "2         361  it's not over covidcrisis covid publicinquiry ...  cases\n",
       "3        1223             corona dose not to feel only to listen  cases\n",
       "4         353  keeping our drivers and customers safe with ou...  cases"
      ]
     },
     "execution_count": 87,
     "metadata": {},
     "output_type": "execute_result"
    }
   ],
   "source": [
    "df.head()"
   ]
  },
  {
   "cell_type": "code",
   "execution_count": 88,
   "id": "7bc988e6",
   "metadata": {},
   "outputs": [],
   "source": [
    "df['sentiment'] = df['tweet_processed'].map(lambda x : calculate_sentiment(x))"
   ]
  },
  {
   "cell_type": "code",
   "execution_count": 89,
   "id": "63d5cebc",
   "metadata": {},
   "outputs": [
    {
     "data": {
      "text/html": [
       "<div>\n",
       "<style scoped>\n",
       "    .dataframe tbody tr th:only-of-type {\n",
       "        vertical-align: middle;\n",
       "    }\n",
       "\n",
       "    .dataframe tbody tr th {\n",
       "        vertical-align: top;\n",
       "    }\n",
       "\n",
       "    .dataframe thead th {\n",
       "        text-align: right;\n",
       "    }\n",
       "</style>\n",
       "<table border=\"1\" class=\"dataframe\">\n",
       "  <thead>\n",
       "    <tr style=\"text-align: right;\">\n",
       "      <th></th>\n",
       "      <th>Unnamed: 0</th>\n",
       "      <th>tweet_processed</th>\n",
       "      <th>Topics</th>\n",
       "      <th>sentiment</th>\n",
       "    </tr>\n",
       "  </thead>\n",
       "  <tbody>\n",
       "    <tr>\n",
       "      <th>0</th>\n",
       "      <td>1910</td>\n",
       "      <td>covid southafrican variant detected in india h...</td>\n",
       "      <td>cases</td>\n",
       "      <td>positive</td>\n",
       "    </tr>\n",
       "    <tr>\n",
       "      <th>1</th>\n",
       "      <td>362</td>\n",
       "      <td>this data sadly will now become a political fo...</td>\n",
       "      <td>cases</td>\n",
       "      <td>negative</td>\n",
       "    </tr>\n",
       "    <tr>\n",
       "      <th>2</th>\n",
       "      <td>361</td>\n",
       "      <td>it's not over covidcrisis covid publicinquiry ...</td>\n",
       "      <td>cases</td>\n",
       "      <td>negative</td>\n",
       "    </tr>\n",
       "    <tr>\n",
       "      <th>3</th>\n",
       "      <td>1223</td>\n",
       "      <td>corona dose not to feel only to listen</td>\n",
       "      <td>cases</td>\n",
       "      <td>negative</td>\n",
       "    </tr>\n",
       "    <tr>\n",
       "      <th>4</th>\n",
       "      <td>353</td>\n",
       "      <td>keeping our drivers and customers safe with ou...</td>\n",
       "      <td>cases</td>\n",
       "      <td>positive</td>\n",
       "    </tr>\n",
       "    <tr>\n",
       "      <th>...</th>\n",
       "      <td>...</td>\n",
       "      <td>...</td>\n",
       "      <td>...</td>\n",
       "      <td>...</td>\n",
       "    </tr>\n",
       "    <tr>\n",
       "      <th>1906</th>\n",
       "      <td>436</td>\n",
       "      <td>in view of the continuous dip in coronavirus c...</td>\n",
       "      <td>work</td>\n",
       "      <td>negative</td>\n",
       "    </tr>\n",
       "    <tr>\n",
       "      <th>1907</th>\n",
       "      <td>1786</td>\n",
       "      <td>vadodara covid tally reaches  with  new cases ...</td>\n",
       "      <td>work</td>\n",
       "      <td>negative</td>\n",
       "    </tr>\n",
       "    <tr>\n",
       "      <th>1908</th>\n",
       "      <td>67</td>\n",
       "      <td>uk suffered  new deltavariant cases and  new d...</td>\n",
       "      <td>work</td>\n",
       "      <td>negative</td>\n",
       "    </tr>\n",
       "    <tr>\n",
       "      <th>1909</th>\n",
       "      <td>1116</td>\n",
       "      <td>my last selfie before lockdown with my team at...</td>\n",
       "      <td>work</td>\n",
       "      <td>negative</td>\n",
       "    </tr>\n",
       "    <tr>\n",
       "      <th>1910</th>\n",
       "      <td>1743</td>\n",
       "      <td>just got home from the supermarket panic buyin...</td>\n",
       "      <td>work</td>\n",
       "      <td>negative</td>\n",
       "    </tr>\n",
       "  </tbody>\n",
       "</table>\n",
       "<p>1911 rows × 4 columns</p>\n",
       "</div>"
      ],
      "text/plain": [
       "      Unnamed: 0                                    tweet_processed Topics  \\\n",
       "0           1910  covid southafrican variant detected in india h...  cases   \n",
       "1            362  this data sadly will now become a political fo...  cases   \n",
       "2            361  it's not over covidcrisis covid publicinquiry ...  cases   \n",
       "3           1223             corona dose not to feel only to listen  cases   \n",
       "4            353  keeping our drivers and customers safe with ou...  cases   \n",
       "...          ...                                                ...    ...   \n",
       "1906         436  in view of the continuous dip in coronavirus c...   work   \n",
       "1907        1786  vadodara covid tally reaches  with  new cases ...   work   \n",
       "1908          67  uk suffered  new deltavariant cases and  new d...   work   \n",
       "1909        1116  my last selfie before lockdown with my team at...   work   \n",
       "1910        1743  just got home from the supermarket panic buyin...   work   \n",
       "\n",
       "     sentiment  \n",
       "0     positive  \n",
       "1     negative  \n",
       "2     negative  \n",
       "3     negative  \n",
       "4     positive  \n",
       "...        ...  \n",
       "1906  negative  \n",
       "1907  negative  \n",
       "1908  negative  \n",
       "1909  negative  \n",
       "1910  negative  \n",
       "\n",
       "[1911 rows x 4 columns]"
      ]
     },
     "execution_count": 89,
     "metadata": {},
     "output_type": "execute_result"
    }
   ],
   "source": [
    "df"
   ]
  },
  {
   "cell_type": "markdown",
   "id": "d9a861da",
   "metadata": {},
   "source": [
    "### Inference from dataset"
   ]
  },
  {
   "cell_type": "code",
   "execution_count": 90,
   "id": "c71b5bc4",
   "metadata": {},
   "outputs": [
    {
     "data": {
      "text/plain": [
       "Topics            sentiment\n",
       "cases             negative     186\n",
       "                  positive      39\n",
       "economy           negative     233\n",
       "                  positive      58\n",
       "health            negative     190\n",
       "                  positive      84\n",
       "impact on people  negative     251\n",
       "                  positive      74\n",
       "lockdown          negative     234\n",
       "                  positive      84\n",
       "vaccine           negative     226\n",
       "                  positive      88\n",
       "work              negative     136\n",
       "                  positive      28\n",
       "dtype: int64"
      ]
     },
     "execution_count": 90,
     "metadata": {},
     "output_type": "execute_result"
    }
   ],
   "source": [
    "df.groupby([\"Topics\", \"sentiment\"]).size()"
   ]
  },
  {
   "cell_type": "code",
   "execution_count": 91,
   "id": "1781de1a",
   "metadata": {
    "scrolled": true
   },
   "outputs": [],
   "source": [
    "from sklearn.preprocessing import LabelEncoder\n",
    "from sklearn.model_selection import train_test_split\n",
    "from keras.preprocessing.text import Tokenizer\n",
    "from keras.preprocessing.sequence import pad_sequences\n",
    "import keras\n",
    "from sklearn.metrics import classification_report\n",
    "from sklearn.metrics import accuracy_score\n",
    "import math\n",
    "import nltk"
   ]
  },
  {
   "cell_type": "code",
   "execution_count": 92,
   "id": "7a824f40",
   "metadata": {
    "scrolled": true
   },
   "outputs": [],
   "source": [
    "stop_words = set(stopwords.words('english'))\n"
   ]
  },
  {
   "cell_type": "code",
   "execution_count": 93,
   "id": "913181d1",
   "metadata": {},
   "outputs": [],
   "source": [
    "data = df[['tweet_processed','sentiment']]\n"
   ]
  },
  {
   "cell_type": "code",
   "execution_count": 94,
   "id": "0e10b225",
   "metadata": {
    "scrolled": true
   },
   "outputs": [
    {
     "data": {
      "text/html": [
       "<div>\n",
       "<style scoped>\n",
       "    .dataframe tbody tr th:only-of-type {\n",
       "        vertical-align: middle;\n",
       "    }\n",
       "\n",
       "    .dataframe tbody tr th {\n",
       "        vertical-align: top;\n",
       "    }\n",
       "\n",
       "    .dataframe thead th {\n",
       "        text-align: right;\n",
       "    }\n",
       "</style>\n",
       "<table border=\"1\" class=\"dataframe\">\n",
       "  <thead>\n",
       "    <tr style=\"text-align: right;\">\n",
       "      <th></th>\n",
       "      <th>tweet_processed</th>\n",
       "      <th>sentiment</th>\n",
       "    </tr>\n",
       "  </thead>\n",
       "  <tbody>\n",
       "    <tr>\n",
       "      <th>0</th>\n",
       "      <td>covid southafrican variant detected in india h...</td>\n",
       "      <td>positive</td>\n",
       "    </tr>\n",
       "    <tr>\n",
       "      <th>1</th>\n",
       "      <td>this data sadly will now become a political fo...</td>\n",
       "      <td>negative</td>\n",
       "    </tr>\n",
       "    <tr>\n",
       "      <th>2</th>\n",
       "      <td>it's not over covidcrisis covid publicinquiry ...</td>\n",
       "      <td>negative</td>\n",
       "    </tr>\n",
       "    <tr>\n",
       "      <th>3</th>\n",
       "      <td>corona dose not to feel only to listen</td>\n",
       "      <td>negative</td>\n",
       "    </tr>\n",
       "    <tr>\n",
       "      <th>4</th>\n",
       "      <td>keeping our drivers and customers safe with ou...</td>\n",
       "      <td>positive</td>\n",
       "    </tr>\n",
       "    <tr>\n",
       "      <th>...</th>\n",
       "      <td>...</td>\n",
       "      <td>...</td>\n",
       "    </tr>\n",
       "    <tr>\n",
       "      <th>1906</th>\n",
       "      <td>in view of the continuous dip in coronavirus c...</td>\n",
       "      <td>negative</td>\n",
       "    </tr>\n",
       "    <tr>\n",
       "      <th>1907</th>\n",
       "      <td>vadodara covid tally reaches  with  new cases ...</td>\n",
       "      <td>negative</td>\n",
       "    </tr>\n",
       "    <tr>\n",
       "      <th>1908</th>\n",
       "      <td>uk suffered  new deltavariant cases and  new d...</td>\n",
       "      <td>negative</td>\n",
       "    </tr>\n",
       "    <tr>\n",
       "      <th>1909</th>\n",
       "      <td>my last selfie before lockdown with my team at...</td>\n",
       "      <td>negative</td>\n",
       "    </tr>\n",
       "    <tr>\n",
       "      <th>1910</th>\n",
       "      <td>just got home from the supermarket panic buyin...</td>\n",
       "      <td>negative</td>\n",
       "    </tr>\n",
       "  </tbody>\n",
       "</table>\n",
       "<p>1911 rows × 2 columns</p>\n",
       "</div>"
      ],
      "text/plain": [
       "                                        tweet_processed sentiment\n",
       "0     covid southafrican variant detected in india h...  positive\n",
       "1     this data sadly will now become a political fo...  negative\n",
       "2     it's not over covidcrisis covid publicinquiry ...  negative\n",
       "3                corona dose not to feel only to listen  negative\n",
       "4     keeping our drivers and customers safe with ou...  positive\n",
       "...                                                 ...       ...\n",
       "1906  in view of the continuous dip in coronavirus c...  negative\n",
       "1907  vadodara covid tally reaches  with  new cases ...  negative\n",
       "1908  uk suffered  new deltavariant cases and  new d...  negative\n",
       "1909  my last selfie before lockdown with my team at...  negative\n",
       "1910  just got home from the supermarket panic buyin...  negative\n",
       "\n",
       "[1911 rows x 2 columns]"
      ]
     },
     "execution_count": 94,
     "metadata": {},
     "output_type": "execute_result"
    }
   ],
   "source": [
    "data"
   ]
  },
  {
   "cell_type": "code",
   "execution_count": 95,
   "id": "18d62425",
   "metadata": {},
   "outputs": [
    {
     "name": "stderr",
     "output_type": "stream",
     "text": [
      "C:\\Users\\aparn\\AppData\\Local\\Temp/ipykernel_14300/3076939646.py:9: SettingWithCopyWarning: \n",
      "A value is trying to be set on a copy of a slice from a DataFrame.\n",
      "Try using .loc[row_indexer,col_indexer] = value instead\n",
      "\n",
      "See the caveats in the documentation: https://pandas.pydata.org/pandas-docs/stable/user_guide/indexing.html#returning-a-view-versus-a-copy\n",
      "  data['tweet_processed']=data['tweet_processed'].apply(lambda cw : remove_tags(cw))\n"
     ]
    }
   ],
   "source": [
    "def remove_tags(string):\n",
    "    removelist = \"\"\n",
    "    result = re.sub('','',string)          #remove HTML tags\n",
    "    result = re.sub('https://.*','',result)   #remove URLs\n",
    "    result = re.sub('\\\\n' ,' ',result)\n",
    "    result = re.sub('\\\\r' ,' ',result)\n",
    "    result = result.lower()\n",
    "    return result\n",
    "data['tweet_processed']=data['tweet_processed'].apply(lambda cw : remove_tags(cw))"
   ]
  },
  {
   "cell_type": "code",
   "execution_count": 96,
   "id": "27de10bf",
   "metadata": {
    "scrolled": true
   },
   "outputs": [
    {
     "data": {
      "text/html": [
       "<div>\n",
       "<style scoped>\n",
       "    .dataframe tbody tr th:only-of-type {\n",
       "        vertical-align: middle;\n",
       "    }\n",
       "\n",
       "    .dataframe tbody tr th {\n",
       "        vertical-align: top;\n",
       "    }\n",
       "\n",
       "    .dataframe thead th {\n",
       "        text-align: right;\n",
       "    }\n",
       "</style>\n",
       "<table border=\"1\" class=\"dataframe\">\n",
       "  <thead>\n",
       "    <tr style=\"text-align: right;\">\n",
       "      <th></th>\n",
       "      <th>tweet_processed</th>\n",
       "      <th>sentiment</th>\n",
       "    </tr>\n",
       "  </thead>\n",
       "  <tbody>\n",
       "    <tr>\n",
       "      <th>0</th>\n",
       "      <td>covid southafrican variant detected in india h...</td>\n",
       "      <td>positive</td>\n",
       "    </tr>\n",
       "    <tr>\n",
       "      <th>1</th>\n",
       "      <td>this data sadly will now become a political fo...</td>\n",
       "      <td>negative</td>\n",
       "    </tr>\n",
       "    <tr>\n",
       "      <th>2</th>\n",
       "      <td>it's not over covidcrisis covid publicinquiry ...</td>\n",
       "      <td>negative</td>\n",
       "    </tr>\n",
       "    <tr>\n",
       "      <th>3</th>\n",
       "      <td>corona dose not to feel only to listen</td>\n",
       "      <td>negative</td>\n",
       "    </tr>\n",
       "    <tr>\n",
       "      <th>4</th>\n",
       "      <td>keeping our drivers and customers safe with ou...</td>\n",
       "      <td>positive</td>\n",
       "    </tr>\n",
       "    <tr>\n",
       "      <th>...</th>\n",
       "      <td>...</td>\n",
       "      <td>...</td>\n",
       "    </tr>\n",
       "    <tr>\n",
       "      <th>1906</th>\n",
       "      <td>in view of the continuous dip in coronavirus c...</td>\n",
       "      <td>negative</td>\n",
       "    </tr>\n",
       "    <tr>\n",
       "      <th>1907</th>\n",
       "      <td>vadodara covid tally reaches  with  new cases ...</td>\n",
       "      <td>negative</td>\n",
       "    </tr>\n",
       "    <tr>\n",
       "      <th>1908</th>\n",
       "      <td>uk suffered  new deltavariant cases and  new d...</td>\n",
       "      <td>negative</td>\n",
       "    </tr>\n",
       "    <tr>\n",
       "      <th>1909</th>\n",
       "      <td>my last selfie before lockdown with my team at...</td>\n",
       "      <td>negative</td>\n",
       "    </tr>\n",
       "    <tr>\n",
       "      <th>1910</th>\n",
       "      <td>just got home from the supermarket panic buyin...</td>\n",
       "      <td>negative</td>\n",
       "    </tr>\n",
       "  </tbody>\n",
       "</table>\n",
       "<p>1911 rows × 2 columns</p>\n",
       "</div>"
      ],
      "text/plain": [
       "                                        tweet_processed sentiment\n",
       "0     covid southafrican variant detected in india h...  positive\n",
       "1     this data sadly will now become a political fo...  negative\n",
       "2     it's not over covidcrisis covid publicinquiry ...  negative\n",
       "3                corona dose not to feel only to listen  negative\n",
       "4     keeping our drivers and customers safe with ou...  positive\n",
       "...                                                 ...       ...\n",
       "1906  in view of the continuous dip in coronavirus c...  negative\n",
       "1907  vadodara covid tally reaches  with  new cases ...  negative\n",
       "1908  uk suffered  new deltavariant cases and  new d...  negative\n",
       "1909  my last selfie before lockdown with my team at...  negative\n",
       "1910  just got home from the supermarket panic buyin...  negative\n",
       "\n",
       "[1911 rows x 2 columns]"
      ]
     },
     "execution_count": 96,
     "metadata": {},
     "output_type": "execute_result"
    }
   ],
   "source": [
    "data"
   ]
  },
  {
   "cell_type": "code",
   "execution_count": 97,
   "id": "b567d2c9",
   "metadata": {},
   "outputs": [
    {
     "name": "stderr",
     "output_type": "stream",
     "text": [
      "C:\\Users\\aparn\\AppData\\Local\\Temp/ipykernel_14300/3571705551.py:8: SettingWithCopyWarning: \n",
      "A value is trying to be set on a copy of a slice from a DataFrame.\n",
      "Try using .loc[row_indexer,col_indexer] = value instead\n",
      "\n",
      "See the caveats in the documentation: https://pandas.pydata.org/pandas-docs/stable/user_guide/indexing.html#returning-a-view-versus-a-copy\n",
      "  data['tweet_processed'] = data.tweet_processed.apply(lemmatize_text)\n"
     ]
    }
   ],
   "source": [
    "w_tokenizer = nltk.tokenize.WhitespaceTokenizer()\n",
    "lemmatizer = nltk.stem.WordNetLemmatizer()\n",
    "def lemmatize_text(text):\n",
    "    st = \"\"\n",
    "    for w in w_tokenizer.tokenize(text):\n",
    "        st = st + lemmatizer.lemmatize(w) + \" \"\n",
    "    return st\n",
    "data['tweet_processed'] = data.tweet_processed.apply(lemmatize_text)\n",
    "\n"
   ]
  },
  {
   "cell_type": "code",
   "execution_count": 98,
   "id": "19282dd3",
   "metadata": {},
   "outputs": [
    {
     "name": "stdout",
     "output_type": "stream",
     "text": [
      "Average length of each tweet :  21.272108843537413\n",
      "Percentage of tweets with positive sentiment is 23.809523809523807%\n",
      "Percentage of tweets with negative sentiment is 76.19047619047619%\n"
     ]
    }
   ],
   "source": [
    "s = 0.0\n",
    "for i in data['tweet_processed']:\n",
    "    word_list = i.split()\n",
    "    s = s + len(word_list)\n",
    "print(\"Average length of each tweet : \",s/data.shape[0])\n",
    "pos = 0\n",
    "for i in range(data.shape[0]):\n",
    "    if data.iloc[i]['sentiment'] == 'positive':\n",
    "        pos = pos + 1\n",
    "neg = data.shape[0]-pos\n",
    "print(\"Percentage of tweets with positive sentiment is \"+str(pos/data.shape[0]*100)+\"%\")\n",
    "print(\"Percentage of tweets with negative sentiment is \"+str(neg/data.shape[0]*100)+\"%\")\n"
   ]
  },
  {
   "cell_type": "code",
   "execution_count": 99,
   "id": "78946ec5",
   "metadata": {},
   "outputs": [],
   "source": [
    "tweets = data['tweet_processed'].values\n",
    "labels = data['sentiment'].values\n",
    "encoder = LabelEncoder()\n",
    "encoded_labels = encoder.fit_transform(labels)"
   ]
  },
  {
   "cell_type": "code",
   "execution_count": 100,
   "id": "518b1034",
   "metadata": {},
   "outputs": [
    {
     "name": "stdout",
     "output_type": "stream",
     "text": [
      "[1 0 0 ... 0 0 0]\n"
     ]
    }
   ],
   "source": [
    "print(encoded_labels )\n",
    "#1 pos\n",
    "#0 neg\n"
   ]
  },
  {
   "cell_type": "code",
   "execution_count": 101,
   "id": "ad59b68b",
   "metadata": {},
   "outputs": [],
   "source": [
    "train_sentences, test_sentences, train_labels, test_labels = train_test_split(tweets, encoded_labels, stratify = encoded_labels)\n"
   ]
  },
  {
   "cell_type": "markdown",
   "id": "079397c8",
   "metadata": {},
   "source": [
    "### LSTM using RNN"
   ]
  },
  {
   "cell_type": "code",
   "execution_count": 102,
   "id": "08797ddd",
   "metadata": {},
   "outputs": [],
   "source": [
    "# Hyperparameters of the model\n",
    "vocab_size = 700 \n",
    "oov_tok = ''\n",
    "embedding_dim = 50\n",
    "max_length = 165 # choose based on statistics, for example 150 to 200\n",
    "padding_type='post'\n",
    "trunc_type='post'\n",
    "# tokenize sentences\n",
    "tokenizer = Tokenizer(num_words = vocab_size, oov_token=oov_tok)\n",
    "tokenizer.fit_on_texts(train_sentences)\n",
    "word_index = tokenizer.word_index\n",
    "# convert train dataset to sequence and pad sequences\n",
    "train_sequences = tokenizer.texts_to_sequences(train_sentences)\n",
    "train_padded = pad_sequences(train_sequences, padding='post', maxlen=max_length)\n",
    "# convert Test dataset to sequence and pad sequences\n",
    "test_sequences = tokenizer.texts_to_sequences(test_sentences)\n",
    "test_padded = pad_sequences(test_sequences, padding='post', maxlen=max_length)"
   ]
  },
  {
   "cell_type": "code",
   "execution_count": 103,
   "id": "1484f5d0",
   "metadata": {
    "scrolled": true
   },
   "outputs": [
    {
     "name": "stdout",
     "output_type": "stream",
     "text": [
      "Model: \"sequential\"\n",
      "_________________________________________________________________\n",
      " Layer (type)                Output Shape              Param #   \n",
      "=================================================================\n",
      " embedding (Embedding)       (None, 165, 50)           35000     \n",
      "                                                                 \n",
      " bidirectional (Bidirectiona  (None, 128)              58880     \n",
      " l)                                                              \n",
      "                                                                 \n",
      " dense (Dense)               (None, 24)                3096      \n",
      "                                                                 \n",
      " dense_1 (Dense)             (None, 1)                 25        \n",
      "                                                                 \n",
      "=================================================================\n",
      "Total params: 97,001\n",
      "Trainable params: 97,001\n",
      "Non-trainable params: 0\n",
      "_________________________________________________________________\n"
     ]
    }
   ],
   "source": [
    "model = keras.Sequential([\n",
    "    keras.layers.Embedding(vocab_size, embedding_dim, input_length=max_length),\n",
    "    keras.layers.Bidirectional(keras.layers.LSTM(64)),\n",
    "    keras.layers.Dense(24, activation='relu'),\n",
    "    keras.layers.Dense(1, activation='sigmoid')\n",
    "])\n",
    "# compile model\n",
    "model.compile(loss='binary_crossentropy',\n",
    "              optimizer='adam',\n",
    "              metrics=['accuracy'])\n",
    "# model summary\n",
    "model.summary()"
   ]
  },
  {
   "cell_type": "code",
   "execution_count": 104,
   "id": "be8467b1",
   "metadata": {
    "scrolled": false
   },
   "outputs": [
    {
     "name": "stdout",
     "output_type": "stream",
     "text": [
      "Epoch 1/10\n",
      "41/41 - 6s - loss: 0.5865 - accuracy: 0.7665 - val_loss: 0.5997 - val_accuracy: 0.7153 - 6s/epoch - 141ms/step\n",
      "Epoch 2/10\n",
      "41/41 - 2s - loss: 0.5325 - accuracy: 0.7673 - val_loss: 0.6064 - val_accuracy: 0.7153 - 2s/epoch - 43ms/step\n",
      "Epoch 3/10\n",
      "41/41 - 2s - loss: 0.4723 - accuracy: 0.7750 - val_loss: 0.5776 - val_accuracy: 0.7292 - 2s/epoch - 43ms/step\n",
      "Epoch 4/10\n",
      "41/41 - 2s - loss: 0.3810 - accuracy: 0.8177 - val_loss: 0.5763 - val_accuracy: 0.7569 - 2s/epoch - 43ms/step\n",
      "Epoch 5/10\n",
      "41/41 - 2s - loss: 0.2871 - accuracy: 0.8790 - val_loss: 0.5911 - val_accuracy: 0.7500 - 2s/epoch - 44ms/step\n",
      "Epoch 6/10\n",
      "41/41 - 2s - loss: 0.2181 - accuracy: 0.9154 - val_loss: 0.6514 - val_accuracy: 0.7500 - 2s/epoch - 44ms/step\n",
      "Epoch 7/10\n",
      "41/41 - 2s - loss: 0.1622 - accuracy: 0.9403 - val_loss: 0.7758 - val_accuracy: 0.7569 - 2s/epoch - 43ms/step\n",
      "Epoch 8/10\n",
      "41/41 - 2s - loss: 0.1132 - accuracy: 0.9628 - val_loss: 0.9134 - val_accuracy: 0.7986 - 2s/epoch - 43ms/step\n",
      "Epoch 9/10\n",
      "41/41 - 2s - loss: 0.0868 - accuracy: 0.9783 - val_loss: 0.8513 - val_accuracy: 0.7778 - 2s/epoch - 43ms/step\n",
      "Epoch 10/10\n",
      "41/41 - 2s - loss: 0.0695 - accuracy: 0.9791 - val_loss: 1.0332 - val_accuracy: 0.7569 - 2s/epoch - 44ms/step\n"
     ]
    }
   ],
   "source": [
    "num_epochs = 10\n",
    "history = model.fit(train_padded, train_labels,epochs=num_epochs, verbose=2,validation_split=0.1)"
   ]
  },
  {
   "cell_type": "code",
   "execution_count": 128,
   "id": "3fe2e6fb",
   "metadata": {},
   "outputs": [
    {
     "name": "stdout",
     "output_type": "stream",
     "text": [
      "Accuracy of prediction on test set :  0.7949790794979079\n"
     ]
    }
   ],
   "source": [
    "prediction = model.predict(test_padded)\n",
    "pred_labels = []\n",
    "for i in prediction:\n",
    "    if i >=0.93:\n",
    "        pred_labels.append(1)   \n",
    "    else :\n",
    "        pred_labels.append(0)\n",
    "print(\"Accuracy of prediction on test set : \", accuracy_score(test_labels,pred_labels))\n",
    "acc1 = accuracy_score(test_labels,pred_labels)*100"
   ]
  },
  {
   "cell_type": "code",
   "execution_count": 123,
   "id": "8864078f",
   "metadata": {
    "scrolled": true
   },
   "outputs": [],
   "source": [
    "test_sent = ['uk suffered new deltavariant cases and new deaths on october of everyone irrespective of age covidvaccine failure' , 'the effectiveness of mrna covidvaccine in pregnant women is as strong as that in the general  population']\n",
    "test_sent = np.array(test_sent)\n",
    "test_seq = tokenizer.texts_to_sequences(test_sent)\n",
    "test_pad = pad_sequences(test_seq, padding='post', maxlen=max_length)\n",
    "test_pad = np.array(test_pad)\n"
   ]
  },
  {
   "cell_type": "code",
   "execution_count": 124,
   "id": "5323ded6",
   "metadata": {},
   "outputs": [],
   "source": [
    "preditionsTest = model.predict(test_pad)"
   ]
  },
  {
   "cell_type": "code",
   "execution_count": 126,
   "id": "2b8fffcc",
   "metadata": {},
   "outputs": [
    {
     "name": "stdout",
     "output_type": "stream",
     "text": [
      "Negative\n",
      "Positive\n"
     ]
    }
   ],
   "source": [
    "for i in preditionsTest:\n",
    "    if i >=0.5:\n",
    "        print('Positive')   \n",
    "    else :\n",
    "        print('Negative')"
   ]
  },
  {
   "cell_type": "markdown",
   "id": "9cf611f7",
   "metadata": {},
   "source": [
    "### MultiNomial Naive Bayes\n"
   ]
  },
  {
   "cell_type": "code",
   "execution_count": 127,
   "id": "ae91dfa5",
   "metadata": {},
   "outputs": [],
   "source": [
    "x = data['tweet_processed']\n",
    "y = data['sentiment']\n",
    "x, x_test, y, y_test = train_test_split(x,y, stratify=y, test_size=0.1, random_state=42)"
   ]
  },
  {
   "cell_type": "code",
   "execution_count": 492,
   "id": "28a3b7d3",
   "metadata": {
    "scrolled": true
   },
   "outputs": [],
   "source": [
    "vec = CountVectorizer(stop_words='english')\n",
    "x = vec.fit_transform(x).toarray()\n",
    "x_test = vec.transform(x_test).toarray()"
   ]
  },
  {
   "cell_type": "code",
   "execution_count": 493,
   "id": "dc6d0b12",
   "metadata": {},
   "outputs": [
    {
     "data": {
      "text/plain": [
       "MultinomialNB()"
      ]
     },
     "execution_count": 493,
     "metadata": {},
     "output_type": "execute_result"
    }
   ],
   "source": [
    "import joblib\n",
    "from sklearn.feature_extraction.text import CountVectorizer\n",
    "from sklearn.naive_bayes import MultinomialNB\n",
    "model = MultinomialNB()\n",
    "model.fit(x, y)"
   ]
  },
  {
   "cell_type": "code",
   "execution_count": 494,
   "id": "e912dcf8",
   "metadata": {},
   "outputs": [
    {
     "data": {
      "text/plain": [
       "0.828125"
      ]
     },
     "execution_count": 494,
     "metadata": {},
     "output_type": "execute_result"
    }
   ],
   "source": [
    "model.score(x_test, y_test)"
   ]
  },
  {
   "cell_type": "code",
   "execution_count": 495,
   "id": "8f474a33",
   "metadata": {},
   "outputs": [
    {
     "data": {
      "text/plain": [
       "array(['positive'], dtype='<U8')"
      ]
     },
     "execution_count": 495,
     "metadata": {},
     "output_type": "execute_result"
    }
   ],
   "source": [
    "model.predict(vec.transform(['the effectiveness of mrna covidvaccine in pregnant women is as strong as that in the general  population']))\n"
   ]
  },
  {
   "cell_type": "markdown",
   "id": "137f5827",
   "metadata": {},
   "source": [
    "### Other ML classifiers"
   ]
  },
  {
   "cell_type": "code",
   "execution_count": 129,
   "id": "8c40ae7a",
   "metadata": {},
   "outputs": [],
   "source": [
    "from sklearn.svm import LinearSVC\n",
    "from sklearn.naive_bayes import BernoulliNB\n",
    "from sklearn.linear_model import LogisticRegression\n",
    "from sklearn.model_selection import train_test_split\n",
    "from sklearn.feature_extraction.text import TfidfVectorizer\n",
    "from sklearn.metrics import confusion_matrix, classification_report\n",
    "import seaborn as sns\n",
    "import matplotlib.pyplot as plt\n"
   ]
  },
  {
   "cell_type": "code",
   "execution_count": 130,
   "id": "9ee93f38",
   "metadata": {},
   "outputs": [
    {
     "name": "stdout",
     "output_type": "stream",
     "text": [
      "No. of feature_words:  28204\n"
     ]
    }
   ],
   "source": [
    "X = data['tweet_processed']\n",
    "y = data['sentiment']\n",
    "X_train, X_test, y_train, y_test = train_test_split(X,y,test_size = 0.1, random_state =26105111)\n",
    "vectoriser = TfidfVectorizer(ngram_range=(1,2), max_features=500000)\n",
    "vectoriser.fit(X_train)\n",
    "print('No. of feature_words: ', len(vectoriser.get_feature_names()))"
   ]
  },
  {
   "cell_type": "markdown",
   "id": "5d5ad465",
   "metadata": {},
   "source": [
    "#### Vectorize data before classification"
   ]
  },
  {
   "cell_type": "code",
   "execution_count": 131,
   "id": "22e5c5f6",
   "metadata": {},
   "outputs": [],
   "source": [
    "X_train = vectoriser.transform(X_train)\n",
    "X_test  = vectoriser.transform(X_test)"
   ]
  },
  {
   "cell_type": "code",
   "execution_count": 132,
   "id": "81eb6221",
   "metadata": {},
   "outputs": [],
   "source": [
    "def model_Evaluate(model):\n",
    "# Predict values for Test dataset\n",
    "    y_pred = model.predict(X_test)\n",
    "    # Print the evaluation metrics for the dataset.\n",
    "    print(classification_report(y_test, y_pred))\n",
    "    # Compute and plot the Confusion matrix\n",
    "    cf_matrix = confusion_matrix(y_test, y_pred)\n",
    "    categories = ['positive' , ' negative']\n",
    "    group_names = ['True Pos','False Neg','True Neg','False Pos']\n",
    "    group_percentages = ['{0:.2%}'.format(value) for value in cf_matrix.flatten() / np.sum(cf_matrix)]\n",
    "    labels = [f'{v1} {v2}' for v1, v2 in zip(group_names,group_percentages)]\n",
    "    labels = np.asarray(labels).reshape(2,2)\n",
    "    sns.heatmap(cf_matrix, annot = labels, cmap = 'Blues',fmt = '',\n",
    "    xticklabels = categories, yticklabels = categories)\n",
    "    plt.xlabel(\"Predicted values\", fontdict = {'size':14}, labelpad = 10)\n",
    "    plt.ylabel(\"Actual values\" , fontdict = {'size':14}, labelpad = 10)\n",
    "    plt.title (\"Confusion Matrix\", fontdict = {'size':18}, pad = 20)"
   ]
  },
  {
   "cell_type": "markdown",
   "id": "8659706b",
   "metadata": {},
   "source": [
    "## Naive Bayes"
   ]
  },
  {
   "cell_type": "code",
   "execution_count": 133,
   "id": "b86badef",
   "metadata": {
    "scrolled": true
   },
   "outputs": [
    {
     "name": "stdout",
     "output_type": "stream",
     "text": [
      "              precision    recall  f1-score   support\n",
      "\n",
      "    negative       0.74      1.00      0.85       141\n",
      "    positive       1.00      0.02      0.04        51\n",
      "\n",
      "    accuracy                           0.74       192\n",
      "   macro avg       0.87      0.51      0.44       192\n",
      "weighted avg       0.81      0.74      0.63       192\n",
      "\n"
     ]
    },
    {
     "data": {
      "text/plain": [
       "array(['negative', 'negative', 'negative', 'negative', 'negative',\n",
       "       'negative', 'negative', 'negative', 'negative', 'negative',\n",
       "       'negative', 'negative', 'negative', 'negative', 'negative',\n",
       "       'negative', 'negative', 'negative', 'negative', 'negative',\n",
       "       'negative', 'negative', 'negative', 'negative', 'negative',\n",
       "       'negative', 'negative', 'negative', 'negative', 'negative',\n",
       "       'negative', 'negative', 'negative', 'negative', 'negative',\n",
       "       'negative', 'negative', 'negative', 'negative', 'negative',\n",
       "       'negative', 'negative', 'negative', 'negative', 'negative',\n",
       "       'negative', 'negative', 'negative', 'negative', 'positive',\n",
       "       'negative', 'negative', 'negative', 'negative', 'negative',\n",
       "       'negative', 'negative', 'negative', 'negative', 'negative',\n",
       "       'negative', 'negative', 'negative', 'negative', 'negative',\n",
       "       'negative', 'negative', 'negative', 'negative', 'negative',\n",
       "       'negative', 'negative', 'negative', 'negative', 'negative',\n",
       "       'negative', 'negative', 'negative', 'negative', 'negative',\n",
       "       'negative', 'negative', 'negative', 'negative', 'negative',\n",
       "       'negative', 'negative', 'negative', 'negative', 'negative',\n",
       "       'negative', 'negative', 'negative', 'negative', 'negative',\n",
       "       'negative', 'negative', 'negative', 'negative', 'negative',\n",
       "       'negative', 'negative', 'negative', 'negative', 'negative',\n",
       "       'negative', 'negative', 'negative', 'negative', 'negative',\n",
       "       'negative', 'negative', 'negative', 'negative', 'negative',\n",
       "       'negative', 'negative', 'negative', 'negative', 'negative',\n",
       "       'negative', 'negative', 'negative', 'negative', 'negative',\n",
       "       'negative', 'negative', 'negative', 'negative', 'negative',\n",
       "       'negative', 'negative', 'negative', 'negative', 'negative',\n",
       "       'negative', 'negative', 'negative', 'negative', 'negative',\n",
       "       'negative', 'negative', 'negative', 'negative', 'negative',\n",
       "       'negative', 'negative', 'negative', 'negative', 'negative',\n",
       "       'negative', 'negative', 'negative', 'negative', 'negative',\n",
       "       'negative', 'negative', 'negative', 'negative', 'negative',\n",
       "       'negative', 'negative', 'negative', 'negative', 'negative',\n",
       "       'negative', 'negative', 'negative', 'negative', 'negative',\n",
       "       'negative', 'negative', 'negative', 'negative', 'negative',\n",
       "       'negative', 'negative', 'negative', 'negative', 'negative',\n",
       "       'negative', 'negative', 'negative', 'negative', 'negative',\n",
       "       'negative', 'negative', 'negative', 'negative', 'negative',\n",
       "       'negative', 'negative'], dtype='<U8')"
      ]
     },
     "execution_count": 133,
     "metadata": {},
     "output_type": "execute_result"
    },
    {
     "data": {
      "image/png": "[encoded data removed]",
      "text/plain": [
       "<Figure size 432x288 with 2 Axes>"
      ]
     },
     "metadata": {
      "needs_background": "light"
     },
     "output_type": "display_data"
    }
   ],
   "source": [
    "BNBmodel = BernoulliNB()\n",
    "BNBmodel.fit(X_train, y_train)\n",
    "model_Evaluate(BNBmodel)\n",
    "y_pred1 = BNBmodel.predict(X_test)\n",
    "y_pred1"
   ]
  },
  {
   "cell_type": "code",
   "execution_count": 501,
   "id": "cffaaebc",
   "metadata": {},
   "outputs": [],
   "source": [
    "from sklearn.preprocessing import label_binarize\n",
    "from sklearn.multiclass import OneVsRestClassifier\n",
    "y = data['sentiment']\n",
    "from sklearn.multiclass import OneVsRestClassifier\n",
    "from sklearn.linear_model import LogisticRegression\n",
    "from sklearn.datasets import make_classification\n",
    "clf = BernoulliNB()\n",
    "clf.fit(X_train, y_train)\n",
    "\n",
    "pred = clf.predict(X_test)\n",
    "pred_prob = clf.predict_proba(X_test)"
   ]
  },
  {
   "cell_type": "markdown",
   "id": "a77ca901",
   "metadata": {},
   "source": [
    "### Linear Regression"
   ]
  },
  {
   "cell_type": "code",
   "execution_count": 503,
   "id": "d550dc97",
   "metadata": {
    "scrolled": true
   },
   "outputs": [
    {
     "name": "stdout",
     "output_type": "stream",
     "text": [
      "              precision    recall  f1-score   support\n",
      "\n",
      "    negative       0.80      0.99      0.89       144\n",
      "    positive       0.92      0.25      0.39        48\n",
      "\n",
      "    accuracy                           0.81       192\n",
      "   macro avg       0.86      0.62      0.64       192\n",
      "weighted avg       0.83      0.81      0.76       192\n",
      "\n"
     ]
    },
    {
     "data": {
      "image/png": "[encoded data removed]",
      "text/plain": [
       "<Figure size 432x288 with 2 Axes>"
      ]
     },
     "metadata": {
      "needs_background": "light"
     },
     "output_type": "display_data"
    }
   ],
   "source": [
    "LRmodel = LogisticRegression(C = 2, max_iter = 1000, n_jobs=-1)\n",
    "LRmodel.fit(X_train, y_train)\n",
    "model_Evaluate(LRmodel)\n",
    "y_pred3 = LRmodel.predict(X_test)"
   ]
  },
  {
   "cell_type": "markdown",
   "id": "43385f36",
   "metadata": {},
   "source": [
    "### KNN"
   ]
  },
  {
   "cell_type": "code",
   "execution_count": 504,
   "id": "98136cd0",
   "metadata": {
    "scrolled": true
   },
   "outputs": [
    {
     "name": "stdout",
     "output_type": "stream",
     "text": [
      "              precision    recall  f1-score   support\n",
      "\n",
      "    negative       0.79      0.90      0.84       144\n",
      "    positive       0.50      0.29      0.37        48\n",
      "\n",
      "    accuracy                           0.75       192\n",
      "   macro avg       0.65      0.60      0.61       192\n",
      "weighted avg       0.72      0.75      0.73       192\n",
      "\n"
     ]
    },
    {
     "data": {
      "text/plain": [
       "0.75"
      ]
     },
     "execution_count": 504,
     "metadata": {},
     "output_type": "execute_result"
    },
    {
     "data": {
      "image/png": "[encoded data removed]",
      "text/plain": [
       "<Figure size 432x288 with 2 Axes>"
      ]
     },
     "metadata": {
      "needs_background": "light"
     },
     "output_type": "display_data"
    }
   ],
   "source": [
    "from sklearn.neighbors import KNeighborsClassifier\n",
    "KNN = KNeighborsClassifier(n_neighbors=5)\n",
    "KNN.fit(X_train, y_train)\n",
    "model_Evaluate(KNN)\n",
    "y_pred4 = KNN.predict(X_test)\n",
    "accuracy_score(y_test, y_pred4)"
   ]
  },
  {
   "cell_type": "code",
   "execution_count": 134,
   "id": "7629b362",
   "metadata": {
    "scrolled": true
   },
   "outputs": [
    {
     "name": "stdout",
     "output_type": "stream",
     "text": [
      "              precision    recall  f1-score   support\n",
      "\n",
      "    negative       0.79      0.89      0.83       141\n",
      "    positive       0.52      0.33      0.40        51\n",
      "\n",
      "    accuracy                           0.74       192\n",
      "   macro avg       0.65      0.61      0.62       192\n",
      "weighted avg       0.71      0.74      0.72       192\n",
      "\n"
     ]
    },
    {
     "data": {
      "text/plain": [
       "0.7395833333333334"
      ]
     },
     "execution_count": 134,
     "metadata": {},
     "output_type": "execute_result"
    },
    {
     "data": {
      "image/png": "[encoded data removed]",
      "text/plain": [
       "<Figure size 432x288 with 2 Axes>"
      ]
     },
     "metadata": {
      "needs_background": "light"
     },
     "output_type": "display_data"
    }
   ],
   "source": [
    "from sklearn.neighbors import KNeighborsClassifier\n",
    "KNN = KNeighborsClassifier(n_neighbors=3)\n",
    "KNN.fit(X_train, y_train)\n",
    "model_Evaluate(KNN)\n",
    "y_pred4 = KNN.predict(X_test)\n",
    "accuracy_score(y_test, y_pred4)"
   ]
  },
  {
   "cell_type": "markdown",
   "id": "f704ddce",
   "metadata": {},
   "source": [
    "### Comparing performance"
   ]
  },
  {
   "cell_type": "code",
   "execution_count": 771,
   "id": "8833dff7",
   "metadata": {},
   "outputs": [
    {
     "data": {
      "image/png": "[encoded data removed]",
      "text/plain": [
       "<Figure size 432x288 with 1 Axes>"
      ]
     },
     "metadata": {
      "needs_background": "light"
     },
     "output_type": "display_data"
    }
   ],
   "source": [
    "import matplotlib.pyplot as plt\n",
    "\n",
    "# x-coordinates of left sides of bars\n",
    "left = [1, 2, 3, 4]\n",
    "\n",
    "# heights of bars\n",
    "height = [79,74,81,75,74]\n",
    "\n",
    "# labels for bars\n",
    "tick_label = ['LSTM', 'NB', 'LR', 'KNN(5)' , 'KNN(3)']\n",
    "\n",
    "# plotting a bar chart\n",
    "plt.bar(left, height, tick_label = tick_label,\n",
    "\t\twidth = 0.8, color = ['red', 'green'])\n",
    "\n",
    "# naming the x-axis\n",
    "plt.xlabel('Model/Classifier')\n",
    "# naming the y-axis\n",
    "plt.ylabel('Accuracy')\n",
    "# plot title\n",
    "plt.title('Accuracy Comparison')\n",
    "\n",
    "# function to show the plot\n",
    "plt.show()\n"
   ]
  },
  {
   "cell_type": "markdown",
   "id": "adeb5c94",
   "metadata": {},
   "source": [
    "### Summarisation"
   ]
  },
  {
   "cell_type": "code",
   "execution_count": 136,
   "id": "f7ea230b",
   "metadata": {},
   "outputs": [],
   "source": [
    "dfs = pd.read_csv('lda_op.csv')\n",
    "dfs['tweet_processed'] = dfs['tweet_processed'] + '.'"
   ]
  },
  {
   "cell_type": "code",
   "execution_count": 137,
   "id": "e1788afd",
   "metadata": {},
   "outputs": [
    {
     "data": {
      "text/html": [
       "<div>\n",
       "<style scoped>\n",
       "    .dataframe tbody tr th:only-of-type {\n",
       "        vertical-align: middle;\n",
       "    }\n",
       "\n",
       "    .dataframe tbody tr th {\n",
       "        vertical-align: top;\n",
       "    }\n",
       "\n",
       "    .dataframe thead th {\n",
       "        text-align: right;\n",
       "    }\n",
       "</style>\n",
       "<table border=\"1\" class=\"dataframe\">\n",
       "  <thead>\n",
       "    <tr style=\"text-align: right;\">\n",
       "      <th></th>\n",
       "      <th>Unnamed: 0</th>\n",
       "      <th>tweet_processed</th>\n",
       "      <th>Topics</th>\n",
       "    </tr>\n",
       "  </thead>\n",
       "  <tbody>\n",
       "    <tr>\n",
       "      <th>0</th>\n",
       "      <td>1398.0</td>\n",
       "      <td>hand hygiene is one of the most effective acti...</td>\n",
       "      <td>cases</td>\n",
       "    </tr>\n",
       "    <tr>\n",
       "      <th>1</th>\n",
       "      <td>1910.0</td>\n",
       "      <td>covid south african variant detected in india ...</td>\n",
       "      <td>cases</td>\n",
       "    </tr>\n",
       "    <tr>\n",
       "      <th>2</th>\n",
       "      <td>1908.0</td>\n",
       "      <td>india sends free covaxin covishield vaccines t...</td>\n",
       "      <td>cases</td>\n",
       "    </tr>\n",
       "    <tr>\n",
       "      <th>3</th>\n",
       "      <td>401.0</td>\n",
       "      <td>omicron ba sub-variant nearly a quarter of new...</td>\n",
       "      <td>cases</td>\n",
       "    </tr>\n",
       "    <tr>\n",
       "      <th>4</th>\n",
       "      <td>705.0</td>\n",
       "      <td>deltacron variant of covid- reaches india.</td>\n",
       "      <td>cases</td>\n",
       "    </tr>\n",
       "    <tr>\n",
       "      <th>...</th>\n",
       "      <td>...</td>\n",
       "      <td>...</td>\n",
       "      <td>...</td>\n",
       "    </tr>\n",
       "    <tr>\n",
       "      <th>1902</th>\n",
       "      <td>267.0</td>\n",
       "      <td>covid completely killed every other virus and ...</td>\n",
       "      <td>work</td>\n",
       "    </tr>\n",
       "    <tr>\n",
       "      <th>1903</th>\n",
       "      <td>271.0</td>\n",
       "      <td>there is need for big pharma companies  partic...</td>\n",
       "      <td>work</td>\n",
       "    </tr>\n",
       "    <tr>\n",
       "      <th>1904</th>\n",
       "      <td>276.0</td>\n",
       "      <td>we have many unnatural elements come into our ...</td>\n",
       "      <td>work</td>\n",
       "    </tr>\n",
       "    <tr>\n",
       "      <th>1905</th>\n",
       "      <td>1244.0</td>\n",
       "      <td>t - triumph yes we will triumph over pandemic.</td>\n",
       "      <td>work</td>\n",
       "    </tr>\n",
       "    <tr>\n",
       "      <th>1906</th>\n",
       "      <td>272.0</td>\n",
       "      <td>hello i'm writing this to talk about our missi...</td>\n",
       "      <td>work</td>\n",
       "    </tr>\n",
       "  </tbody>\n",
       "</table>\n",
       "<p>1907 rows × 3 columns</p>\n",
       "</div>"
      ],
      "text/plain": [
       "      Unnamed: 0                                    tweet_processed Topics\n",
       "0         1398.0  hand hygiene is one of the most effective acti...  cases\n",
       "1         1910.0  covid south african variant detected in india ...  cases\n",
       "2         1908.0  india sends free covaxin covishield vaccines t...  cases\n",
       "3          401.0  omicron ba sub-variant nearly a quarter of new...  cases\n",
       "4          705.0         deltacron variant of covid- reaches india.  cases\n",
       "...          ...                                                ...    ...\n",
       "1902       267.0  covid completely killed every other virus and ...   work\n",
       "1903       271.0  there is need for big pharma companies  partic...   work\n",
       "1904       276.0  we have many unnatural elements come into our ...   work\n",
       "1905      1244.0     t - triumph yes we will triumph over pandemic.   work\n",
       "1906       272.0  hello i'm writing this to talk about our missi...   work\n",
       "\n",
       "[1907 rows x 3 columns]"
      ]
     },
     "execution_count": 137,
     "metadata": {},
     "output_type": "execute_result"
    }
   ],
   "source": [
    "dfs"
   ]
  },
  {
   "cell_type": "code",
   "execution_count": 138,
   "id": "decebde8",
   "metadata": {},
   "outputs": [],
   "source": [
    "pd.set_option('display.max_columns', None)  # or 1000\n",
    "pd.set_option('display.max_rows', None)  # or 1000\n",
    "pd.set_option('display.max_colwidth', None)  # or 199\n",
    "Topics = [\"health\" , \"cases\" , \"economy\" ,\"lockdown\" , \"work\"  , \"impact on people\" , \"vaccine\"]\n",
    "sentences = [] \n",
    "for topic in Topics:     \n",
    "    x = str(dfs['tweet_processed'].loc[dfs['Topics'] == topic])\n",
    "    pattern = r'[0-9]'\n",
    "    y = re.sub(pattern, '', x)\n",
    "    y = re.sub(\"\\\\n\",\"\",y)\n",
    "    y = re.sub(' +', ' ', y)\n",
    "    sentences.append(y)"
   ]
  },
  {
   "cell_type": "code",
   "execution_count": 139,
   "id": "c247b87a",
   "metadata": {},
   "outputs": [],
   "source": [
    "for i in range(0,len(sentences)):\n",
    "    sentences[i] = sentences[i].replace(\"\\\\n\" , \" \")\n"
   ]
  },
  {
   "cell_type": "code",
   "execution_count": 140,
   "id": "b58dc7f1",
   "metadata": {},
   "outputs": [],
   "source": [
    "import regex as re"
   ]
  },
  {
   "cell_type": "code",
   "execution_count": 141,
   "id": "c6453019",
   "metadata": {},
   "outputs": [
    {
     "name": "stderr",
     "output_type": "stream",
     "text": [
      "C:\\Users\\aparn\\anaconda3\\lib\\site-packages\\packaging\\version.py:111: DeprecationWarning: Creating a LegacyVersion has been deprecated and will be removed in the next major release\n",
      "  warnings.warn(\n"
     ]
    }
   ],
   "source": [
    "from transformers import T5Tokenizer, T5ForConditionalGeneration"
   ]
  },
  {
   "cell_type": "code",
   "execution_count": 142,
   "id": "c22dfb1d",
   "metadata": {
    "scrolled": true
   },
   "outputs": [],
   "source": [
    "def clean(x):\n",
    "    x = re.sub('[#,\\\\!?=()]', '', x) #remove special characters \n",
    "    x = re.sub('\\\\n', '', x) #remove special characters \n",
    "    x = re.sub('\\\\r', '', x) #remove special characters \n",
    "    x = re.sub(\"\\\\n\",\" \" , x)\n",
    "    x= re.sub(' +', ' ', x)\n",
    "    return x \n"
   ]
  },
  {
   "cell_type": "code",
   "execution_count": 143,
   "id": "728324bb",
   "metadata": {
    "scrolled": true
   },
   "outputs": [],
   "source": [
    "for i in range (0,len(sentences)): \n",
    "    sentences[i] = clean(sentences[i])"
   ]
  },
  {
   "cell_type": "code",
   "execution_count": 144,
   "id": "b1a13b8f",
   "metadata": {},
   "outputs": [],
   "source": [
    "T5_PATH = 't5-large' # T5 model name\n",
    "\n",
    "# initialize the model architecture and weights\n",
    "\n",
    "t5_model = T5ForConditionalGeneration.from_pretrained(T5_PATH)\n",
    "\n",
    "# initialize the model tokenizer\n",
    "\n",
    "t5_tokenizer = T5Tokenizer.from_pretrained(T5_PATH)"
   ]
  },
  {
   "cell_type": "code",
   "execution_count": 145,
   "id": "4da53145",
   "metadata": {},
   "outputs": [],
   "source": [
    "def generate_summary1(tweet_data):\n",
    "    #from transformers import T5Tokenizer, T5ForConditionalGeneration\n",
    "    model = T5ForConditionalGeneration.from_pretrained('t5-base')\n",
    "    tokenizer = T5Tokenizer.from_pretrained('t5-base')\n",
    "    text = tweet_data\n",
    "    Preprocessed_text = \"Summary: \"+ text \n",
    "    tokens_input = tokenizer.encode(Preprocessed_text,return_tensors=\"pt\", max_length=10000, truncation=True)\n",
    "    summary_ids = model.generate(tokens_input, min_length=45,max_length=450,length_penalty=4)\n",
    "    summary = tokenizer.decode(summary_ids[0])\n",
    "\n",
    "    #print(summary)\n",
    "    def remove_unwanted(text):\n",
    "        text = re.sub(r'<extra_id_1>', \"\" , text) \n",
    "        text = text.lstrip('<pad>')\n",
    "        text = re.sub(r'</s>', \"\" , text) \n",
    "        return text\n",
    "    final = remove_unwanted(summary)\n",
    "    \n",
    "    print(final)\n",
    "    return final"
   ]
  },
  {
   "cell_type": "markdown",
   "id": "4b201a3b",
   "metadata": {},
   "source": [
    "### Using Pipeline"
   ]
  },
  {
   "cell_type": "code",
   "execution_count": 146,
   "id": "7fae87ce",
   "metadata": {},
   "outputs": [],
   "source": [
    "import transformers\n",
    "from transformers import pipeline"
   ]
  },
  {
   "cell_type": "code",
   "execution_count": 147,
   "id": "422fa454",
   "metadata": {},
   "outputs": [],
   "source": [
    "summarizer = pipeline(\"summarization\")\n"
   ]
  },
  {
   "cell_type": "code",
   "execution_count": 164,
   "id": "03dc2ed7",
   "metadata": {},
   "outputs": [],
   "source": [
    "y = \" covid lockdown worst phase of life. we must wear our masks right not for ourself but for our loved ones. speak for yourself masks are a major hindrance they are hideous to wear esp for many hours most people don't wear them properly amp; most spread is in private homes universal masking is pointless in that sense vaccines were meant to end this totalitarian nonsense covid. due to corona lockdown s have lost their earnings shri yog vedant seva samiti bengaluru inspired by sant shri asharamji bapu distributed ration kits to families of daily wages labourers in bengaluru. lockdown amid covid pandemic has majorly affected people who are dependent on daily wages for their survival. this just means the vaxxes are working yeah auspol covidvic covidaus covidvaccine covid auspol coviduk covidsa covidnsw covidqld covidwa covidnt covidtas . one of best solutions is use of container in form of instant hospital and quarantine to fight against covid- penadmic. we love this resource by the on how to talk to your friends and family members about the covidvaccine vaccinessavelives getthevax . mask is now a part of our lifestyle wear your mask correctly. fight against covid- stayhomestaysafe. i got my second booster today i am doing my part to stay alive please do your part get vaccinated wear masks and wash your hands if you are doing those things - thank you disablednurse covidvaccine covidisnotover . this is how up roadways playing with life and fallowing social distancing. stop covid delhi. covid restrictions to be lifted in india from march however wearing masks amp; maintaining social distancing norms will stay tni insight covid coronavirusupdate . vaccination campaign against covid will be held every tuesday for expats at two medical fitness centres . i'm sick and tired of being responsible for someone else's fears i'm not responsible for your health either if you're worried wear a mask social distance or just stay home stop pretending you have the right to make me do it for \""
   ]
  },
  {
   "cell_type": "code",
   "execution_count": null,
   "id": "fc63d312",
   "metadata": {
    "scrolled": false
   },
   "outputs": [
    {
     "name": "stdout",
     "output_type": "stream",
     "text": [
      "lockdown :\n",
      "Using T5\n"
     ]
    },
    {
     "name": "stderr",
     "output_type": "stream",
     "text": [
      "Your max_length is set to 1000.0, but you input_length is only 454. You might consider decreasing max_length manually, e.g. summarizer('...', max_length=50)\n"
     ]
    },
    {
     "name": "stdout",
     "output_type": "stream",
     "text": [
      " covid restrictions to be lifted in india from march. however wearing masks amp; maintaining social distancing norms will stay. i'm sick and tired of being responsible for someone else's fears.\n",
      "Pipeline\n"
     ]
    }
   ],
   "source": [
    "print(Topics[3] , \":\") \n",
    "print(\"Using T5\")\n",
    "model = []\n",
    "model.append(generate_summary1(y))\n",
    "ref = []\n",
    "print(\"Pipeline\")\n",
    "print(ref.append(summarizer(y,min_length=75, max_length=len(y)/2)[0]['summary_text']))"
   ]
  },
  {
   "cell_type": "markdown",
   "id": "930e30ca",
   "metadata": {},
   "source": [
    "### Rouge Score"
   ]
  },
  {
   "cell_type": "code",
   "execution_count": 150,
   "id": "3bd22cb3",
   "metadata": {},
   "outputs": [],
   "source": [
    "from rouge import Rouge"
   ]
  },
  {
   "cell_type": "code",
   "execution_count": 151,
   "id": "74a99b9a",
   "metadata": {},
   "outputs": [],
   "source": [
    "rouge = Rouge()\n"
   ]
  },
  {
   "cell_type": "code",
   "execution_count": 157,
   "id": "048e1b12",
   "metadata": {},
   "outputs": [
    {
     "data": {
      "text/plain": [
       "{'rouge-1': {'r': 0.25, 'p': 0.5, 'f': 0.33333332888888895},\n",
       " 'rouge-2': {'r': 0.13333333333333333,\n",
       "  'p': 0.3448275862068966,\n",
       "  'f': 0.19230768828587286},\n",
       " 'rouge-l': {'r': 0.25, 'p': 0.5, 'f': 0.33333332888888895}}"
      ]
     },
     "execution_count": 157,
     "metadata": {},
     "output_type": "execute_result"
    }
   ],
   "source": [
    "rouge.get_scores(model, ref, avg=True)\n"
   ]
  },
  {
   "cell_type": "code",
   "execution_count": 158,
   "id": "bd5a9130",
   "metadata": {},
   "outputs": [
    {
     "data": {
      "text/plain": [
       "{'rouge-1': {'r': 0.5, 'p': 0.25, 'f': 0.33333332888888895},\n",
       " 'rouge-2': {'r': 0.3448275862068966,\n",
       "  'p': 0.13333333333333333,\n",
       "  'f': 0.19230768828587286},\n",
       " 'rouge-l': {'r': 0.5, 'p': 0.25, 'f': 0.33333332888888895}}"
      ]
     },
     "execution_count": 158,
     "metadata": {},
     "output_type": "execute_result"
    }
   ],
   "source": [
    "rouge.get_scores(ref, model, avg=True)\n"
   ]
  }
 ],
 "metadata": {
  "kernelspec": {
   "display_name": "Python 3 (ipykernel)",
   "language": "python",
   "name": "python3"
  },
  "language_info": {
   "codemirror_mode": {
    "name": "ipython",
    "version": 3
   },
   "file_extension": ".py",
   "mimetype": "text/x-python",
   "name": "python",
   "nbconvert_exporter": "python",
   "pygments_lexer": "ipython3",
   "version": "3.11.5"
  }
 },
 "nbformat": 4,
 "nbformat_minor": 5
}
